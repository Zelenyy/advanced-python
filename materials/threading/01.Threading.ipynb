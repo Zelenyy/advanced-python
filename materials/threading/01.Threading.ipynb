{
 "cells": [
  {
   "cell_type": "code",
   "execution_count": 1,
   "metadata": {
    "collapsed": true,
    "pycharm": {
     "name": "#%%\n"
    }
   },
   "outputs": [],
   "source": [
    "import os\n",
    "import time\n",
    "\n",
    "from mandelbrot import mandelbrot"
   ]
  },
  {
   "cell_type": "markdown",
   "source": [
    "# Многопоточноть, многоядерность, асинхронность и параллелизм\n",
    "\n",
    "* Процессор\n",
    "* Физическое ядро процессора + сопроцессор\n",
    "* Логическое ядро процессора (`Hyper-threading`)\n",
    "* Поток (`thread`) операционной системы\n",
    "* Корутина (\"зелёный\" поток, легковесный поток, горутина)\n",
    "\n",
    "## Модуль `threading`\n",
    "\n"
   ],
   "metadata": {
    "collapsed": false,
    "pycharm": {
     "name": "#%% md\n"
    }
   }
  },
  {
   "cell_type": "markdown",
   "source": [
    "## Модуль `multiprocessing`"
   ],
   "metadata": {
    "collapsed": false,
    "pycharm": {
     "name": "#%% md\n"
    }
   }
  },
  {
   "cell_type": "code",
   "execution_count": 8,
   "outputs": [],
   "source": [
    "from multiprocessing import Pool\n",
    "\n",
    "def f(x):\n",
    "    return x*x"
   ],
   "metadata": {
    "collapsed": false,
    "pycharm": {
     "name": "#%%\n"
    }
   }
  },
  {
   "cell_type": "code",
   "execution_count": 2,
   "outputs": [
    {
     "name": "stdout",
     "output_type": "stream",
     "text": [
      "[1, 4, 9]\n"
     ]
    }
   ],
   "source": [
    "with Pool(5) as p:\n",
    "    print(p.map(f, [1, 2, 3]))"
   ],
   "metadata": {
    "collapsed": false,
    "pycharm": {
     "name": "#%%\n"
    }
   }
  },
  {
   "cell_type": "code",
   "execution_count": 3,
   "outputs": [],
   "source": [
    "def f(x):\n",
    "    time.sleep(x)\n",
    "    return x*x"
   ],
   "metadata": {
    "collapsed": false,
    "pycharm": {
     "name": "#%%\n"
    }
   }
  },
  {
   "cell_type": "code",
   "execution_count": 9,
   "outputs": [],
   "source": [
    "def g():\n",
    "\n",
    "    def h(x):\n",
    "        return 0\n",
    "\n",
    "    with Pool(os.cpu_count()) as p:\n",
    "        for i in p.imap_unordered(f, [3, 2, 1]):\n",
    "            print(i)"
   ],
   "metadata": {
    "collapsed": false,
    "pycharm": {
     "name": "#%%\n"
    }
   }
  },
  {
   "cell_type": "code",
   "execution_count": 10,
   "outputs": [
    {
     "name": "stdout",
     "output_type": "stream",
     "text": [
      "9\n",
      "4\n",
      "1\n"
     ]
    }
   ],
   "source": [
    "g()"
   ],
   "metadata": {
    "collapsed": false,
    "pycharm": {
     "name": "#%%\n"
    }
   }
  },
  {
   "cell_type": "markdown",
   "source": [
    "## Модуль `asyncio`"
   ],
   "metadata": {
    "collapsed": false,
    "pycharm": {
     "name": "#%% md\n"
    }
   }
  },
  {
   "cell_type": "code",
   "execution_count": 8,
   "outputs": [
    {
     "ename": "RuntimeError",
     "evalue": "asyncio.run() cannot be called from a running event loop",
     "output_type": "error",
     "traceback": [
      "\u001B[0;31m---------------------------------------------------------------------------\u001B[0m",
      "\u001B[0;31mRuntimeError\u001B[0m                              Traceback (most recent call last)",
      "\u001B[0;32m/tmp/ipykernel_40262/1677613815.py\u001B[0m in \u001B[0;36m<module>\u001B[0;34m\u001B[0m\n\u001B[1;32m     14\u001B[0m     \u001B[0mprint\u001B[0m\u001B[0;34m(\u001B[0m\u001B[0;34mf\"finished at {time.strftime('%X')}\"\u001B[0m\u001B[0;34m)\u001B[0m\u001B[0;34m\u001B[0m\u001B[0;34m\u001B[0m\u001B[0m\n\u001B[1;32m     15\u001B[0m \u001B[0;34m\u001B[0m\u001B[0m\n\u001B[0;32m---> 16\u001B[0;31m \u001B[0masyncio\u001B[0m\u001B[0;34m.\u001B[0m\u001B[0mrun\u001B[0m\u001B[0;34m(\u001B[0m\u001B[0mmain\u001B[0m\u001B[0;34m(\u001B[0m\u001B[0;34m)\u001B[0m\u001B[0;34m)\u001B[0m\u001B[0;34m\u001B[0m\u001B[0;34m\u001B[0m\u001B[0m\n\u001B[0m\u001B[1;32m     17\u001B[0m \u001B[0;34m\u001B[0m\u001B[0m\n",
      "\u001B[0;32m~/miniconda3/envs/sciprog/lib/python3.9/asyncio/runners.py\u001B[0m in \u001B[0;36mrun\u001B[0;34m(main, debug)\u001B[0m\n\u001B[1;32m     31\u001B[0m     \"\"\"\n\u001B[1;32m     32\u001B[0m     \u001B[0;32mif\u001B[0m \u001B[0mevents\u001B[0m\u001B[0;34m.\u001B[0m\u001B[0m_get_running_loop\u001B[0m\u001B[0;34m(\u001B[0m\u001B[0;34m)\u001B[0m \u001B[0;32mis\u001B[0m \u001B[0;32mnot\u001B[0m \u001B[0;32mNone\u001B[0m\u001B[0;34m:\u001B[0m\u001B[0;34m\u001B[0m\u001B[0;34m\u001B[0m\u001B[0m\n\u001B[0;32m---> 33\u001B[0;31m         raise RuntimeError(\n\u001B[0m\u001B[1;32m     34\u001B[0m             \"asyncio.run() cannot be called from a running event loop\")\n\u001B[1;32m     35\u001B[0m \u001B[0;34m\u001B[0m\u001B[0m\n",
      "\u001B[0;31mRuntimeError\u001B[0m: asyncio.run() cannot be called from a running event loop"
     ]
    }
   ],
   "source": [
    "import asyncio\n",
    "import time\n",
    "\n",
    "async def say_after(delay, what):\n",
    "    await asyncio.sleep(delay)\n",
    "    print(time.strftime('%X'), what)\n",
    "\n",
    "async def main():\n",
    "    print(f\"started at {time.strftime('%X')}\")\n",
    "\n",
    "    await say_after(1, 'hello')\n",
    "    await say_after(2, 'world')\n",
    "\n",
    "    print(f\"finished at {time.strftime('%X')}\")\n",
    "\n",
    "asyncio.run(main())"
   ],
   "metadata": {
    "collapsed": false,
    "pycharm": {
     "name": "#%%\n"
    }
   }
  },
  {
   "cell_type": "code",
   "execution_count": 2,
   "outputs": [
    {
     "name": "stdout",
     "output_type": "stream",
     "text": [
      "started at 16:40:36\r\n",
      "16:40:38 hello\r\n",
      "16:40:38\r\n",
      "16:40:39 world\r\n",
      "finished at 16:40:39\r\n"
     ]
    }
   ],
   "source": [
    "!python async_example.py"
   ],
   "metadata": {
    "collapsed": false,
    "pycharm": {
     "name": "#%%\n"
    }
   }
  },
  {
   "cell_type": "code",
   "execution_count": null,
   "outputs": [],
   "source": [
    "!python async_example_task.py"
   ],
   "metadata": {
    "collapsed": false,
    "pycharm": {
     "name": "#%%\n"
    }
   }
  },
  {
   "cell_type": "markdown",
   "source": [
    "## Summarize\n",
    "\n",
    "|Тип|Блокировка|Количество потоков|Количество ядер|\n",
    "|-----|----|----|----|\n",
    "Обычное выполнение скрипта | Да | Один | Одно|\n",
    "`threading`| Нет| Много | Одно |\n",
    "`asyncio` | Нет, для корутин (выгодно при наличии внешних задержек) | Один | Одно|\n",
    "`multyprocessing` |Нет| Много| Много |\n",
    "`ThreadPoolExecutor` by `threading`| Нет| Много| Одно|\n",
    "`ProcessPoolExecutor` by `multyprocessing`| Нет| Много| Много|\n",
    "\n"
   ],
   "metadata": {
    "collapsed": false,
    "pycharm": {
     "name": "#%% md\n"
    }
   }
  },
  {
   "cell_type": "markdown",
   "source": [
    "## Модуль `subprocess`"
   ],
   "metadata": {
    "collapsed": false,
    "pycharm": {
     "name": "#%% md\n"
    }
   }
  },
  {
   "cell_type": "code",
   "execution_count": 1,
   "outputs": [
    {
     "name": "stdout",
     "output_type": "stream",
     "text": [
      "total 68\n",
      "-rw-rw-r-- 1 zelenyy zelenyy 7791 Oct  5 17:58 01.Threading.ipynb\n",
      "-rw-rw-r-- 1 zelenyy zelenyy  521 Oct  5 16:51 async_example.py\n",
      "-rw-rw-r-- 1 zelenyy zelenyy  678 Oct  5 17:36 async_example_task.py\n",
      "-rw-rw-r-- 1 zelenyy zelenyy  571 Oct  5 15:29 async_mandelbrot.py\n",
      "-rw-rw-r-- 1 zelenyy zelenyy  525 Oct  5 17:46 async_time.py\n",
      "-rw-rw-r-- 1 zelenyy zelenyy  315 Oct  5 14:29 blocking_console.py\n",
      "-rw-rw-r-- 1 zelenyy zelenyy  383 Oct  5 17:23 blocking_time.py\n",
      "-rw-rw-r-- 1 zelenyy zelenyy  565 Oct  5 14:46 mandelbrot.py\n",
      "-rw-rw-r-- 1 zelenyy zelenyy  521 Oct  5 15:59 multiprocessing_console.py\n",
      "-rw-rw-r-- 1 zelenyy zelenyy  574 Oct  5 17:30 multiprocessing_time.py\n",
      "-rw-rw-r-- 1 zelenyy zelenyy  603 Oct  5 15:52 process_pool_executor_time.py\n",
      "drwxrwxr-x 2 zelenyy zelenyy 4096 Oct  5 15:36 __pycache__\n",
      "-rw-rw-r-- 1 zelenyy zelenyy  508 Oct  5 17:17 threading_console.py\n",
      "-rw-rw-r-- 1 zelenyy zelenyy  558 Oct  5 17:50 threading_time.py\n",
      "-rw-rw-r-- 1 zelenyy zelenyy  593 Oct  5 16:09 threading_t"
     ]
    },
    {
     "data": {
      "text/plain": "CompletedProcess(args=['ls', '-l'], returncode=0)"
     },
     "execution_count": 1,
     "metadata": {},
     "output_type": "execute_result"
    },
    {
     "name": "stdout",
     "output_type": "stream",
     "text": [
      "k.py\n",
      "-rw-rw-r-- 1 zelenyy zelenyy  601 Oct  5 17:50 thread_pool_executor_time.py\n"
     ]
    }
   ],
   "source": [
    "import subprocess\n",
    "subprocess.run([\"ls\", \"-l\"])"
   ],
   "metadata": {
    "collapsed": false,
    "pycharm": {
     "name": "#%%\n"
    }
   }
  },
  {
   "cell_type": "code",
   "execution_count": 4,
   "outputs": [
    {
     "data": {
      "text/plain": "b'\\x80\\x04\\x95\\x12\\x00\\x00\\x00\\x00\\x00\\x00\\x00\\x8c\\x08__main__\\x94\\x8c\\x01f\\x94\\x93\\x94.'"
     },
     "execution_count": 4,
     "metadata": {},
     "output_type": "execute_result"
    }
   ],
   "source": [
    "import pickle\n",
    "pickle.dumps(f)"
   ],
   "metadata": {
    "collapsed": false,
    "pycharm": {
     "name": "#%%\n"
    }
   }
  },
  {
   "cell_type": "code",
   "execution_count": 5,
   "outputs": [],
   "source": [
    "import numpy as np"
   ],
   "metadata": {
    "collapsed": false,
    "pycharm": {
     "name": "#%%\n"
    }
   }
  },
  {
   "cell_type": "code",
   "execution_count": 7,
   "outputs": [],
   "source": [
    "data = pickle.dumps(np.ones(10))"
   ],
   "metadata": {
    "collapsed": false,
    "pycharm": {
     "name": "#%%\n"
    }
   }
  },
  {
   "cell_type": "code",
   "execution_count": 8,
   "outputs": [],
   "source": [
    "array = pickle.loads(data)"
   ],
   "metadata": {
    "collapsed": false,
    "pycharm": {
     "name": "#%%\n"
    }
   }
  },
  {
   "cell_type": "code",
   "execution_count": null,
   "outputs": [],
   "source": [],
   "metadata": {
    "collapsed": false,
    "pycharm": {
     "name": "#%%\n"
    }
   }
  }
 ],
 "metadata": {
  "kernelspec": {
   "display_name": "Python 3",
   "language": "python",
   "name": "python3"
  },
  "language_info": {
   "codemirror_mode": {
    "name": "ipython",
    "version": 2
   },
   "file_extension": ".py",
   "mimetype": "text/x-python",
   "name": "python",
   "nbconvert_exporter": "python",
   "pygments_lexer": "ipython2",
   "version": "2.7.6"
  }
 },
 "nbformat": 4,
 "nbformat_minor": 0
}