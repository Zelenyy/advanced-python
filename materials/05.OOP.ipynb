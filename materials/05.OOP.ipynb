{
 "cells": [
  {
   "cell_type": "markdown",
   "id": "bd4710cb-372a-4ad7-9b2d-94e474de2663",
   "metadata": {
    "pycharm": {
     "name": "#%% md\n"
    }
   },
   "source": [
    "# Объектно-ориентированное программирование"
   ]
  },
  {
   "cell_type": "markdown",
   "id": "63ff2630-50ff-4e31-99b7-c8c4714ae85f",
   "metadata": {
    "tags": [],
    "toc-hr-collapsed": true,
    "pycharm": {
     "name": "#%% md\n"
    }
   },
   "source": [
    "## Объявление класса\n",
    "\n",
    "* Все обычные поля класса публичные\n",
    "* Все методы класса виртуальные\n",
    "* Методы явно принимают экземпляр класса как первый аргумент"
   ]
  },
  {
   "cell_type": "code",
   "execution_count": 5,
   "id": "7c6098d7-18fe-4144-818a-197d549ceaea",
   "metadata": {
    "tags": [],
    "pycharm": {
     "name": "#%%\n"
    }
   },
   "outputs": [],
   "source": [
    "import abc\n",
    "\n",
    "\n",
    "class Vector2D:\n",
    "    x = 0\n",
    "    y = 0\n",
    "    \n",
    "    def norm(self):\n",
    "        return (self.x**2 + self.y**2)**0.5\n",
    "\n",
    "vec = Vector2D()\n",
    "\n",
    "def norm(self):\n",
    "    return (self.x**2 + self.y**2)**0.5"
   ]
  },
  {
   "cell_type": "code",
   "execution_count": 5,
   "id": "bb115be7-7ec7-46d5-887f-8af9d6af72c3",
   "metadata": {
    "pycharm": {
     "name": "#%%\n"
    }
   },
   "outputs": [
    {
     "data": {
      "text/plain": [
       "7.0710678118654755"
      ]
     },
     "execution_count": 5,
     "metadata": {},
     "output_type": "execute_result"
    }
   ],
   "source": [
    "vec.x = 5\n",
    "vec.y = 5\n",
    "vec.norm()"
   ]
  },
  {
   "cell_type": "code",
   "execution_count": 6,
   "id": "da968f04-c99b-446c-85c6-fb21324bd9de",
   "metadata": {
    "pycharm": {
     "name": "#%%\n"
    }
   },
   "outputs": [
    {
     "data": {
      "text/plain": [
       "7.0710678118654755"
      ]
     },
     "execution_count": 6,
     "metadata": {},
     "output_type": "execute_result"
    }
   ],
   "source": [
    "norm(vec)"
   ]
  },
  {
   "cell_type": "markdown",
   "id": "23d6d775-c13e-4a19-bad0-0fb28cef3040",
   "metadata": {
    "tags": [],
    "pycharm": {
     "name": "#%% md\n"
    }
   },
   "source": [
    "## Больше о полях и методах\n",
    "\n",
    "### Data attributess"
   ]
  },
  {
   "cell_type": "code",
   "execution_count": 14,
   "id": "dd5f69a7-d3a5-4a0b-ba5d-6e60c7de03f8",
   "metadata": {
    "pycharm": {
     "name": "#%%\n"
    }
   },
   "outputs": [
    {
     "data": {
      "text/plain": [
       "10"
      ]
     },
     "execution_count": 14,
     "metadata": {},
     "output_type": "execute_result"
    }
   ],
   "source": [
    "vec.z = 10\n",
    "vec.z"
   ]
  },
  {
   "cell_type": "code",
   "execution_count": 15,
   "id": "82b8673f-4775-4a46-9cce-933bce7b6c01",
   "metadata": {
    "pycharm": {
     "name": "#%%\n"
    }
   },
   "outputs": [],
   "source": [
    "del vec.z\n",
    "vec.z"
   ]
  },
  {
   "cell_type": "code",
   "execution_count": 6,
   "id": "858026a0-7a78-4b5e-a85a-88b318b8996d",
   "metadata": {
    "pycharm": {
     "name": "#%%\n"
    }
   },
   "outputs": [
    {
     "ename": "AttributeError",
     "evalue": "x",
     "output_type": "error",
     "traceback": [
      "\u001B[0;31m---------------------------------------------------------------------------\u001B[0m",
      "\u001B[0;31mAttributeError\u001B[0m                            Traceback (most recent call last)",
      "Cell \u001B[0;32mIn [6], line 1\u001B[0m\n\u001B[0;32m----> 1\u001B[0m \u001B[38;5;28;01mdel\u001B[39;00m vec\u001B[38;5;241m.\u001B[39mx\n\u001B[1;32m      2\u001B[0m vec\u001B[38;5;241m.\u001B[39mx\n",
      "\u001B[0;31mAttributeError\u001B[0m: x"
     ]
    }
   ],
   "source": [
    "del vec.x\n",
    "vec.x"
   ]
  },
  {
   "cell_type": "markdown",
   "id": "2918ed30-f6e4-48e2-9f6a-b1b957e660f3",
   "metadata": {
    "pycharm": {
     "name": "#%% md\n"
    }
   },
   "source": [
    "### Все в Python это объекты, классы это тоже объекты"
   ]
  },
  {
   "cell_type": "code",
   "execution_count": 17,
   "id": "2c0f12b7-06d9-488a-ae84-792747c5347b",
   "metadata": {
    "pycharm": {
     "name": "#%%\n"
    }
   },
   "outputs": [
    {
     "data": {
      "text/plain": [
       "type"
      ]
     },
     "execution_count": 17,
     "metadata": {},
     "output_type": "execute_result"
    }
   ],
   "source": [
    "type(Vector2D) # Vector2D это экземпляр класса type"
   ]
  },
  {
   "cell_type": "code",
   "execution_count": 42,
   "id": "cc584a4d-e305-4d5d-9811-8fd90b464184",
   "metadata": {
    "pycharm": {
     "name": "#%%\n"
    }
   },
   "outputs": [
    {
     "data": {
      "text/plain": [
       "True"
      ]
     },
     "execution_count": 42,
     "metadata": {},
     "output_type": "execute_result"
    }
   ],
   "source": [
    "isinstance(Vector2D, object)"
   ]
  },
  {
   "cell_type": "code",
   "execution_count": 18,
   "id": "9333f4a6-691b-4cb9-8ea3-1d534112d26a",
   "metadata": {
    "pycharm": {
     "name": "#%%\n"
    }
   },
   "outputs": [
    {
     "data": {
      "text/plain": [
       "(0, 0)"
      ]
     },
     "execution_count": 18,
     "metadata": {},
     "output_type": "execute_result"
    }
   ],
   "source": [
    "Vector2D.x, Vector2D.y # x и y это аттрибуты класса"
   ]
  },
  {
   "cell_type": "code",
   "execution_count": 28,
   "id": "b8d3afd8-657c-446a-ab46-0ae3cdb796c0",
   "metadata": {
    "pycharm": {
     "name": "#%%\n"
    }
   },
   "outputs": [
    {
     "data": {
      "text/plain": [
       "5.0"
      ]
     },
     "execution_count": 28,
     "metadata": {},
     "output_type": "execute_result"
    }
   ],
   "source": [
    "Vector2D.norm(vec)"
   ]
  },
  {
   "cell_type": "markdown",
   "id": "5221e3ce-98f0-4ce7-8997-be40132d9471",
   "metadata": {
    "pycharm": {
     "name": "#%% md\n"
    }
   },
   "source": [
    "### Мутабельные объекты как аттрибуты класса это плохая идея"
   ]
  },
  {
   "cell_type": "code",
   "execution_count": 14,
   "id": "1aa915e4-32ab-410a-b093-e1b0e408a131",
   "metadata": {
    "pycharm": {
     "name": "#%%\n"
    }
   },
   "outputs": [],
   "source": [
    "class Foo:\n",
    "    bar = []"
   ]
  },
  {
   "cell_type": "code",
   "execution_count": 15,
   "id": "41471529-8785-4863-905b-c38625c3d245",
   "metadata": {
    "pycharm": {
     "name": "#%%\n"
    }
   },
   "outputs": [],
   "source": [
    "foo1 = Foo()\n",
    "foo2 = Foo()"
   ]
  },
  {
   "cell_type": "code",
   "execution_count": 16,
   "id": "0881fbb6-a76f-4494-ba1c-3c0602123d3f",
   "metadata": {
    "pycharm": {
     "name": "#%%\n"
    }
   },
   "outputs": [],
   "source": [
    "foo1.bar.append(\"spam\")"
   ]
  },
  {
   "cell_type": "code",
   "execution_count": 17,
   "id": "3c224f70-dfcd-441f-bbaa-fbab1c968f36",
   "metadata": {
    "pycharm": {
     "name": "#%%\n"
    }
   },
   "outputs": [
    {
     "data": {
      "text/plain": [
       "['spam']"
      ]
     },
     "execution_count": 17,
     "metadata": {},
     "output_type": "execute_result"
    }
   ],
   "source": [
    "foo2.bar"
   ]
  },
  {
   "cell_type": "markdown",
   "id": "cb06a210-6e09-4203-8a2d-866b63046954",
   "metadata": {
    "pycharm": {
     "name": "#%% md\n"
    }
   },
   "source": [
    "### Методы объекта отличаются от полей-функций объекта"
   ]
  },
  {
   "cell_type": "code",
   "execution_count": 36,
   "id": "d4becbc9-e9a9-46d3-9370-f0783e01bc37",
   "metadata": {
    "pycharm": {
     "name": "#%%\n"
    }
   },
   "outputs": [],
   "source": [
    "vec.func = lambda self : print(self.x)"
   ]
  },
  {
   "cell_type": "code",
   "execution_count": 37,
   "id": "94536c8d-1bd2-4f26-9cf2-959bf3ca2f12",
   "metadata": {
    "pycharm": {
     "name": "#%%\n"
    }
   },
   "outputs": [
    {
     "ename": "TypeError",
     "evalue": "<lambda>() missing 1 required positional argument: 'self'",
     "output_type": "error",
     "traceback": [
      "\u001B[0;31m---------------------------------------------------------------------------\u001B[0m",
      "\u001B[0;31mTypeError\u001B[0m                                 Traceback (most recent call last)",
      "\u001B[0;32m/tmp/ipykernel_3615/2340840830.py\u001B[0m in \u001B[0;36m<module>\u001B[0;34m\u001B[0m\n\u001B[0;32m----> 1\u001B[0;31m \u001B[0mvec\u001B[0m\u001B[0;34m.\u001B[0m\u001B[0mfunc\u001B[0m\u001B[0;34m(\u001B[0m\u001B[0;34m)\u001B[0m \u001B[0;31m# self не передается в поля-функции\u001B[0m\u001B[0;34m\u001B[0m\u001B[0;34m\u001B[0m\u001B[0m\n\u001B[0m",
      "\u001B[0;31mTypeError\u001B[0m: <lambda>() missing 1 required positional argument: 'self'"
     ]
    }
   ],
   "source": [
    "vec.func() # self не передается в поля-функции"
   ]
  },
  {
   "cell_type": "code",
   "execution_count": 38,
   "id": "385e688c-f2e2-4add-a18f-b110dc04dfbc",
   "metadata": {
    "pycharm": {
     "name": "#%%\n"
    }
   },
   "outputs": [
    {
     "data": {
      "text/plain": [
       "method"
      ]
     },
     "execution_count": 38,
     "metadata": {},
     "output_type": "execute_result"
    }
   ],
   "source": [
    "type(vec.norm)"
   ]
  },
  {
   "cell_type": "code",
   "execution_count": 39,
   "id": "da46e4c5-0bda-432f-b2a8-e67723904d41",
   "metadata": {
    "pycharm": {
     "name": "#%%\n"
    }
   },
   "outputs": [
    {
     "data": {
      "text/plain": [
       "function"
      ]
     },
     "execution_count": 39,
     "metadata": {},
     "output_type": "execute_result"
    }
   ],
   "source": [
    "type(vec.func)"
   ]
  },
  {
   "cell_type": "markdown",
   "id": "e4d7831f-cdff-4914-9bee-2629986ca385",
   "metadata": {
    "pycharm": {
     "name": "#%% md\n"
    }
   },
   "source": [
    "#### Но метод остается методом"
   ]
  },
  {
   "cell_type": "code",
   "execution_count": 25,
   "id": "48bc592d-cf00-48e6-b1ab-ff73fa8e6f39",
   "metadata": {
    "pycharm": {
     "name": "#%%\n"
    }
   },
   "outputs": [],
   "source": [
    "func_norm = vec.norm"
   ]
  },
  {
   "cell_type": "code",
   "execution_count": 26,
   "id": "03b2ee58-9a03-40e2-9134-6a3b7083892b",
   "metadata": {
    "pycharm": {
     "name": "#%%\n"
    }
   },
   "outputs": [
    {
     "data": {
      "text/plain": [
       "method"
      ]
     },
     "execution_count": 26,
     "metadata": {},
     "output_type": "execute_result"
    }
   ],
   "source": [
    "type(func_norm)"
   ]
  },
  {
   "cell_type": "code",
   "execution_count": 15,
   "id": "f75cc898-9cec-4ed1-b9d2-3ec80be4b7aa",
   "metadata": {
    "pycharm": {
     "name": "#%%\n"
    }
   },
   "outputs": [
    {
     "data": {
      "text/plain": [
       "7.0710678118654755"
      ]
     },
     "execution_count": 15,
     "metadata": {},
     "output_type": "execute_result"
    }
   ],
   "source": [
    "func_norm()"
   ]
  },
  {
   "cell_type": "markdown",
   "id": "4a04cdf8-2b74-4013-9d66-3ab4f7279f78",
   "metadata": {
    "pycharm": {
     "name": "#%% md\n"
    }
   },
   "source": [
    "### Методы это функции класса"
   ]
  },
  {
   "cell_type": "code",
   "execution_count": 18,
   "id": "85a8be17-07f5-4ed3-a60e-bfd2662dd897",
   "metadata": {
    "pycharm": {
     "name": "#%%\n"
    }
   },
   "outputs": [
    {
     "data": {
      "text/plain": [
       "method"
      ]
     },
     "execution_count": 18,
     "metadata": {},
     "output_type": "execute_result"
    }
   ],
   "source": [
    "type(vec.norm)"
   ]
  },
  {
   "cell_type": "code",
   "execution_count": 19,
   "id": "46c0ab9c-6138-46a8-86dd-7bcdef7b29cf",
   "metadata": {
    "pycharm": {
     "name": "#%%\n"
    }
   },
   "outputs": [
    {
     "data": {
      "text/plain": [
       "function"
      ]
     },
     "execution_count": 19,
     "metadata": {},
     "output_type": "execute_result"
    }
   ],
   "source": [
    "type(Vector2D.norm)"
   ]
  },
  {
   "cell_type": "code",
   "execution_count": 20,
   "id": "a079ddd4-6bf4-4f5a-97b3-531367951070",
   "metadata": {
    "pycharm": {
     "name": "#%%\n"
    }
   },
   "outputs": [
    {
     "data": {
      "text/plain": [
       "True"
      ]
     },
     "execution_count": 20,
     "metadata": {},
     "output_type": "execute_result"
    }
   ],
   "source": [
    "vec.norm() == Vector2D.norm(vec)"
   ]
  },
  {
   "cell_type": "code",
   "execution_count": 22,
   "id": "d16b5f34-1fb7-4673-bb99-3c75e87ed387",
   "metadata": {
    "pycharm": {
     "name": "#%%\n"
    }
   },
   "outputs": [],
   "source": [
    "def another_norm(self):\n",
    "    return abs(self.x + self.y)"
   ]
  },
  {
   "cell_type": "code",
   "execution_count": 23,
   "id": "aeddd57e-790d-4eff-a7ae-04468ede3294",
   "metadata": {
    "pycharm": {
     "name": "#%%\n"
    }
   },
   "outputs": [],
   "source": [
    "Vector2D.another_norm = another_norm"
   ]
  },
  {
   "cell_type": "code",
   "execution_count": 24,
   "id": "0848d713-612b-4c48-ab4b-ad444bfca4cb",
   "metadata": {
    "pycharm": {
     "name": "#%%\n"
    }
   },
   "outputs": [
    {
     "data": {
      "text/plain": [
       "function"
      ]
     },
     "execution_count": 24,
     "metadata": {},
     "output_type": "execute_result"
    }
   ],
   "source": [
    "type(Vector2D.another_norm)"
   ]
  },
  {
   "cell_type": "code",
   "execution_count": 45,
   "id": "f58225fa-3f49-4c4e-ac8d-b54d85d6c780",
   "metadata": {
    "pycharm": {
     "name": "#%%\n"
    }
   },
   "outputs": [],
   "source": [
    "vec = Vector2D()"
   ]
  },
  {
   "cell_type": "code",
   "execution_count": 46,
   "id": "76ebba36-d1e4-4e6b-a02e-27a378e7fc19",
   "metadata": {
    "pycharm": {
     "name": "#%%\n"
    }
   },
   "outputs": [
    {
     "data": {
      "text/plain": [
       "0"
      ]
     },
     "execution_count": 46,
     "metadata": {},
     "output_type": "execute_result"
    }
   ],
   "source": [
    "vec.another_norm()"
   ]
  },
  {
   "cell_type": "code",
   "execution_count": 47,
   "id": "e8e3dc0a-285f-4dfa-85d0-4eda6ac3ce14",
   "metadata": {
    "pycharm": {
     "name": "#%%\n"
    }
   },
   "outputs": [
    {
     "data": {
      "text/plain": [
       "method"
      ]
     },
     "execution_count": 47,
     "metadata": {},
     "output_type": "execute_result"
    }
   ],
   "source": [
    "type(vec.another_norm)"
   ]
  },
  {
   "cell_type": "markdown",
   "id": "48f2faab-c88f-427c-9d95-ea7641b970c3",
   "metadata": {
    "pycharm": {
     "name": "#%% md\n"
    }
   },
   "source": [
    "### Приватные поля\n",
    "\n",
    "* `_spam` --- поля чьё имя начинается с подчеркивания подразумеваются как не публичные "
   ]
  },
  {
   "cell_type": "code",
   "execution_count": 8,
   "id": "5be4d145-dbd0-447c-b5fd-250cd6029e81",
   "metadata": {
    "pycharm": {
     "name": "#%%\n"
    }
   },
   "outputs": [],
   "source": [
    "class Foo:\n",
    "    spam = \"public\"\n",
    "    _spam = \"типа приватное\""
   ]
  },
  {
   "cell_type": "code",
   "execution_count": 13,
   "outputs": [
    {
     "data": {
      "text/plain": "'типа приватное'"
     },
     "execution_count": 13,
     "metadata": {},
     "output_type": "execute_result"
    }
   ],
   "source": [
    "foo = Foo()\n",
    "foo._spam"
   ],
   "metadata": {
    "collapsed": false,
    "pycharm": {
     "name": "#%%\n"
    }
   }
  },
  {
   "cell_type": "markdown",
   "source": [
    "## Структурная типизация: Протоколы и модуль `typing`. MyPy\n",
    "\n",
    "* [MyPy](https://mypy.readthedocs.io/en/stable/)\n",
    "* [Cheat Sheet](https://mypy.readthedocs.io/en/stable/cheat_sheet_py3.html#cheat-sheet-py3)\n"
   ],
   "metadata": {
    "collapsed": false,
    "pycharm": {
     "name": "#%% md\n"
    }
   }
  },
  {
   "cell_type": "code",
   "execution_count": null,
   "outputs": [],
   "source": [
    "from typing import Sized\n",
    "\n",
    "class Bar(Sized):\n",
    "\n",
    "    def __len__(self) -> int:\n",
    "        return 42\n",
    "\n",
    "\n",
    "class Foo:\n",
    "    def __len__(self) -> int:\n",
    "        return 42\n",
    "\n",
    "def spam(obj: Sized):\n",
    "    return len(obj)"
   ],
   "metadata": {
    "collapsed": false,
    "pycharm": {
     "name": "#%%\n"
    }
   }
  },
  {
   "cell_type": "code",
   "execution_count": null,
   "outputs": [],
   "source": [
    "!pip install mypy"
   ],
   "metadata": {
    "collapsed": false,
    "pycharm": {
     "name": "#%%\n"
    }
   }
  },
  {
   "cell_type": "code",
   "execution_count": null,
   "outputs": [],
   "source": [
    "!mypy mypy_example.py"
   ],
   "metadata": {
    "collapsed": false,
    "pycharm": {
     "name": "#%%\n"
    }
   }
  },
  {
   "cell_type": "markdown",
   "source": [
    "## Классическое ООП\n",
    "\n",
    "* [MRO - method resolution order](https://www.python.org/download/releases/2.3/mro/)"
   ],
   "metadata": {
    "collapsed": false,
    "pycharm": {
     "name": "#%% md\n"
    }
   }
  },
  {
   "cell_type": "code",
   "execution_count": 17,
   "outputs": [],
   "source": [
    "class PhysicalModel:\n",
    "    def cross_section(self, energy):\n",
    "        pass\n",
    "\n",
    "    def sampling_final_state(self, particle):\n",
    "        pass\n",
    "\n",
    "class KleinNishina(PhysicalModel):\n",
    "    pass"
   ],
   "metadata": {
    "collapsed": false,
    "pycharm": {
     "name": "#%%\n"
    }
   }
  },
  {
   "cell_type": "code",
   "execution_count": null,
   "outputs": [],
   "source": [
    "compton = KleinNishina()\n",
    "compton.sampling_final_state(\"gamma\")"
   ],
   "metadata": {
    "collapsed": false,
    "pycharm": {
     "name": "#%%\n"
    }
   }
  },
  {
   "cell_type": "code",
   "execution_count": null,
   "outputs": [],
   "source": [
    "from typing import Sized\n",
    "\n",
    "class KleinNishina(PhysicalModel, Sized):\n",
    "    pass"
   ],
   "metadata": {
    "collapsed": false,
    "pycharm": {
     "name": "#%%\n"
    }
   }
  },
  {
   "cell_type": "code",
   "execution_count": null,
   "outputs": [],
   "source": [
    "compton = KleinNishina()"
   ],
   "metadata": {
    "collapsed": false,
    "pycharm": {
     "name": "#%%\n"
    }
   }
  },
  {
   "cell_type": "code",
   "execution_count": null,
   "outputs": [],
   "source": [
    "from abc import ABC, abstractmethod\n",
    "\n",
    "class PhysicalModel(ABC):\n",
    "\n",
    "    @abstractmethod\n",
    "    def cross_section(self, energy):\n",
    "        pass\n",
    "\n",
    "    @abstractmethod\n",
    "    def sampling_final_state(self, particle):\n",
    "        pass\n",
    "\n",
    "class KleinNishina(PhysicalModel):\n",
    "    pass"
   ],
   "metadata": {
    "collapsed": false,
    "pycharm": {
     "name": "#%%\n"
    }
   }
  },
  {
   "cell_type": "code",
   "execution_count": null,
   "outputs": [],
   "source": [
    "compton = KleinNishina()"
   ],
   "metadata": {
    "collapsed": false,
    "pycharm": {
     "name": "#%%\n"
    }
   }
  },
  {
   "cell_type": "code",
   "execution_count": null,
   "outputs": [],
   "source": [
    "class Device:\n",
    "\n",
    "    def open(self):\n",
    "        pass\n",
    "\n",
    "    @staticmethod\n",
    "    def open_device() -> \"Device\":\n",
    "        print(\"Open device\")\n",
    "\n",
    "    @classmethod\n",
    "    def open_concrete_class_device(cls):\n",
    "        print(cls)\n",
    "        return cls.open_device()"
   ],
   "metadata": {
    "collapsed": false,
    "pycharm": {
     "name": "#%%\n"
    }
   }
  },
  {
   "cell_type": "code",
   "execution_count": null,
   "outputs": [],
   "source": [
    "Device.open()"
   ],
   "metadata": {
    "collapsed": false,
    "pycharm": {
     "name": "#%%\n"
    }
   }
  },
  {
   "cell_type": "code",
   "execution_count": null,
   "outputs": [],
   "source": [
    "Device.open_device()\n",
    "Device.open_concrete_class_device()"
   ],
   "metadata": {
    "collapsed": false,
    "pycharm": {
     "name": "#%%\n"
    }
   }
  },
  {
   "cell_type": "code",
   "execution_count": null,
   "outputs": [],
   "source": [
    "print(type(Device.open))\n",
    "print(type(Device.open_device))\n",
    "print(type(Device.open_concrete_class_device))"
   ],
   "metadata": {
    "collapsed": false,
    "pycharm": {
     "name": "#%%\n"
    }
   }
  },
  {
   "cell_type": "code",
   "execution_count": null,
   "outputs": [],
   "source": [
    "class SuperDevice(Device):\n",
    "        @staticmethod\n",
    "        def open_device() -> \"Device\":\n",
    "            print(\"Open super-puper device\")"
   ],
   "metadata": {
    "collapsed": false,
    "pycharm": {
     "name": "#%%\n"
    }
   }
  },
  {
   "cell_type": "code",
   "execution_count": null,
   "outputs": [],
   "source": [
    "SuperDevice.open_concrete_class_device()"
   ],
   "metadata": {
    "collapsed": false,
    "pycharm": {
     "name": "#%%\n"
    }
   }
  },
  {
   "cell_type": "code",
   "execution_count": 2,
   "outputs": [],
   "source": [
    "class Device:\n",
    "\n",
    "    def open(self):\n",
    "        pass\n",
    "\n",
    "    @staticmethod\n",
    "    def open_device() -> \"Device\":\n",
    "        print(\"Open device\")\n",
    "\n",
    "    @classmethod\n",
    "    def open_concrete_class_device(cls):\n",
    "        print(cls)\n",
    "        return cls.open_device()"
   ],
   "metadata": {
    "collapsed": false,
    "pycharm": {
     "name": "#%%\n"
    }
   }
  },
  {
   "cell_type": "code",
   "execution_count": null,
   "outputs": [],
   "source": [
    "Device.open()"
   ],
   "metadata": {
    "collapsed": false,
    "pycharm": {
     "name": "#%%\n"
    }
   }
  },
  {
   "cell_type": "code",
   "execution_count": null,
   "outputs": [],
   "source": [
    "Device.open_device()\n",
    "Device.open_concrete_class_device()"
   ],
   "metadata": {
    "collapsed": false,
    "pycharm": {
     "name": "#%%\n"
    }
   }
  },
  {
   "cell_type": "code",
   "execution_count": 3,
   "outputs": [
    {
     "name": "stdout",
     "output_type": "stream",
     "text": [
      "<class 'function'>\n",
      "<class 'function'>\n",
      "<class 'method'>\n"
     ]
    }
   ],
   "source": [
    "print(type(Device.open))\n",
    "print(type(Device.open_device))\n",
    "print(type(Device.open_concrete_class_device))"
   ],
   "metadata": {
    "collapsed": false,
    "pycharm": {
     "name": "#%%\n"
    }
   }
  },
  {
   "cell_type": "code",
   "execution_count": null,
   "outputs": [],
   "source": [
    "class SuperDevice(Device):\n",
    "        @staticmethod\n",
    "        def open_device() -> \"Device\":\n",
    "            print(\"Open super-puper device\")"
   ],
   "metadata": {
    "collapsed": false,
    "pycharm": {
     "name": "#%%\n"
    }
   }
  },
  {
   "cell_type": "code",
   "execution_count": null,
   "outputs": [],
   "source": [
    "SuperDevice.open_concrete_class_device()"
   ],
   "metadata": {
    "collapsed": false,
    "pycharm": {
     "name": "#%%\n"
    }
   }
  },
  {
   "cell_type": "code",
   "execution_count": 31,
   "outputs": [],
   "source": [
    "import random\n",
    "\n",
    "class Dog:\n",
    "    @property\n",
    "    def name(self):\n",
    "        return \"Rrr\"*random.randint(1, 4)\n",
    "\n",
    "    @name.setter\n",
    "    def name(self, value):\n",
    "        print(f\"{value} isn't my name\")\n",
    "\n",
    "    @name.deleter\n",
    "    def name(self):\n",
    "        print(\"I don't clear\")"
   ],
   "metadata": {
    "collapsed": false,
    "pycharm": {
     "name": "#%%\n"
    }
   }
  },
  {
   "cell_type": "code",
   "execution_count": 32,
   "outputs": [
    {
     "name": "stdout",
     "output_type": "stream",
     "text": [
      "Rrr\n",
      "RrrRrrRrrRrr\n",
      "RrrRrrRrr\n",
      "RrrRrrRrr\n",
      "RrrRrrRrr\n",
      "RrrRrrRrr\n",
      "RrrRrr\n",
      "RrrRrr\n",
      "RrrRrrRrrRrr\n",
      "RrrRrr\n"
     ]
    }
   ],
   "source": [
    "\n",
    "dog = Dog()\n",
    "for i in range(10):\n",
    "    print(dog.name)"
   ],
   "metadata": {
    "collapsed": false,
    "pycharm": {
     "name": "#%%\n"
    }
   }
  },
  {
   "cell_type": "code",
   "execution_count": 33,
   "outputs": [
    {
     "name": "stdout",
     "output_type": "stream",
     "text": [
      "Bobik isn't my name\n"
     ]
    }
   ],
   "source": [
    "dog.name = \"Bobik\""
   ],
   "metadata": {
    "collapsed": false,
    "pycharm": {
     "name": "#%%\n"
    }
   }
  },
  {
   "cell_type": "code",
   "execution_count": 34,
   "outputs": [
    {
     "name": "stdout",
     "output_type": "stream",
     "text": [
      "I don't clear\n"
     ]
    }
   ],
   "source": [
    "del dog.name"
   ],
   "metadata": {
    "collapsed": false,
    "pycharm": {
     "name": "#%%\n"
    }
   }
  },
  {
   "cell_type": "code",
   "execution_count": 29,
   "outputs": [],
   "source": [
    "class Animals:\n",
    "    @property\n",
    "    @abstractmethod\n",
    "    def name(self):\n",
    "        pass"
   ],
   "metadata": {
    "collapsed": false,
    "pycharm": {
     "name": "#%%\n"
    }
   }
  },
  {
   "cell_type": "code",
   "execution_count": null,
   "outputs": [],
   "source": [],
   "metadata": {
    "collapsed": false,
    "pycharm": {
     "name": "#%%\n"
    }
   }
  }
 ],
 "metadata": {
  "kernelspec": {
   "display_name": "Python 3 (ipykernel)",
   "language": "python",
   "name": "python3"
  },
  "language_info": {
   "codemirror_mode": {
    "name": "ipython",
    "version": 3
   },
   "file_extension": ".py",
   "mimetype": "text/x-python",
   "name": "python",
   "nbconvert_exporter": "python",
   "pygments_lexer": "ipython3",
   "version": "3.9.6"
  },
  "toc-autonumbering": true
 },
 "nbformat": 4,
 "nbformat_minor": 5
}