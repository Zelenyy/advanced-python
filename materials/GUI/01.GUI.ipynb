{
 "cells": [
  {
   "cell_type": "markdown",
   "metadata": {
    "pycharm": {
     "name": "#%% md\n"
    }
   },
   "source": [
    "# Графический интерфейс пользователя (GUI)\n",
    "\n",
    "![](./gui_arch.svg)"
   ]
  },
  {
   "cell_type": "markdown",
   "metadata": {
    "jupyter": {
     "outputs_hidden": false
    },
    "pycharm": {
     "name": "#%%\n"
    }
   },
   "source": [
    "* Окно: SDI, MDI TDI\n",
    "* [Виджет, элемент интерфейса](https://ru.wikipedia.org/wiki/%D0%AD%D0%BB%D0%B5%D0%BC%D0%B5%D0%BD%D1%82_%D0%B8%D0%BD%D1%82%D0%B5%D1%80%D1%84%D0%B5%D0%B9%D1%81%D0%B0)\n",
    "* Слои, Обасти (Layouts), Диспетчеры компоновки и. т. д.\n",
    "\n",
    "## Tkinter\n",
    "\n",
    "* [Tk](https://ru.wikipedia.org/wiki/Tk) --- библиотека элементов графического интерфейса\n",
    "* [tkinter](https://docs.python.org/3/library/tkinter.html) --- модуль предоставляющий python интфейс к Tk\n",
    "* Преимущетва:\n",
    "    * Входит стандратную библиотеку\n",
    "    * Кросплатформенный\n",
    "    * Компактный"
   ]
  },
  {
   "cell_type": "markdown",
   "metadata": {
    "jupyter": {
     "outputs_hidden": false
    },
    "pycharm": {
     "name": "#%%\n"
    }
   },
   "source": [
    "## QT for Python\n",
    "\n",
    "* [PySide 2: QT for Python (Qt 5.12)](https://doc.qt.io/qtforpython-5/)\n",
    "* [PySide 6: Qt for Python (Qt 6.2)](https://doc.qt.io/qtforpython-6/)\n",
    "* PyQt --- алтернативная сборка.\n",
    "\n",
    "* Qt --- кроссплатформенный (включая мобильные платформы и WEB) C++ фреймворк для консольных и графических приложений\n",
    "    * KDE\n",
    "    * Визуализация в GEANT4\n",
    "    * Jupyter Notebooks\n",
    "    * [Куча коммерческих продуктов](https://www.qt.io/why-qt)\n",
    "\n"
   ]
  },
  {
   "cell_type": "code",
   "execution_count": null,
   "metadata": {},
   "outputs": [],
   "source": []
  }
 ],
 "metadata": {
  "kernelspec": {
   "display_name": "Python 3 (ipykernel)",
   "language": "python",
   "name": "python3"
  },
  "language_info": {
   "codemirror_mode": {
    "name": "ipython",
    "version": 3
   },
   "file_extension": ".py",
   "mimetype": "text/x-python",
   "name": "python",
   "nbconvert_exporter": "python",
   "pygments_lexer": "ipython3",
   "version": "3.9.7"
  }
 },
 "nbformat": 4,
 "nbformat_minor": 4
}
