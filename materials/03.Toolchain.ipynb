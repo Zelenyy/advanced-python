{
 "cells": [
  {
   "cell_type": "markdown",
   "source": [
    "# Инструменты разработки на Python"
   ],
   "metadata": {
    "collapsed": false,
    "pycharm": {
     "name": "#%% md\n"
    }
   }
  },
  {
   "cell_type": "markdown",
   "source": [],
   "metadata": {
    "collapsed": false,
    "pycharm": {
     "name": "#%% md\n"
    }
   }
  },
  {
   "cell_type": "markdown",
   "source": [
    "## Виртуальные окружения\n",
    "\n",
    "* [`venv` - creation of virtual environments](https://docs.python.org/3/library/venv.html) - входит в стандартную библиотеку\n",
    "* [`virtualenv` - a tool for creating isolated virtual python environments](https://virtualenv.pypa.io/en/latest/) --- более продвинутый вариант\n",
    "* [Pipenv](https://pipenv.pypa.io/en/latest/)\n",
    "* [Conda environments](https://conda.io/projects/conda/en/latest/user-guide/tasks/manage-environments.html#managing-environments) --- управление не только Python пакетами, но и другими зависимостями\n",
    "* [Poetry](https://python-poetry.org/)"
   ],
   "metadata": {
    "collapsed": false,
    "pycharm": {
     "name": "#%% md\n"
    }
   },
   "outputs": []
  },
  {
   "cell_type": "markdown",
   "source": [
    "\n",
    "Недостатки venv:\n",
    "\n",
    "* is slower (by not having the app-data seed method),\n",
    "* is not as extendable,\n",
    "* cannot create virtual environments for arbitrarily installed python versions (and automatically discover these),\n",
    "* is not upgrade-able via pip,\n",
    "* does nщt have as rich programmatic API (describe virtual environments without creating them).\n"
   ],
   "metadata": {
    "collapsed": false,
    "pycharm": {
     "name": "#%% md\n"
    }
   },
   "outputs": []
  },
  {
   "cell_type": "markdown",
   "source": [
    "Управление зависимостями:\n",
    "* `requirements.txt`:\n",
    "    * `pip freeze > requirements.txt`\n",
    "    * `pip install -r requirements.txt`\n",
    "* YAML файл окружения для `condaenv`\n",
    "* `pipenv` файл"
   ],
   "metadata": {
    "collapsed": false,
    "pycharm": {
     "name": "#%% md\n"
    }
   }
  },
  {
   "cell_type": "markdown",
   "source": [
    "## Генерация документации\n",
    "\n",
    "* [Sphinx](https://www.sphinx-doc.org/en/master/index.html#)\n",
    "* `pip install sphinx`\n",
    "* `sphinx-quickstart`\n",
    "* Плагины, включая `autodoc` --- автоматическая генерация документация по docstrings\n",
    "* Интеграция с setuptools"
   ],
   "metadata": {
    "collapsed": false,
    "pycharm": {
     "name": "#%% md\n"
    }
   }
  },
  {
   "cell_type": "markdown",
   "source": [
    "## PEP: Python Enhancement Proposals\n",
    "\n",
    "* [PEP 0](https://www.python.org/dev/peps/) -  Index of Python Enhancement Proposals\n",
    "* [PEP 8](https://www.python.org/dev/peps/pep-0008/) - Style Guide for Python Code"
   ],
   "metadata": {
    "collapsed": false,
    "pycharm": {
     "name": "#%% md\n"
    }
   },
   "outputs": []
  },
  {
   "cell_type": "markdown",
   "source": [
    "\n",
    "## Linter\n",
    "\n",
    "* **Lint** or **Linter** - инструмент для статического анализа кода:\n",
    "  * Соответствие кода Codestyle\n",
    "  * Выявление подозрительного кода\n",
    "  * Помощь в рефакторинге"
   ],
   "metadata": {
    "collapsed": false,
    "pycharm": {
     "name": "#%% md\n"
    }
   },
   "outputs": []
  },
  {
   "cell_type": "markdown",
   "source": [
    "\n",
    "## Debuger\n",
    "\n",
    "* [PyDev](https://www.pydev.org/)"
   ],
   "metadata": {
    "collapsed": false,
    "pycharm": {
     "name": "#%% md\n"
    }
   },
   "outputs": []
  },
  {
   "cell_type": "markdown",
   "source": [
    "\n",
    "## VCS\n",
    "\n",
    "* Git\n",
    "* Mercurial\n",
    "* Another"
   ],
   "metadata": {
    "collapsed": false,
    "pycharm": {
     "name": "#%% md\n"
    }
   }
  }
 ],
 "metadata": {
  "kernelspec": {
   "display_name": "Python 3",
   "language": "python",
   "name": "python3"
  },
  "language_info": {
   "codemirror_mode": {
    "name": "ipython",
    "version": 2
   },
   "file_extension": ".py",
   "mimetype": "text/x-python",
   "name": "python",
   "nbconvert_exporter": "python",
   "pygments_lexer": "ipython2",
   "version": "2.7.6"
  }
 },
 "nbformat": 4,
 "nbformat_minor": 0
}