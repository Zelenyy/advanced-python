{
 "cells": [
  {
   "cell_type": "markdown",
   "source": [
    "# Форматирование строк\n",
    "\n",
    "* [string](https://docs.python.org/3/library/string.html)"
   ],
   "metadata": {
    "collapsed": false,
    "pycharm": {
     "name": "#%% md\n"
    }
   }
  },
  {
   "cell_type": "code",
   "execution_count": 1,
   "outputs": [
    {
     "data": {
      "text/plain": "'A: 123, B: abc, C: 2022-10-12 12:47:17.812437'"
     },
     "execution_count": 1,
     "metadata": {},
     "output_type": "execute_result"
    }
   ],
   "source": [
    "import datetime\n",
    "\"A: {}, B: {}, C: {}\".format(123, \"abc\", datetime.datetime.now())"
   ],
   "metadata": {
    "collapsed": false,
    "pycharm": {
     "name": "#%%\n"
    }
   }
  },
  {
   "cell_type": "code",
   "execution_count": 2,
   "outputs": [
    {
     "data": {
      "text/plain": "'A: 2022-10-12 12:47:37.602142, B: abc, C: 2022-10-12 12:47:37.602142'"
     },
     "execution_count": 2,
     "metadata": {},
     "output_type": "execute_result"
    }
   ],
   "source": [
    "\"A: {2}, B: {1}, C: {2}\".format(123, \"abc\", datetime.datetime.now())"
   ],
   "metadata": {
    "collapsed": false,
    "pycharm": {
     "name": "#%%\n"
    }
   }
  },
  {
   "cell_type": "code",
   "execution_count": 3,
   "outputs": [
    {
     "data": {
      "text/plain": "'A: 1.23e+03'"
     },
     "execution_count": 3,
     "metadata": {},
     "output_type": "execute_result"
    }
   ],
   "source": [
    "\"A: {:.2e}\".format(1234.56789)"
   ],
   "metadata": {
    "collapsed": false,
    "pycharm": {
     "name": "#%%\n"
    }
   }
  },
  {
   "cell_type": "markdown",
   "source": [
    "# Шаблоны строк"
   ],
   "metadata": {
    "collapsed": false,
    "pycharm": {
     "name": "#%% md\n"
    }
   }
  },
  {
   "cell_type": "code",
   "execution_count": 7,
   "outputs": [
    {
     "name": "stdout",
     "output_type": "stream",
     "text": [
      "/df/project thunderstorm\n",
      "/df/gdml ${path}\n",
      "/thunderstorm/physics standard_opt_4\n",
      "/thunderstorm/stacking dwyer2003\n",
      "/thunderstorm/tracking tree\n",
      "/thunderstorm/cut/energy 0.05\n",
      "\n",
      "/gps/particle e-\n",
      "/gps/number 1\n",
      "/gps/direction 0 0 -1\n",
      "/gps/ene/mono 1.0 MeV\n",
      "/gps/position 0. 0. ${posZ} m\n",
      "/run/beamOn 2\n",
      "\n"
     ]
    }
   ],
   "source": [
    "from string import Template\n",
    "INPUT_TEMPLATE = \"\"\"/df/project thunderstorm\n",
    "/df/gdml ${path}\n",
    "/thunderstorm/physics standard_opt_4\n",
    "/thunderstorm/stacking dwyer2003\n",
    "/thunderstorm/tracking tree\n",
    "/thunderstorm/cut/energy ${cut}\n",
    "\n",
    "/gps/particle ${particle}\n",
    "/gps/number 1\n",
    "/gps/direction ${direction}\n",
    "/gps/ene/mono ${energy} MeV\n",
    "/gps/position 0. 0. ${posZ} m\n",
    "/run/beamOn ${number}\n",
    "\"\"\"\n",
    "\n",
    "print(Template(INPUT_TEMPLATE).safe_substitute(\n",
    "    {\n",
    "        \"cut\": 0.05,\n",
    "        \"physics\": \"standard_opt_4\",\n",
    "        'number': 2,\n",
    "        'energy': 1.0,\n",
    "        'direction': '0 0 -1',\n",
    "        'particle': 'e-'\n",
    "    }\n",
    "))\n"
   ],
   "metadata": {
    "collapsed": false,
    "pycharm": {
     "name": "#%%\n"
    }
   }
  },
  {
   "cell_type": "code",
   "execution_count": 8,
   "outputs": [
    {
     "ename": "KeyError",
     "evalue": "'path'",
     "output_type": "error",
     "traceback": [
      "\u001B[0;31m---------------------------------------------------------------------------\u001B[0m",
      "\u001B[0;31mKeyError\u001B[0m                                  Traceback (most recent call last)",
      "Cell \u001B[0;32mIn [8], line 1\u001B[0m\n\u001B[0;32m----> 1\u001B[0m \u001B[38;5;28mprint\u001B[39m(\u001B[43mTemplate\u001B[49m\u001B[43m(\u001B[49m\u001B[43mINPUT_TEMPLATE\u001B[49m\u001B[43m)\u001B[49m\u001B[38;5;241;43m.\u001B[39;49m\u001B[43msubstitute\u001B[49m\u001B[43m(\u001B[49m\n\u001B[1;32m      2\u001B[0m \u001B[43m    \u001B[49m\u001B[43m{\u001B[49m\n\u001B[1;32m      3\u001B[0m \u001B[43m        \u001B[49m\u001B[38;5;124;43m\"\u001B[39;49m\u001B[38;5;124;43mcut\u001B[39;49m\u001B[38;5;124;43m\"\u001B[39;49m\u001B[43m:\u001B[49m\u001B[43m \u001B[49m\u001B[38;5;241;43m0.05\u001B[39;49m\u001B[43m,\u001B[49m\n\u001B[1;32m      4\u001B[0m \u001B[43m        \u001B[49m\u001B[38;5;124;43m\"\u001B[39;49m\u001B[38;5;124;43mphysics\u001B[39;49m\u001B[38;5;124;43m\"\u001B[39;49m\u001B[43m:\u001B[49m\u001B[43m \u001B[49m\u001B[38;5;124;43m\"\u001B[39;49m\u001B[38;5;124;43mstandard_opt_4\u001B[39;49m\u001B[38;5;124;43m\"\u001B[39;49m\u001B[43m,\u001B[49m\n\u001B[1;32m      5\u001B[0m \u001B[43m        \u001B[49m\u001B[38;5;124;43m'\u001B[39;49m\u001B[38;5;124;43mnumber\u001B[39;49m\u001B[38;5;124;43m'\u001B[39;49m\u001B[43m:\u001B[49m\u001B[43m \u001B[49m\u001B[38;5;241;43m2\u001B[39;49m\u001B[43m,\u001B[49m\n\u001B[1;32m      6\u001B[0m \u001B[43m        \u001B[49m\u001B[38;5;124;43m'\u001B[39;49m\u001B[38;5;124;43menergy\u001B[39;49m\u001B[38;5;124;43m'\u001B[39;49m\u001B[43m:\u001B[49m\u001B[43m \u001B[49m\u001B[38;5;241;43m1.0\u001B[39;49m\u001B[43m,\u001B[49m\n\u001B[1;32m      7\u001B[0m \u001B[43m        \u001B[49m\u001B[38;5;124;43m'\u001B[39;49m\u001B[38;5;124;43mdirection\u001B[39;49m\u001B[38;5;124;43m'\u001B[39;49m\u001B[43m:\u001B[49m\u001B[43m \u001B[49m\u001B[38;5;124;43m'\u001B[39;49m\u001B[38;5;124;43m0 0 -1\u001B[39;49m\u001B[38;5;124;43m'\u001B[39;49m\u001B[43m,\u001B[49m\n\u001B[1;32m      8\u001B[0m \u001B[43m        \u001B[49m\u001B[38;5;124;43m'\u001B[39;49m\u001B[38;5;124;43mparticle\u001B[39;49m\u001B[38;5;124;43m'\u001B[39;49m\u001B[43m:\u001B[49m\u001B[43m \u001B[49m\u001B[38;5;124;43m'\u001B[39;49m\u001B[38;5;124;43me-\u001B[39;49m\u001B[38;5;124;43m'\u001B[39;49m\n\u001B[1;32m      9\u001B[0m \u001B[43m    \u001B[49m\u001B[43m}\u001B[49m\n\u001B[1;32m     10\u001B[0m \u001B[43m)\u001B[49m)\n",
      "File \u001B[0;32m/usr/lib/python3.10/string.py:121\u001B[0m, in \u001B[0;36mTemplate.substitute\u001B[0;34m(self, mapping, **kws)\u001B[0m\n\u001B[1;32m    118\u001B[0m         \u001B[38;5;28mself\u001B[39m\u001B[38;5;241m.\u001B[39m_invalid(mo)\n\u001B[1;32m    119\u001B[0m     \u001B[38;5;28;01mraise\u001B[39;00m \u001B[38;5;167;01mValueError\u001B[39;00m(\u001B[38;5;124m'\u001B[39m\u001B[38;5;124mUnrecognized named group in pattern\u001B[39m\u001B[38;5;124m'\u001B[39m,\n\u001B[1;32m    120\u001B[0m                      \u001B[38;5;28mself\u001B[39m\u001B[38;5;241m.\u001B[39mpattern)\n\u001B[0;32m--> 121\u001B[0m \u001B[38;5;28;01mreturn\u001B[39;00m \u001B[38;5;28;43mself\u001B[39;49m\u001B[38;5;241;43m.\u001B[39;49m\u001B[43mpattern\u001B[49m\u001B[38;5;241;43m.\u001B[39;49m\u001B[43msub\u001B[49m\u001B[43m(\u001B[49m\u001B[43mconvert\u001B[49m\u001B[43m,\u001B[49m\u001B[43m \u001B[49m\u001B[38;5;28;43mself\u001B[39;49m\u001B[38;5;241;43m.\u001B[39;49m\u001B[43mtemplate\u001B[49m\u001B[43m)\u001B[49m\n",
      "File \u001B[0;32m/usr/lib/python3.10/string.py:114\u001B[0m, in \u001B[0;36mTemplate.substitute.<locals>.convert\u001B[0;34m(mo)\u001B[0m\n\u001B[1;32m    112\u001B[0m named \u001B[38;5;241m=\u001B[39m mo\u001B[38;5;241m.\u001B[39mgroup(\u001B[38;5;124m'\u001B[39m\u001B[38;5;124mnamed\u001B[39m\u001B[38;5;124m'\u001B[39m) \u001B[38;5;129;01mor\u001B[39;00m mo\u001B[38;5;241m.\u001B[39mgroup(\u001B[38;5;124m'\u001B[39m\u001B[38;5;124mbraced\u001B[39m\u001B[38;5;124m'\u001B[39m)\n\u001B[1;32m    113\u001B[0m \u001B[38;5;28;01mif\u001B[39;00m named \u001B[38;5;129;01mis\u001B[39;00m \u001B[38;5;129;01mnot\u001B[39;00m \u001B[38;5;28;01mNone\u001B[39;00m:\n\u001B[0;32m--> 114\u001B[0m     \u001B[38;5;28;01mreturn\u001B[39;00m \u001B[38;5;28mstr\u001B[39m(\u001B[43mmapping\u001B[49m\u001B[43m[\u001B[49m\u001B[43mnamed\u001B[49m\u001B[43m]\u001B[49m)\n\u001B[1;32m    115\u001B[0m \u001B[38;5;28;01mif\u001B[39;00m mo\u001B[38;5;241m.\u001B[39mgroup(\u001B[38;5;124m'\u001B[39m\u001B[38;5;124mescaped\u001B[39m\u001B[38;5;124m'\u001B[39m) \u001B[38;5;129;01mis\u001B[39;00m \u001B[38;5;129;01mnot\u001B[39;00m \u001B[38;5;28;01mNone\u001B[39;00m:\n\u001B[1;32m    116\u001B[0m     \u001B[38;5;28;01mreturn\u001B[39;00m \u001B[38;5;28mself\u001B[39m\u001B[38;5;241m.\u001B[39mdelimiter\n",
      "\u001B[0;31mKeyError\u001B[0m: 'path'"
     ]
    }
   ],
   "source": [
    "print(Template(INPUT_TEMPLATE).substitute(\n",
    "    {\n",
    "        \"cut\": 0.05,\n",
    "        \"physics\": \"standard_opt_4\",\n",
    "        'number': 2,\n",
    "        'energy': 1.0,\n",
    "        'direction': '0 0 -1',\n",
    "        'particle': 'e-'\n",
    "    }\n",
    "))"
   ],
   "metadata": {
    "collapsed": false,
    "pycharm": {
     "name": "#%%\n"
    }
   }
  },
  {
   "cell_type": "markdown",
   "source": [
    "# f-string\n",
    "\n",
    "* [PEP 498](https://peps.python.org/pep-0498/)"
   ],
   "metadata": {
    "collapsed": false,
    "pycharm": {
     "name": "#%% md\n"
    }
   }
  },
  {
   "cell_type": "code",
   "execution_count": 9,
   "outputs": [
    {
     "data": {
      "text/plain": "'Number 1'"
     },
     "execution_count": 9,
     "metadata": {},
     "output_type": "execute_result"
    }
   ],
   "source": [
    "i = 1\n",
    "f\"Number {i}\""
   ],
   "metadata": {
    "collapsed": false,
    "pycharm": {
     "name": "#%%\n"
    }
   }
  },
  {
   "cell_type": "code",
   "execution_count": 10,
   "outputs": [
    {
     "data": {
      "text/plain": "'Number i=1'"
     },
     "execution_count": 10,
     "metadata": {},
     "output_type": "execute_result"
    }
   ],
   "source": [
    "i = 1\n",
    "f\"Number {i=}\""
   ],
   "metadata": {
    "collapsed": false,
    "pycharm": {
     "name": "#%%\n"
    }
   }
  },
  {
   "cell_type": "code",
   "execution_count": 11,
   "outputs": [
    {
     "data": {
      "text/plain": "'Number i=1.23e+05'"
     },
     "execution_count": 11,
     "metadata": {},
     "output_type": "execute_result"
    }
   ],
   "source": [
    "i = 123456.7891232\n",
    "f\"Number {i=:.2e}\""
   ],
   "metadata": {
    "collapsed": false,
    "pycharm": {
     "name": "#%%\n"
    }
   }
  },
  {
   "cell_type": "code",
   "execution_count": 12,
   "outputs": [
    {
     "name": "stdout",
     "output_type": "stream",
     "text": [
      "My name is Fred, my age next year is 51, my anniversary is Saturday, October 12, 1991.\n",
      "He said his name is 'Fred'.\n"
     ]
    }
   ],
   "source": [
    "import datetime\n",
    "name = 'Fred'\n",
    "age = 50\n",
    "anniversary = datetime.date(1991, 10, 12)\n",
    "print(f'My name is {name}, my age next year is {age+1}, my anniversary is {anniversary:%A, %B %d, %Y}.')\n",
    "print(f'He said his name is {name!r}.')"
   ],
   "metadata": {
    "collapsed": false,
    "pycharm": {
     "name": "#%%\n"
    }
   }
  },
  {
   "cell_type": "code",
   "execution_count": 15,
   "outputs": [
    {
     "data": {
      "text/plain": "''"
     },
     "execution_count": 15,
     "metadata": {},
     "output_type": "execute_result"
    }
   ],
   "source": [
    "f\"{input()}\""
   ],
   "metadata": {
    "collapsed": false,
    "pycharm": {
     "name": "#%%\n"
    }
   }
  },
  {
   "cell_type": "code",
   "execution_count": null,
   "outputs": [],
   "source": [],
   "metadata": {
    "collapsed": false,
    "pycharm": {
     "name": "#%%\n"
    }
   }
  },
  {
   "cell_type": "markdown",
   "source": [
    "# Шаблонизаторы. Jinji2\n",
    "\n",
    "* [Jinji2](https://jinja.palletsprojects.com/en/3.1.x/templates/)"
   ],
   "metadata": {
    "collapsed": false,
    "pycharm": {
     "name": "#%% md\n"
    }
   }
  },
  {
   "cell_type": "code",
   "execution_count": 16,
   "outputs": [],
   "source": [
    "html = '''<h1>Members</h1>\n",
    "<ul>\n",
    "{% for user in users %}\n",
    "  <li>{{ user.username|e }}</li>\n",
    "{% endfor %}\n",
    "</ul>\n",
    "'''"
   ],
   "metadata": {
    "collapsed": false,
    "pycharm": {
     "name": "#%%\n"
    }
   }
  },
  {
   "cell_type": "code",
   "execution_count": 17,
   "outputs": [],
   "source": [
    "from jinja2 import Environment, BaseLoader\n",
    "rtemplate = Environment(loader=BaseLoader()).from_string(html)"
   ],
   "metadata": {
    "collapsed": false,
    "pycharm": {
     "name": "#%%\n"
    }
   }
  },
  {
   "cell_type": "code",
   "execution_count": 19,
   "outputs": [
    {
     "name": "stdout",
     "output_type": "stream",
     "text": [
      "<h1>Members</h1>\n",
      "<ul>\n",
      "\n",
      "  <li>Mikhail</li>\n",
      "\n",
      "  <li>Alexander</li>\n",
      "\n",
      "  <li>Peter</li>\n",
      "\n",
      "</ul>\n"
     ]
    }
   ],
   "source": [
    "from dataclasses import dataclass\n",
    "\n",
    "\n",
    "@dataclass\n",
    "class User:\n",
    "    username : str\n",
    "\n",
    "print(rtemplate.render({\"users\": [User(\"Mikhail\"), User(\"Alexander\"), User(\"Peter\")]}))"
   ],
   "metadata": {
    "collapsed": false,
    "pycharm": {
     "name": "#%%\n"
    }
   }
  },
  {
   "cell_type": "code",
   "execution_count": null,
   "outputs": [],
   "source": [],
   "metadata": {
    "collapsed": false,
    "pycharm": {
     "name": "#%%\n"
    }
   }
  }
 ],
 "metadata": {
  "kernelspec": {
   "display_name": "Python 3",
   "language": "python",
   "name": "python3"
  },
  "language_info": {
   "codemirror_mode": {
    "name": "ipython",
    "version": 2
   },
   "file_extension": ".py",
   "mimetype": "text/x-python",
   "name": "python",
   "nbconvert_exporter": "python",
   "pygments_lexer": "ipython2",
   "version": "2.7.6"
  }
 },
 "nbformat": 4,
 "nbformat_minor": 0
}