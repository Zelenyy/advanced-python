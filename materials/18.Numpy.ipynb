{
 "cells": [
  {
   "cell_type": "markdown",
   "source": [
    "### Numpy data type objects\n",
    "\n",
    "* [numpy.dtype](https://numpy.org/doc/stable/reference/arrays.dtypes.html#arrays-dtypes)\n",
    "*"
   ],
   "metadata": {
    "collapsed": false,
    "pycharm": {
     "name": "#%% md\n"
    }
   }
  },
  {
   "cell_type": "code",
   "execution_count": null,
   "outputs": [],
   "source": [
    "import numpy as np\n",
    "\n",
    "dt = np.dtype('>i4')\n",
    "print(dt.byteorder, dt.itemsize, dt.name)\n",
    "dt.type is np.int32\n",
    "\n",
    "dt = np.dtype([\n",
    "    (\"id\", \"i\"),\n",
    "    (\"parent_id\", \"i\"),\n",
    "    (\"energy\", \"d\"),\n",
    "    (\"angle\", [\n",
    "        (\"theta\", \"d\"),\n",
    "        (\"phi\", \"d\"),\n",
    "    ]),\n",
    "    (\"radius\", \"d\", (10,10)),\n",
    "])\n",
    "data = np.ones(5, dtype=dt)\n",
    "data[\"angle\"]\n",
    "\n",
    "data[\"radius\"]\n",
    "\n",
    "data = np.ones(5, dtype=np.dtype([(\"radius\", \"d\", (10,10))]))\n",
    "data.shape\n",
    "dt = np.dtype([\n",
    "    (\"ch\", \"b\"),\n",
    "    (\"value\", \"i\"),\n",
    "])\n",
    "data = np.ones(1, dtype=dt)\n",
    "data = data.tobytes()\n",
    "len(data)\n",
    "\n",
    "with open(\"data.bin\", \"rb\") as fin:\n",
    "    data = fin.read()\n",
    "    print(len(data))\n",
    "\n",
    "dt = np.dtype([\n",
    "    (\"ch\", \"b\"),\n",
    "    (\"value\", \"i\"),\n",
    "])\n",
    "np.fromfile(\"data.bin\", dtype=dt)"
   ],
   "metadata": {
    "collapsed": false,
    "pycharm": {
     "name": "#%%\n"
    }
   }
  },
  {
   "cell_type": "code",
   "execution_count": null,
   "outputs": [],
   "source": [
    "help(np.sin)"
   ],
   "metadata": {
    "collapsed": false,
    "pycharm": {
     "name": "#%%\n"
    }
   }
  },
  {
   "cell_type": "code",
   "execution_count": null,
   "outputs": [],
   "source": [
    "np.info(np.sin)"
   ],
   "metadata": {
    "collapsed": false,
    "pycharm": {
     "name": "#%%\n"
    }
   }
  },
  {
   "cell_type": "code",
   "execution_count": null,
   "outputs": [],
   "source": [
    "type(np.sin)"
   ],
   "metadata": {
    "collapsed": false,
    "pycharm": {
     "name": "#%%\n"
    }
   }
  },
  {
   "cell_type": "code",
   "execution_count": null,
   "outputs": [],
   "source": [
    "data = np.ones(10)\n",
    "data_2 = data[:, np.newaxis]\n",
    "data_2.shape"
   ],
   "metadata": {
    "collapsed": false,
    "pycharm": {
     "name": "#%%\n"
    }
   }
  },
  {
   "cell_type": "code",
   "execution_count": null,
   "outputs": [],
   "source": [
    "data_2.ravel()"
   ],
   "metadata": {
    "collapsed": false,
    "pycharm": {
     "name": "#%%\n"
    }
   }
  },
  {
   "cell_type": "code",
   "execution_count": null,
   "outputs": [],
   "source": [
    "data_2[5,0] =10"
   ],
   "metadata": {
    "collapsed": false,
    "pycharm": {
     "name": "#%%\n"
    }
   }
  },
  {
   "cell_type": "code",
   "execution_count": null,
   "outputs": [],
   "source": [
    "data[np.ones(10, dtype=np.bool)]"
   ],
   "metadata": {
    "collapsed": false,
    "pycharm": {
     "name": "#%%\n"
    }
   }
  },
  {
   "cell_type": "code",
   "execution_count": null,
   "outputs": [],
   "source": [
    "data[np.zeros(10, dtype=np.bool)]"
   ],
   "metadata": {
    "collapsed": false,
    "pycharm": {
     "name": "#%%\n"
    }
   }
  },
  {
   "cell_type": "code",
   "execution_count": null,
   "outputs": [],
   "source": [
    "import math\n",
    "my_sin = np.vectorize(math.sin)"
   ],
   "metadata": {
    "collapsed": false,
    "pycharm": {
     "name": "#%%\n"
    }
   }
  },
  {
   "cell_type": "code",
   "execution_count": null,
   "outputs": [],
   "source": [
    "my_sin(np.ones(10))"
   ],
   "metadata": {
    "collapsed": false,
    "pycharm": {
     "name": "#%%\n"
    }
   }
  },
  {
   "cell_type": "code",
   "execution_count": null,
   "outputs": [],
   "source": [
    "data[np.logical_and(np.arange(0,2, 10) > 0.5, np.arange(0,2, 10) < 1.5) ]"
   ],
   "metadata": {
    "collapsed": false,
    "pycharm": {
     "name": "#%%\n"
    }
   }
  }
 ],
 "metadata": {
  "kernelspec": {
   "display_name": "Python 3",
   "language": "python",
   "name": "python3"
  },
  "language_info": {
   "codemirror_mode": {
    "name": "ipython",
    "version": 2
   },
   "file_extension": ".py",
   "mimetype": "text/x-python",
   "name": "python",
   "nbconvert_exporter": "python",
   "pygments_lexer": "ipython2",
   "version": "2.7.6"
  }
 },
 "nbformat": 4,
 "nbformat_minor": 0
}