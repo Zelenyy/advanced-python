{
 "cells": [
  {
   "cell_type": "markdown",
   "source": [
    "# Время и дата\n",
    "\n",
    "* Модуль `time`\n",
    "* Модуль `datetime`\n",
    "* Модуль `calendar`\n",
    "* Модуль `zoneinfo`\n"
   ],
   "metadata": {
    "collapsed": false,
    "pycharm": {
     "name": "#%% md\n"
    }
   }
  },
  {
   "cell_type": "markdown",
   "source": [
    "\n",
    "* [Заблуждения программистов относительно времени](https://habr.com/ru/post/146109/)\n",
    "* [Заблуждения большинства программистов относительно «времени»](https://habr.com/ru/post/313274/)\n"
   ],
   "metadata": {
    "collapsed": false,
    "pycharm": {
     "name": "#%% md\n"
    }
   },
   "outputs": []
  },
  {
   "cell_type": "markdown",
   "source": [
    "\n",
    "# Unix timestamp"
   ],
   "metadata": {
    "collapsed": false,
    "pycharm": {
     "name": "#%% md\n"
    }
   }
  },
  {
   "cell_type": "code",
   "execution_count": 8,
   "outputs": [
    {
     "data": {
      "text/plain": "1664358968.288151"
     },
     "execution_count": 8,
     "metadata": {},
     "output_type": "execute_result"
    }
   ],
   "source": [
    "import time\n",
    "time.time()"
   ],
   "metadata": {
    "collapsed": false,
    "pycharm": {
     "name": "#%%\n"
    }
   }
  },
  {
   "cell_type": "code",
   "execution_count": 2,
   "outputs": [
    {
     "data": {
      "text/plain": "time.struct_time(tm_year=1970, tm_mon=1, tm_mday=1, tm_hour=0, tm_min=0, tm_sec=0, tm_wday=3, tm_yday=1, tm_isdst=0)"
     },
     "execution_count": 2,
     "metadata": {},
     "output_type": "execute_result"
    }
   ],
   "source": [
    "time.gmtime(0)"
   ],
   "metadata": {
    "collapsed": false,
    "pycharm": {
     "name": "#%%\n"
    }
   }
  },
  {
   "cell_type": "code",
   "execution_count": 7,
   "outputs": [
    {
     "data": {
      "text/plain": "1664348128.0"
     },
     "execution_count": 7,
     "metadata": {},
     "output_type": "execute_result"
    }
   ],
   "source": [
    "time.mktime(time.gmtime())"
   ],
   "metadata": {
    "collapsed": false,
    "pycharm": {
     "name": "#%%\n"
    }
   }
  },
  {
   "cell_type": "markdown",
   "source": [
    "# Форматирование времени"
   ],
   "metadata": {
    "collapsed": false,
    "pycharm": {
     "name": "#%% md\n"
    }
   }
  },
  {
   "cell_type": "code",
   "execution_count": 3,
   "outputs": [
    {
     "data": {
      "text/plain": "'Thu Jan  1 00:00:00 1970'"
     },
     "execution_count": 3,
     "metadata": {},
     "output_type": "execute_result"
    }
   ],
   "source": [
    "time.asctime(time.gmtime(0))"
   ],
   "metadata": {
    "collapsed": false,
    "pycharm": {
     "name": "#%%\n"
    }
   }
  },
  {
   "cell_type": "code",
   "execution_count": 5,
   "outputs": [
    {
     "data": {
      "text/plain": "'Wed, 28 Sep 2022 09:54:26 +0000'"
     },
     "execution_count": 5,
     "metadata": {},
     "output_type": "execute_result"
    }
   ],
   "source": [
    "time.strftime(\"%a, %d %b %Y %H:%M:%S +0000\", time.gmtime())"
   ],
   "metadata": {
    "collapsed": false,
    "pycharm": {
     "name": "#%%\n"
    }
   }
  },
  {
   "cell_type": "code",
   "execution_count": 9,
   "outputs": [],
   "source": [
    "import datetime\n",
    "\n",
    "now = datetime.datetime.today()"
   ],
   "metadata": {
    "collapsed": false,
    "pycharm": {
     "name": "#%%\n"
    }
   }
  },
  {
   "cell_type": "code",
   "execution_count": 10,
   "outputs": [
    {
     "data": {
      "text/plain": "'2022-09-28T12:58:03.525285'"
     },
     "execution_count": 10,
     "metadata": {},
     "output_type": "execute_result"
    }
   ],
   "source": [
    "now.isoformat()"
   ],
   "metadata": {
    "collapsed": false,
    "pycharm": {
     "name": "#%%\n"
    }
   }
  },
  {
   "cell_type": "code",
   "execution_count": 11,
   "outputs": [
    {
     "data": {
      "text/plain": "datetime.datetime(2022, 9, 28, 12, 58, 3, 525285)"
     },
     "execution_count": 11,
     "metadata": {},
     "output_type": "execute_result"
    }
   ],
   "source": [
    "datetime.datetime.fromisoformat(now.isoformat())"
   ],
   "metadata": {
    "collapsed": false,
    "pycharm": {
     "name": "#%%\n"
    }
   }
  },
  {
   "cell_type": "markdown",
   "source": [
    "# Монотонные таймеры"
   ],
   "metadata": {
    "collapsed": false,
    "pycharm": {
     "name": "#%% md\n"
    }
   }
  },
  {
   "cell_type": "code",
   "execution_count": 12,
   "outputs": [],
   "source": [
    "start = time.monotonic()\n",
    "time.sleep(0.123)\n",
    "stop = time.monotonic()\n",
    "assert stop - start > 0"
   ],
   "metadata": {
    "collapsed": false,
    "pycharm": {
     "name": "#%%\n"
    }
   }
  },
  {
   "cell_type": "code",
   "execution_count": 16,
   "outputs": [
    {
     "name": "stdout",
     "output_type": "stream",
     "text": [
      "1.209735\n"
     ]
    }
   ],
   "source": [
    "start = time.perf_counter_ns()\n",
    "time.sleep(1e-3)\n",
    "stop = time.perf_counter_ns()\n",
    "print((stop - start)/1_000_000)"
   ],
   "metadata": {
    "collapsed": false,
    "pycharm": {
     "name": "#%%\n"
    }
   }
  },
  {
   "cell_type": "markdown",
   "source": [
    "# Арифметические операции над датами"
   ],
   "metadata": {
    "collapsed": false,
    "pycharm": {
     "name": "#%% md\n"
    }
   }
  },
  {
   "cell_type": "markdown",
   "source": [],
   "metadata": {
    "collapsed": false,
    "pycharm": {
     "name": "#%% md\n"
    }
   }
  },
  {
   "cell_type": "markdown",
   "source": [
    "\n",
    "<table class=\"docutils align-default\">\n",
    "<colgroup>\n",
    "<col style=\"width: 41%\" />\n",
    "<col style=\"width: 59%\" />\n",
    "</colgroup>\n",
    "<thead>\n",
    "<tr class=\"row-odd\"><th class=\"head\"><p>Operation</p></th>\n",
    "<th class=\"head\"><p>Result</p></th>\n",
    "</tr>\n",
    "</thead>\n",
    "<tbody>\n",
    "<tr class=\"row-even\"><td><p><code class=\"docutils literal notranslate\"><span class=\"pre\">t1</span> <span class=\"pre\">=</span> <span class=\"pre\">t2</span> <span class=\"pre\">+</span> <span class=\"pre\">t3</span></code></p></td>\n",
    "<td><p>Sum of <em>t2</em> and <em>t3</em>. Afterwards <em>t1</em>-<em>t2</em> ==\n",
    "<em>t3</em> and <em>t1</em>-<em>t3</em> == <em>t2</em> are true. (1)</p></td>\n",
    "</tr>\n",
    "<tr class=\"row-odd\"><td><p><code class=\"docutils literal notranslate\"><span class=\"pre\">t1</span> <span class=\"pre\">=</span> <span class=\"pre\">t2</span> <span class=\"pre\">-</span> <span class=\"pre\">t3</span></code></p></td>\n",
    "<td><p>Difference of <em>t2</em> and <em>t3</em>. Afterwards <em>t1</em>\n",
    "== <em>t2</em> - <em>t3</em> and <em>t2</em> == <em>t1</em> + <em>t3</em> are\n",
    "true. (1)(6)</p></td>\n",
    "</tr>\n",
    "<tr class=\"row-even\"><td><p><code class=\"docutils literal notranslate\"><span class=\"pre\">t1</span> <span class=\"pre\">=</span> <span class=\"pre\">t2</span> <span class=\"pre\">*</span> <span class=\"pre\">i</span> <span class=\"pre\">or</span> <span class=\"pre\">t1</span> <span class=\"pre\">=</span> <span class=\"pre\">i</span> <span class=\"pre\">*</span> <span class=\"pre\">t2</span></code></p></td>\n",
    "<td><p>Delta multiplied by an integer.\n",
    "Afterwards <em>t1</em> // i == <em>t2</em> is true,\n",
    "provided <code class=\"docutils literal notranslate\"><span class=\"pre\">i</span> <span class=\"pre\">!=</span> <span class=\"pre\">0</span></code>.</p></td>\n",
    "</tr>\n",
    "<tr class=\"row-odd\"><td></td>\n",
    "<td><p>In general, <em>t1</em> * i == <em>t1</em> * (i-1) + <em>t1</em>\n",
    "is true. (1)</p></td>\n",
    "</tr>\n",
    "<tr class=\"row-even\"><td><p><code class=\"docutils literal notranslate\"><span class=\"pre\">t1</span> <span class=\"pre\">=</span> <span class=\"pre\">t2</span> <span class=\"pre\">*</span> <span class=\"pre\">f</span> <span class=\"pre\">or</span> <span class=\"pre\">t1</span> <span class=\"pre\">=</span> <span class=\"pre\">f</span> <span class=\"pre\">*</span> <span class=\"pre\">t2</span></code></p></td>\n",
    "<td><p>Delta multiplied by a float. The result is\n",
    "rounded to the nearest multiple of\n",
    "timedelta.resolution using round-half-to-even.</p></td>\n",
    "</tr>\n",
    "<tr class=\"row-odd\"><td><p><code class=\"docutils literal notranslate\"><span class=\"pre\">f</span> <span class=\"pre\">=</span> <span class=\"pre\">t2</span> <span class=\"pre\">/</span> <span class=\"pre\">t3</span></code></p></td>\n",
    "<td><p>Division (3) of overall duration <em>t2</em> by\n",
    "interval unit <em>t3</em>. Returns a <a class=\"reference internal\" href=\"functions.html#float\" title=\"float\"><code class=\"xref py py-class docutils literal notranslate\"><span class=\"pre\">float</span></code></a>\n",
    "object.</p></td>\n",
    "</tr>\n",
    "<tr class=\"row-even\"><td><p><code class=\"docutils literal notranslate\"><span class=\"pre\">t1</span> <span class=\"pre\">=</span> <span class=\"pre\">t2</span> <span class=\"pre\">/</span> <span class=\"pre\">f</span> <span class=\"pre\">or</span> <span class=\"pre\">t1</span> <span class=\"pre\">=</span> <span class=\"pre\">t2</span> <span class=\"pre\">/</span> <span class=\"pre\">i</span></code></p></td>\n",
    "<td><p>Delta divided by a float or an int. The result\n",
    "is rounded to the nearest multiple of\n",
    "timedelta.resolution using round-half-to-even.</p></td>\n",
    "</tr>\n",
    "<tr class=\"row-odd\"><td><p><code class=\"docutils literal notranslate\"><span class=\"pre\">t1</span> <span class=\"pre\">=</span> <span class=\"pre\">t2</span> <span class=\"pre\">//</span> <span class=\"pre\">i</span></code> or\n",
    "<code class=\"docutils literal notranslate\"><span class=\"pre\">t1</span> <span class=\"pre\">=</span> <span class=\"pre\">t2</span> <span class=\"pre\">//</span> <span class=\"pre\">t3</span></code></p></td>\n",
    "<td><p>The floor is computed and the remainder (if\n",
    "any) is thrown away. In the second case, an\n",
    "integer is returned. (3)</p></td>\n",
    "</tr>\n",
    "<tr class=\"row-even\"><td><p><code class=\"docutils literal notranslate\"><span class=\"pre\">t1</span> <span class=\"pre\">=</span> <span class=\"pre\">t2</span> <span class=\"pre\">%</span> <span class=\"pre\">t3</span></code></p></td>\n",
    "<td><p>The remainder is computed as a\n",
    "<a class=\"reference internal\" href=\"#datetime.timedelta\" title=\"datetime.timedelta\"><code class=\"xref py py-class docutils literal notranslate\"><span class=\"pre\">timedelta</span></code></a> object. (3)</p></td>\n",
    "</tr>\n",
    "<tr class=\"row-odd\"><td><p><code class=\"docutils literal notranslate\"><span class=\"pre\">q,</span> <span class=\"pre\">r</span> <span class=\"pre\">=</span> <span class=\"pre\">divmod(t1,</span> <span class=\"pre\">t2)</span></code></p></td>\n",
    "<td><p>Computes the quotient and the remainder:\n",
    "<code class=\"docutils literal notranslate\"><span class=\"pre\">q</span> <span class=\"pre\">=</span> <span class=\"pre\">t1</span> <span class=\"pre\">//</span> <span class=\"pre\">t2</span></code> (3) and <code class=\"docutils literal notranslate\"><span class=\"pre\">r</span> <span class=\"pre\">=</span> <span class=\"pre\">t1</span> <span class=\"pre\">%</span> <span class=\"pre\">t2</span></code>.\n",
    "q is an integer and r is a <a class=\"reference internal\" href=\"#datetime.timedelta\" title=\"datetime.timedelta\"><code class=\"xref py py-class docutils literal notranslate\"><span class=\"pre\">timedelta</span></code></a>\n",
    "object.</p></td>\n",
    "</tr>\n",
    "<tr class=\"row-even\"><td><p><code class=\"docutils literal notranslate\"><span class=\"pre\">+t1</span></code></p></td>\n",
    "<td><p>Returns a <a class=\"reference internal\" href=\"#datetime.timedelta\" title=\"datetime.timedelta\"><code class=\"xref py py-class docutils literal notranslate\"><span class=\"pre\">timedelta</span></code></a> object with the\n",
    "same value. (2)</p></td>\n",
    "</tr>\n",
    "<tr class=\"row-odd\"><td><p><code class=\"docutils literal notranslate\"><span class=\"pre\">-t1</span></code></p></td>\n",
    "<td><p>equivalent to\n",
    "<a class=\"reference internal\" href=\"#datetime.timedelta\" title=\"datetime.timedelta\"><code class=\"xref py py-class docutils literal notranslate\"><span class=\"pre\">timedelta</span></code></a>(-<em>t1.days</em>,\n",
    "-<em>t1.seconds</em>, -<em>t1.microseconds</em>),\n",
    "and to <em>t1</em>* -1. (1)(4)</p></td>\n",
    "</tr>\n",
    "<tr class=\"row-even\"><td><p><code class=\"docutils literal notranslate\"><span class=\"pre\">abs(t)</span></code></p></td>\n",
    "<td><p>equivalent to +<em>t</em> when <code class=\"docutils literal notranslate\"><span class=\"pre\">t.days</span> <span class=\"pre\">&gt;=</span> <span class=\"pre\">0</span></code>,\n",
    "and to -<em>t</em> when <code class=\"docutils literal notranslate\"><span class=\"pre\">t.days</span> <span class=\"pre\">&lt;</span> <span class=\"pre\">0</span></code>. (2)</p></td>\n",
    "</tr>\n",
    "<tr class=\"row-odd\"><td><p><code class=\"docutils literal notranslate\"><span class=\"pre\">str(t)</span></code></p></td>\n",
    "<td><p>Returns a string in the form\n",
    "<code class=\"docutils literal notranslate\"><span class=\"pre\">[D</span> <span class=\"pre\">day[s],</span> <span class=\"pre\">][H]H:MM:SS[.UUUUUU]</span></code>, where D\n",
    "is negative for negative <code class=\"docutils literal notranslate\"><span class=\"pre\">t</span></code>. (5)</p></td>\n",
    "</tr>\n",
    "<tr class=\"row-even\"><td><p><code class=\"docutils literal notranslate\"><span class=\"pre\">repr(t)</span></code></p></td>\n",
    "<td><p>Returns a string representation of the\n",
    "<a class=\"reference internal\" href=\"#datetime.timedelta\" title=\"datetime.timedelta\"><code class=\"xref py py-class docutils literal notranslate\"><span class=\"pre\">timedelta</span></code></a> object as a constructor\n",
    "call with canonical attribute values.</p></td>\n",
    "</tr>\n",
    "</tbody>\n",
    "</table>"
   ],
   "metadata": {
    "collapsed": false,
    "pycharm": {
     "name": "#%% md\n"
    }
   }
  },
  {
   "cell_type": "markdown",
   "source": [
    "# Календарь и часовые пояса\n"
   ],
   "metadata": {
    "collapsed": false,
    "pycharm": {
     "name": "#%% md\n"
    }
   }
  },
  {
   "cell_type": "code",
   "execution_count": 17,
   "outputs": [],
   "source": [
    "from calendar import TextCalendar"
   ],
   "metadata": {
    "collapsed": false,
    "pycharm": {
     "name": "#%%\n"
    }
   }
  },
  {
   "cell_type": "code",
   "execution_count": 18,
   "outputs": [
    {
     "name": "stdout",
     "output_type": "stream",
     "text": [
      "                                  2023\n",
      "\n",
      "      January                   February                   March\n",
      "Mo Tu We Th Fr Sa Su      Mo Tu We Th Fr Sa Su      Mo Tu We Th Fr Sa Su\n",
      "                   1             1  2  3  4  5             1  2  3  4  5\n",
      " 2  3  4  5  6  7  8       6  7  8  9 10 11 12       6  7  8  9 10 11 12\n",
      " 9 10 11 12 13 14 15      13 14 15 16 17 18 19      13 14 15 16 17 18 19\n",
      "16 17 18 19 20 21 22      20 21 22 23 24 25 26      20 21 22 23 24 25 26\n",
      "23 24 25 26 27 28 29      27 28                     27 28 29 30 31\n",
      "30 31\n",
      "\n",
      "       April                      May                       June\n",
      "Mo Tu We Th Fr Sa Su      Mo Tu We Th Fr Sa Su      Mo Tu We Th Fr Sa Su\n",
      "                1  2       1  2  3  4  5  6  7                1  2  3  4\n",
      " 3  4  5  6  7  8  9       8  9 10 11 12 13 14       5  6  7  8  9 10 11\n",
      "10 11 12 13 14 15 16      15 16 17 18 19 20 21      12 13 14 15 16 17 18\n",
      "17 18 19 20 21 22 23      22 23 24 25 26 27 28      19 20 21 22 23 24 25\n",
      "24 25 26 27 28 29 30      29 30 31                  26 27 28 29 30\n",
      "\n",
      "        July                     August                  September\n",
      "Mo Tu We Th Fr Sa Su      Mo Tu We Th Fr Sa Su      Mo Tu We Th Fr Sa Su\n",
      "                1  2          1  2  3  4  5  6                   1  2  3\n",
      " 3  4  5  6  7  8  9       7  8  9 10 11 12 13       4  5  6  7  8  9 10\n",
      "10 11 12 13 14 15 16      14 15 16 17 18 19 20      11 12 13 14 15 16 17\n",
      "17 18 19 20 21 22 23      21 22 23 24 25 26 27      18 19 20 21 22 23 24\n",
      "24 25 26 27 28 29 30      28 29 30 31               25 26 27 28 29 30\n",
      "31\n",
      "\n",
      "      October                   November                  December\n",
      "Mo Tu We Th Fr Sa Su      Mo Tu We Th Fr Sa Su      Mo Tu We Th Fr Sa Su\n",
      "                   1             1  2  3  4  5                   1  2  3\n",
      " 2  3  4  5  6  7  8       6  7  8  9 10 11 12       4  5  6  7  8  9 10\n",
      " 9 10 11 12 13 14 15      13 14 15 16 17 18 19      11 12 13 14 15 16 17\n",
      "16 17 18 19 20 21 22      20 21 22 23 24 25 26      18 19 20 21 22 23 24\n",
      "23 24 25 26 27 28 29      27 28 29 30               25 26 27 28 29 30 31\n",
      "30 31\n"
     ]
    }
   ],
   "source": [
    "TextCalendar().pryear(2023)"
   ],
   "metadata": {
    "collapsed": false,
    "pycharm": {
     "name": "#%%\n"
    }
   }
  },
  {
   "cell_type": "code",
   "execution_count": 31,
   "outputs": [
    {
     "data": {
      "text/plain": "datetime.datetime(2022, 9, 28, 13, 39, 5, 324923)"
     },
     "execution_count": 31,
     "metadata": {},
     "output_type": "execute_result"
    }
   ],
   "source": [
    "from zoneinfo import ZoneInfo\n",
    "now = datetime.datetime.today()\n",
    "now"
   ],
   "metadata": {
    "collapsed": false,
    "pycharm": {
     "name": "#%%\n"
    }
   }
  },
  {
   "cell_type": "code",
   "execution_count": 32,
   "outputs": [
    {
     "data": {
      "text/plain": "datetime.datetime(2022, 9, 28, 3, 39, 5, 324923, tzinfo=zoneinfo.ZoneInfo(key='America/Los_Angeles'))"
     },
     "execution_count": 32,
     "metadata": {},
     "output_type": "execute_result"
    }
   ],
   "source": [
    "now.astimezone(ZoneInfo(\"America/Los_Angeles\"))"
   ],
   "metadata": {
    "collapsed": false,
    "pycharm": {
     "name": "#%%\n"
    }
   }
  },
  {
   "cell_type": "code",
   "execution_count": 26,
   "outputs": [
    {
     "data": {
      "text/plain": "datetime.datetime(2022, 9, 28, 13, 37, 24, 177161, tzinfo=zoneinfo.ZoneInfo(key='America/Los_Angeles'))"
     },
     "execution_count": 26,
     "metadata": {},
     "output_type": "execute_result"
    }
   ],
   "source": [
    "dt = datetime.datetime(2022, 9, 28, 13, 37, 24, 177161, tzinfo=ZoneInfo(\"America/Los_Angeles\"))\n",
    "dt"
   ],
   "metadata": {
    "collapsed": false,
    "pycharm": {
     "name": "#%%\n"
    }
   }
  },
  {
   "cell_type": "code",
   "execution_count": 34,
   "outputs": [
    {
     "data": {
      "text/plain": "datetime.timedelta(0)"
     },
     "execution_count": 34,
     "metadata": {},
     "output_type": "execute_result"
    }
   ],
   "source": [
    "now.astimezone(ZoneInfo(\"Pacific/Kwajalein\")) - now.astimezone(ZoneInfo(\"America/Los_Angeles\"))"
   ],
   "metadata": {
    "collapsed": false,
    "pycharm": {
     "name": "#%%\n"
    }
   }
  },
  {
   "cell_type": "code",
   "execution_count": null,
   "outputs": [],
   "source": [],
   "metadata": {
    "collapsed": false,
    "pycharm": {
     "name": "#%%\n"
    }
   }
  }
 ],
 "metadata": {
  "kernelspec": {
   "display_name": "Python 3",
   "language": "python",
   "name": "python3"
  },
  "language_info": {
   "codemirror_mode": {
    "name": "ipython",
    "version": 2
   },
   "file_extension": ".py",
   "mimetype": "text/x-python",
   "name": "python",
   "nbconvert_exporter": "python",
   "pygments_lexer": "ipython2",
   "version": "2.7.6"
  }
 },
 "nbformat": 4,
 "nbformat_minor": 0
}