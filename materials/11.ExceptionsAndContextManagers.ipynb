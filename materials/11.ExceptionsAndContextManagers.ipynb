{
 "cells": [
  {
   "cell_type": "markdown",
   "source": [
    "# Генерация исключений"
   ],
   "metadata": {
    "collapsed": false,
    "pycharm": {
     "name": "#%% md\n"
    }
   }
  },
  {
   "cell_type": "code",
   "execution_count": 13,
   "outputs": [],
   "source": [
    "from enum import Enum, auto\n",
    "\n",
    "class HungryCatError(Exception):\n",
    "    pass\n",
    "\n",
    "class FeederError(Exception):\n",
    "    pass\n",
    "\n",
    "class CloseFeeder(FeederError):\n",
    "    pass\n",
    "\n",
    "\n",
    "class NoFood(FeederError):\n",
    "    def __init__(self, food, message):\n",
    "        self.food = food\n",
    "        self.mesage = message\n",
    "\n",
    "\n",
    "class FeederState(Enum):\n",
    "    open = auto()\n",
    "    close = auto()\n",
    "\n",
    "\n",
    "class Feeder:\n",
    "    def __init__(self, food):\n",
    "        super().__init__()\n",
    "        self.food = food\n",
    "        self.state = FeederState.close\n",
    "\n",
    "    def open(self):\n",
    "        self.state = FeederState.open\n",
    "\n",
    "    def close(self):\n",
    "        self.state = FeederState.close\n",
    "\n",
    "    def get_food(self, food)-> int:\n",
    "        if self.state != FeederState.open:\n",
    "            raise CloseFeeder\n",
    "        if food < self.food:\n",
    "            self.food -= food\n",
    "            return food\n",
    "        raise NoFood(self.food, \"Need more food, milord\")"
   ],
   "metadata": {
    "collapsed": false,
    "pycharm": {
     "name": "#%%\n"
    }
   }
  },
  {
   "cell_type": "code",
   "execution_count": 14,
   "outputs": [],
   "source": [
    "class Dog():\n",
    "\n",
    "    def rob_feeder(self, feeder: Feeder):\n",
    "        try:\n",
    "            feeder.get_food(20)\n",
    "        except CloseFeeder:\n",
    "            feeder.open()\n",
    "        except NoFood as no_food:\n",
    "            food = no_food.food\n",
    "            feeder.get_food(food)\n",
    "        finally:\n",
    "            print(\"Gav-Gav\")\n",
    "\n",
    "\n"
   ],
   "metadata": {
    "collapsed": false,
    "pycharm": {
     "name": "#%%\n"
    }
   }
  },
  {
   "cell_type": "code",
   "execution_count": 15,
   "outputs": [],
   "source": [
    "feeder = Feeder(60)\n",
    "dog = Dog()"
   ],
   "metadata": {
    "collapsed": false,
    "pycharm": {
     "name": "#%%\n"
    }
   }
  },
  {
   "cell_type": "code",
   "execution_count": 17,
   "outputs": [
    {
     "name": "stdout",
     "output_type": "stream",
     "text": [
      "Gav-Gav\n"
     ]
    }
   ],
   "source": [
    "dog.rob_feeder(feeder)\n"
   ],
   "metadata": {
    "collapsed": false,
    "pycharm": {
     "name": "#%%\n"
    }
   }
  },
  {
   "cell_type": "code",
   "execution_count": 11,
   "outputs": [],
   "source": [
    "class Cat():\n",
    "    def rob_feeder(self, feeder: Feeder):\n",
    "        try:\n",
    "            feeder.get_food(10)\n",
    "        except FeederError:\n",
    "            raise HungryCatError"
   ],
   "metadata": {
    "collapsed": false,
    "pycharm": {
     "name": "#%%\n"
    }
   }
  },
  {
   "cell_type": "code",
   "execution_count": 20,
   "outputs": [
    {
     "ename": "HungryCatError",
     "evalue": "",
     "output_type": "error",
     "traceback": [
      "\u001B[0;31m---------------------------------------------------------------------------\u001B[0m",
      "\u001B[0;31mCloseFeeder\u001B[0m                               Traceback (most recent call last)",
      "Cell \u001B[0;32mIn [11], line 4\u001B[0m, in \u001B[0;36mCat.rob_feeder\u001B[0;34m(self, feeder)\u001B[0m\n\u001B[1;32m      3\u001B[0m \u001B[38;5;28;01mtry\u001B[39;00m:\n\u001B[0;32m----> 4\u001B[0m     \u001B[43mfeeder\u001B[49m\u001B[38;5;241;43m.\u001B[39;49m\u001B[43mget_food\u001B[49m\u001B[43m(\u001B[49m\u001B[38;5;241;43m10\u001B[39;49m\u001B[43m)\u001B[49m\n\u001B[1;32m      5\u001B[0m \u001B[38;5;28;01mexcept\u001B[39;00m FeederError:\n",
      "Cell \u001B[0;32mIn [13], line 38\u001B[0m, in \u001B[0;36mFeeder.get_food\u001B[0;34m(self, food)\u001B[0m\n\u001B[1;32m     37\u001B[0m \u001B[38;5;28;01mif\u001B[39;00m \u001B[38;5;28mself\u001B[39m\u001B[38;5;241m.\u001B[39mstate \u001B[38;5;241m!=\u001B[39m FeederState\u001B[38;5;241m.\u001B[39mopen:\n\u001B[0;32m---> 38\u001B[0m     \u001B[38;5;28;01mraise\u001B[39;00m CloseFeeder\n\u001B[1;32m     39\u001B[0m \u001B[38;5;28;01mif\u001B[39;00m food \u001B[38;5;241m<\u001B[39m \u001B[38;5;28mself\u001B[39m\u001B[38;5;241m.\u001B[39mfood:\n",
      "\u001B[0;31mCloseFeeder\u001B[0m: ",
      "\nDuring handling of the above exception, another exception occurred:\n",
      "\u001B[0;31mHungryCatError\u001B[0m                            Traceback (most recent call last)",
      "Cell \u001B[0;32mIn [20], line 3\u001B[0m\n\u001B[1;32m      1\u001B[0m feeder \u001B[38;5;241m=\u001B[39m Feeder(\u001B[38;5;241m60\u001B[39m)\n\u001B[1;32m      2\u001B[0m cat \u001B[38;5;241m=\u001B[39m Cat()\n\u001B[0;32m----> 3\u001B[0m \u001B[43mcat\u001B[49m\u001B[38;5;241;43m.\u001B[39;49m\u001B[43mrob_feeder\u001B[49m\u001B[43m(\u001B[49m\u001B[43mfeeder\u001B[49m\u001B[43m)\u001B[49m\n",
      "Cell \u001B[0;32mIn [11], line 6\u001B[0m, in \u001B[0;36mCat.rob_feeder\u001B[0;34m(self, feeder)\u001B[0m\n\u001B[1;32m      4\u001B[0m     feeder\u001B[38;5;241m.\u001B[39mget_food(\u001B[38;5;241m10\u001B[39m)\n\u001B[1;32m      5\u001B[0m \u001B[38;5;28;01mexcept\u001B[39;00m FeederError:\n\u001B[0;32m----> 6\u001B[0m     \u001B[38;5;28;01mraise\u001B[39;00m HungryCatError\n",
      "\u001B[0;31mHungryCatError\u001B[0m: "
     ]
    }
   ],
   "source": [
    "feeder = Feeder(60)\n",
    "cat = Cat()\n",
    "cat.rob_feeder(feeder)"
   ],
   "metadata": {
    "collapsed": false,
    "pycharm": {
     "name": "#%%\n"
    }
   }
  },
  {
   "cell_type": "code",
   "execution_count": null,
   "outputs": [],
   "source": [],
   "metadata": {
    "collapsed": false,
    "pycharm": {
     "name": "#%%\n"
    }
   }
  },
  {
   "cell_type": "markdown",
   "source": [
    "# Менеджеры контекстов"
   ],
   "metadata": {
    "collapsed": false,
    "pycharm": {
     "name": "#%% md\n"
    }
   }
  },
  {
   "cell_type": "code",
   "execution_count": 22,
   "outputs": [
    {
     "name": "stdout",
     "output_type": "stream",
     "text": [
      "Gav-Gav\n"
     ]
    }
   ],
   "source": [
    "feeder = Feeder(60)\n",
    "dog = Dog()\n",
    "dog.rob_feeder(feeder)"
   ],
   "metadata": {
    "collapsed": false,
    "pycharm": {
     "name": "#%%\n"
    }
   }
  },
  {
   "cell_type": "code",
   "execution_count": 23,
   "outputs": [
    {
     "data": {
      "text/plain": "<FeederState.open: 1>"
     },
     "execution_count": 23,
     "metadata": {},
     "output_type": "execute_result"
    }
   ],
   "source": [
    "feeder.state"
   ],
   "metadata": {
    "collapsed": false,
    "pycharm": {
     "name": "#%%\n"
    }
   }
  },
  {
   "cell_type": "code",
   "execution_count": 26,
   "outputs": [],
   "source": [
    "from contextlib import contextmanager\n",
    "\n",
    "\n",
    "@contextmanager\n",
    "def open(feeder: Feeder):\n",
    "    try:\n",
    "        feeder.open()\n",
    "        yield feeder\n",
    "    finally:\n",
    "        feeder.close()"
   ],
   "metadata": {
    "collapsed": false,
    "pycharm": {
     "name": "#%%\n"
    }
   }
  },
  {
   "cell_type": "code",
   "execution_count": 27,
   "outputs": [
    {
     "name": "stdout",
     "output_type": "stream",
     "text": [
      "Gav-Gav\n"
     ]
    }
   ],
   "source": [
    "with open(feeder):\n",
    "    dog.rob_feeder(feeder)"
   ],
   "metadata": {
    "collapsed": false,
    "pycharm": {
     "name": "#%%\n"
    }
   }
  },
  {
   "cell_type": "code",
   "execution_count": null,
   "outputs": [],
   "source": [],
   "metadata": {
    "collapsed": false,
    "pycharm": {
     "name": "#%%\n"
    }
   }
  },
  {
   "cell_type": "code",
   "execution_count": 31,
   "outputs": [],
   "source": [
    "class Feeder:\n",
    "    def __init__(self, food):\n",
    "        super().__init__()\n",
    "        self.food = food\n",
    "        self.state = FeederState.close\n",
    "\n",
    "    def __enter__(self):\n",
    "        self.open()\n",
    "        return self\n",
    "\n",
    "    def __exit__(self, exc_type, exc_val, exc_tb):\n",
    "        print(exc_type, exc_val, exc_tb)\n",
    "        self.close()\n",
    "\n",
    "    def open(self):\n",
    "        self.state = FeederState.open\n",
    "\n",
    "    def close(self):\n",
    "        self.state = FeederState.close\n",
    "\n",
    "    def get_food(self, food)-> int:\n",
    "        if self.state != FeederState.open:\n",
    "            raise CloseFeeder\n",
    "        if food < self.food:\n",
    "            self.food -= food\n",
    "            return food\n",
    "        raise NoFood(self.food, \"Need more food, milord\")"
   ],
   "metadata": {
    "collapsed": false,
    "pycharm": {
     "name": "#%%\n"
    }
   }
  },
  {
   "cell_type": "code",
   "execution_count": 33,
   "outputs": [
    {
     "name": "stdout",
     "output_type": "stream",
     "text": [
      "<class '__main__.HungryCatError'>  <traceback object at 0x7f53b73de240>\n"
     ]
    },
    {
     "ename": "HungryCatError",
     "evalue": "",
     "output_type": "error",
     "traceback": [
      "\u001B[0;31m---------------------------------------------------------------------------\u001B[0m",
      "\u001B[0;31mNoFood\u001B[0m                                    Traceback (most recent call last)",
      "Cell \u001B[0;32mIn [11], line 4\u001B[0m, in \u001B[0;36mCat.rob_feeder\u001B[0;34m(self, feeder)\u001B[0m\n\u001B[1;32m      3\u001B[0m \u001B[38;5;28;01mtry\u001B[39;00m:\n\u001B[0;32m----> 4\u001B[0m     \u001B[43mfeeder\u001B[49m\u001B[38;5;241;43m.\u001B[39;49m\u001B[43mget_food\u001B[49m\u001B[43m(\u001B[49m\u001B[38;5;241;43m10\u001B[39;49m\u001B[43m)\u001B[49m\n\u001B[1;32m      5\u001B[0m \u001B[38;5;28;01mexcept\u001B[39;00m FeederError:\n",
      "Cell \u001B[0;32mIn [31], line 27\u001B[0m, in \u001B[0;36mFeeder.get_food\u001B[0;34m(self, food)\u001B[0m\n\u001B[1;32m     26\u001B[0m     \u001B[38;5;28;01mreturn\u001B[39;00m food\n\u001B[0;32m---> 27\u001B[0m \u001B[38;5;28;01mraise\u001B[39;00m NoFood(\u001B[38;5;28mself\u001B[39m\u001B[38;5;241m.\u001B[39mfood, \u001B[38;5;124m\"\u001B[39m\u001B[38;5;124mNeed more food, milord\u001B[39m\u001B[38;5;124m\"\u001B[39m)\n",
      "\u001B[0;31mNoFood\u001B[0m: (5, 'Need more food, milord')",
      "\nDuring handling of the above exception, another exception occurred:\n",
      "\u001B[0;31mHungryCatError\u001B[0m                            Traceback (most recent call last)",
      "Cell \u001B[0;32mIn [33], line 3\u001B[0m\n\u001B[1;32m      1\u001B[0m cat \u001B[38;5;241m=\u001B[39m Cat()\n\u001B[1;32m      2\u001B[0m \u001B[38;5;28;01mwith\u001B[39;00m Feeder(\u001B[38;5;241m5\u001B[39m) \u001B[38;5;28;01mas\u001B[39;00m feeder:\n\u001B[0;32m----> 3\u001B[0m     \u001B[43mcat\u001B[49m\u001B[38;5;241;43m.\u001B[39;49m\u001B[43mrob_feeder\u001B[49m\u001B[43m(\u001B[49m\u001B[43mfeeder\u001B[49m\u001B[43m)\u001B[49m\n\u001B[1;32m      4\u001B[0m feeder\u001B[38;5;241m.\u001B[39mstate\n",
      "Cell \u001B[0;32mIn [11], line 6\u001B[0m, in \u001B[0;36mCat.rob_feeder\u001B[0;34m(self, feeder)\u001B[0m\n\u001B[1;32m      4\u001B[0m     feeder\u001B[38;5;241m.\u001B[39mget_food(\u001B[38;5;241m10\u001B[39m)\n\u001B[1;32m      5\u001B[0m \u001B[38;5;28;01mexcept\u001B[39;00m FeederError:\n\u001B[0;32m----> 6\u001B[0m     \u001B[38;5;28;01mraise\u001B[39;00m HungryCatError\n",
      "\u001B[0;31mHungryCatError\u001B[0m: "
     ]
    }
   ],
   "source": [
    "cat = Cat()\n",
    "with Feeder(5) as feeder:\n",
    "    cat.rob_feeder(feeder)"
   ],
   "metadata": {
    "collapsed": false,
    "pycharm": {
     "name": "#%%\n"
    }
   }
  },
  {
   "cell_type": "code",
   "execution_count": 34,
   "outputs": [
    {
     "data": {
      "text/plain": "<FeederState.close: 2>"
     },
     "execution_count": 34,
     "metadata": {},
     "output_type": "execute_result"
    }
   ],
   "source": [
    "feeder.state"
   ],
   "metadata": {
    "collapsed": false,
    "pycharm": {
     "name": "#%%\n"
    }
   }
  },
  {
   "cell_type": "code",
   "execution_count": null,
   "outputs": [],
   "source": [],
   "metadata": {
    "collapsed": false,
    "pycharm": {
     "name": "#%%\n"
    }
   }
  }
 ],
 "metadata": {
  "kernelspec": {
   "display_name": "Python 3",
   "language": "python",
   "name": "python3"
  },
  "language_info": {
   "codemirror_mode": {
    "name": "ipython",
    "version": 2
   },
   "file_extension": ".py",
   "mimetype": "text/x-python",
   "name": "python",
   "nbconvert_exporter": "python",
   "pygments_lexer": "ipython2",
   "version": "2.7.6"
  }
 },
 "nbformat": 4,
 "nbformat_minor": 0
}