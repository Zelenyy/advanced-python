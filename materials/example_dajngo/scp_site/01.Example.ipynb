{
 "cells": [
  {
   "cell_type": "markdown",
   "source": [
    "`python manage.py makemigrations masters`\n",
    "`python manage.py shell`\n",
    "`python manage.py migrate`\n",
    "`python manage.py createsuperuser`\n",
    "`python manage.py runserver`"
   ],
   "metadata": {
    "collapsed": false,
    "pycharm": {
     "name": "#%% md\n"
    }
   }
  },
  {
   "cell_type": "code",
   "execution_count": 1,
   "outputs": [
    {
     "name": "stdout",
     "output_type": "stream",
     "text": [
      "Watching for file changes with StatReloader\r\n",
      "Performing system checks...\r\n",
      "\r\n",
      "System check identified no issues (0 silenced).\r\n",
      "\u001B[31m\r\n",
      "You have 1 unapplied migration(s). Your project may not work properly until you apply the migrations for app(s): masters.\u001B[0m\r\n",
      "\u001B[31mRun 'python manage.py migrate' to apply them.\u001B[0m\r\n",
      "September 22, 2022 - 12:59:48\r\n",
      "Django version 4.1.1, using settings 'scp_site.settings'\r\n",
      "Starting development server at http://127.0.0.1:8000/\r\n",
      "Quit the server with CONTROL-C.\r\n",
      "[22/Sep/2022 12:59:53] \u001B[m\"GET / HTTP/1.1\" 200 10681\u001B[0m\r\n",
      "[22/Sep/2022 12:59:53] \u001B[36m\"GET /static/admin/css/fonts.css HTTP/1.1\" 304 0\u001B[0m\r\n",
      "[22/Sep/2022 12:59:53] \u001B[36m\"GET /static/admin/fonts/Roboto-Bold-webfont.woff HTTP/1.1\" 304 0\u001B[0m\r\n",
      "[22/Sep/2022 12:59:53] \u001B[36m\"GET /static/admin/fonts/Roboto-Regular-webfont.woff HTTP/1.1\" 304 0\u001B[0m\r\n",
      "[22/Sep/2022 12:59:53] \u001B[36m\"GET /static/admin/fonts/Roboto-Light-webfont.woff HTTP/1.1\" 304 0\u001B[0m\r\n",
      "[22/Sep/2022 12:59:59] \u001B[m\"GET /admin/ HTTP/1.1\" 200 4237\u001B[0m\r\n",
      "[22/Sep/2022 12:59:59] \u001B[36m\"GET /static/admin/css/base.css HTTP/1.1\" 304 0\u001B[0m\r\n",
      "[22/Sep/2022 12:59:59] \u001B[36m\"GET /static/admin/css/dark_mode.css HTTP/1.1\" 304 0\u001B[0m\r\n",
      "[22/Sep/2022 12:59:59] \u001B[36m\"GET /static/admin/css/nav_sidebar.css HTTP/1.1\" 304 0\u001B[0m\r\n",
      "[22/Sep/2022 12:59:59] \u001B[36m\"GET /static/admin/css/dashboard.css HTTP/1.1\" 304 0\u001B[0m\r\n",
      "[22/Sep/2022 12:59:59] \u001B[36m\"GET /static/admin/css/responsive.css HTTP/1.1\" 304 0\u001B[0m\r\n",
      "[22/Sep/2022 12:59:59] \u001B[36m\"GET /static/admin/js/nav_sidebar.js HTTP/1.1\" 304 0\u001B[0m\r\n",
      "[22/Sep/2022 12:59:59] \u001B[36m\"GET /static/admin/img/icon-addlink.svg HTTP/1.1\" 304 0\u001B[0m\r\n",
      "[22/Sep/2022 12:59:59] \u001B[36m\"GET /static/admin/img/icon-changelink.svg HTTP/1.1\" 304 0\u001B[0m\r\n",
      "Internal Server Error: /admin/masters/person/\r\n",
      "Traceback (most recent call last):\r\n",
      "  File \"/home/zelenyy/npm/scp-masters/advanced-python/venv/lib/python3.10/site-packages/django/db/backends/utils.py\", line 89, in _execute\r\n",
      "    return self.cursor.execute(sql, params)\r\n",
      "  File \"/home/zelenyy/npm/scp-masters/advanced-python/venv/lib/python3.10/site-packages/django/db/backends/sqlite3/base.py\", line 357, in execute\r\n",
      "    return Database.Cursor.execute(self, query, params)\r\n",
      "sqlite3.OperationalError: no such table: masters_person\r\n",
      "\r\n",
      "The above exception was the direct cause of the following exception:\r\n",
      "\r\n",
      "Traceback (most recent call last):\r\n",
      "  File \"/home/zelenyy/npm/scp-masters/advanced-python/venv/lib/python3.10/site-packages/django/core/handlers/exception.py\", line 55, in inner\r\n",
      "    response = get_response(request)\r\n",
      "  File \"/home/zelenyy/npm/scp-masters/advanced-python/venv/lib/python3.10/site-packages/django/core/handlers/base.py\", line 197, in _get_response\r\n",
      "    response = wrapped_callback(request, *callback_args, **callback_kwargs)\r\n",
      "  File \"/home/zelenyy/npm/scp-masters/advanced-python/venv/lib/python3.10/site-packages/django/contrib/admin/options.py\", line 686, in wrapper\r\n",
      "    return self.admin_site.admin_view(view)(*args, **kwargs)\r\n",
      "  File \"/home/zelenyy/npm/scp-masters/advanced-python/venv/lib/python3.10/site-packages/django/utils/decorators.py\", line 133, in _wrapped_view\r\n",
      "    response = view_func(request, *args, **kwargs)\r\n",
      "  File \"/home/zelenyy/npm/scp-masters/advanced-python/venv/lib/python3.10/site-packages/django/views/decorators/cache.py\", line 62, in _wrapped_view_func\r\n",
      "    response = view_func(request, *args, **kwargs)\r\n",
      "  File \"/home/zelenyy/npm/scp-masters/advanced-python/venv/lib/python3.10/site-packages/django/contrib/admin/sites.py\", line 242, in inner\r\n",
      "    return view(request, *args, **kwargs)\r\n",
      "  File \"/home/zelenyy/npm/scp-masters/advanced-python/venv/lib/python3.10/site-packages/django/utils/decorators.py\", line 46, in _wrapper\r\n",
      "    return bound_method(*args, **kwargs)\r\n",
      "  File \"/home/zelenyy/npm/scp-masters/advanced-python/venv/lib/python3.10/site-packages/django/utils/decorators.py\", line 133, in _wrapped_view\r\n",
      "    response = view_func(request, *args, **kwargs)\r\n",
      "  File \"/home/zelenyy/npm/scp-masters/advanced-python/venv/lib/python3.10/site-packages/django/contrib/admin/options.py\", line 1931, in changelist_view\r\n",
      "    cl = self.get_changelist_instance(request)\r\n",
      "  File \"/home/zelenyy/npm/scp-masters/advanced-python/venv/lib/python3.10/site-packages/django/contrib/admin/options.py\", line 834, in get_changelist_instance\r\n",
      "    return ChangeList(\r\n",
      "  File \"/home/zelenyy/npm/scp-masters/advanced-python/venv/lib/python3.10/site-packages/django/contrib/admin/views/main.py\", line 123, in __init__\r\n",
      "    self.get_results(request)\r\n",
      "  File \"/home/zelenyy/npm/scp-masters/advanced-python/venv/lib/python3.10/site-packages/django/contrib/admin/views/main.py\", line 279, in get_results\r\n",
      "    result_count = paginator.count\r\n",
      "  File \"/home/zelenyy/npm/scp-masters/advanced-python/venv/lib/python3.10/site-packages/django/utils/functional.py\", line 57, in __get__\r\n",
      "    res = instance.__dict__[self.name] = self.func(instance)\r\n",
      "  File \"/home/zelenyy/npm/scp-masters/advanced-python/venv/lib/python3.10/site-packages/django/core/paginator.py\", line 96, in count\r\n",
      "    return c()\r\n",
      "  File \"/home/zelenyy/npm/scp-masters/advanced-python/venv/lib/python3.10/site-packages/django/db/models/query.py\", line 621, in count\r\n",
      "    return self.query.get_count(using=self.db)\r\n",
      "  File \"/home/zelenyy/npm/scp-masters/advanced-python/venv/lib/python3.10/site-packages/django/db/models/sql/query.py\", line 559, in get_count\r\n",
      "    return obj.get_aggregation(using, [\"__count\"])[\"__count\"]\r\n",
      "  File \"/home/zelenyy/npm/scp-masters/advanced-python/venv/lib/python3.10/site-packages/django/db/models/sql/query.py\", line 544, in get_aggregation\r\n",
      "    result = compiler.execute_sql(SINGLE)\r\n",
      "  File \"/home/zelenyy/npm/scp-masters/advanced-python/venv/lib/python3.10/site-packages/django/db/models/sql/compiler.py\", line 1395, in execute_sql\r\n",
      "    cursor.execute(sql, params)\r\n",
      "  File \"/home/zelenyy/npm/scp-masters/advanced-python/venv/lib/python3.10/site-packages/django/db/backends/utils.py\", line 103, in execute\r\n",
      "    return super().execute(sql, params)\r\n",
      "  File \"/home/zelenyy/npm/scp-masters/advanced-python/venv/lib/python3.10/site-packages/django/db/backends/utils.py\", line 67, in execute\r\n",
      "    return self._execute_with_wrappers(\r\n",
      "  File \"/home/zelenyy/npm/scp-masters/advanced-python/venv/lib/python3.10/site-packages/django/db/backends/utils.py\", line 80, in _execute_with_wrappers\r\n",
      "    return executor(sql, params, many, context)\r\n",
      "  File \"/home/zelenyy/npm/scp-masters/advanced-python/venv/lib/python3.10/site-packages/django/db/backends/utils.py\", line 84, in _execute\r\n",
      "    with self.db.wrap_database_errors:\r\n",
      "  File \"/home/zelenyy/npm/scp-masters/advanced-python/venv/lib/python3.10/site-packages/django/db/utils.py\", line 91, in __exit__\r\n",
      "    raise dj_exc_value.with_traceback(traceback) from exc_value\r\n",
      "  File \"/home/zelenyy/npm/scp-masters/advanced-python/venv/lib/python3.10/site-packages/django/db/backends/utils.py\", line 89, in _execute\r\n",
      "    return self.cursor.execute(sql, params)\r\n",
      "  File \"/home/zelenyy/npm/scp-masters/advanced-python/venv/lib/python3.10/site-packages/django/db/backends/sqlite3/base.py\", line 357, in execute\r\n",
      "    return Database.Cursor.execute(self, query, params)\r\n",
      "django.db.utils.OperationalError: no such table: masters_person\r\n",
      "[22/Sep/2022 13:00:01] \u001B[35;1m\"GET /admin/masters/person/ HTTP/1.1\" 500 177539\u001B[0m\r\n",
      "[22/Sep/2022 13:00:05] \u001B[m\"GET /admin/ HTTP/1.1\" 200 4237\u001B[0m\r\n",
      "[22/Sep/2022 13:00:12] \u001B[m\"GET /admin/masters/person/add/ HTTP/1.1\" 200 6013\u001B[0m\r\n",
      "[22/Sep/2022 13:00:12] \u001B[m\"GET /static/admin/js/core.js HTTP/1.1\" 200 5698\u001B[0m\r\n",
      "[22/Sep/2022 13:00:12] \u001B[m\"GET /static/admin/css/forms.css HTTP/1.1\" 200 8944\u001B[0m\r\n",
      "[22/Sep/2022 13:00:12] \u001B[m\"GET /static/admin/js/jquery.init.js HTTP/1.1\" 200 347\u001B[0m\r\n",
      "[22/Sep/2022 13:00:12] \u001B[m\"GET /static/admin/js/admin/RelatedObjectLookups.js HTTP/1.1\" 200 8919\u001B[0m\r\n",
      "[22/Sep/2022 13:00:12] \u001B[m\"GET /static/admin/js/actions.js HTTP/1.1\" 200 7872\u001B[0m\r\n",
      "[22/Sep/2022 13:00:12] \u001B[m\"GET /static/admin/js/urlify.js HTTP/1.1\" 200 7902\u001B[0m\r\n",
      "[22/Sep/2022 13:00:12] \u001B[m\"GET /admin/jsi18n/ HTTP/1.1\" 200 3343\u001B[0m\r\n",
      "[22/Sep/2022 13:00:12] \u001B[m\"GET /static/admin/js/change_form.js HTTP/1.1\" 200 606\u001B[0m\r\n",
      "[22/Sep/2022 13:00:12] \u001B[m\"GET /static/admin/js/prepopulate.js HTTP/1.1\" 200 1531\u001B[0m\r\n",
      "[22/Sep/2022 13:00:12] \u001B[m\"GET /static/admin/js/prepopulate_init.js HTTP/1.1\" 200 586\u001B[0m\r\n",
      "[22/Sep/2022 13:00:12] \u001B[m\"GET /static/admin/js/vendor/xregexp/xregexp.js HTTP/1.1\" 200 232381\u001B[0m\r\n",
      "[22/Sep/2022 13:00:12] \u001B[m\"GET /static/admin/js/vendor/jquery/jquery.js HTTP/1.1\" 200 288580\u001B[0m\r\n",
      "[22/Sep/2022 13:00:12] \u001B[m\"GET /static/admin/css/widgets.css HTTP/1.1\" 200 11297\u001B[0m\r\n",
      "^C\r\n"
     ]
    }
   ],
   "source": [
    "!python manage.py runserver"
   ],
   "metadata": {
    "collapsed": false,
    "pycharm": {
     "name": "#%%\n"
    }
   }
  },
  {
   "cell_type": "code",
   "execution_count": null,
   "outputs": [],
   "source": [
    "from masters.models import Person"
   ],
   "metadata": {
    "collapsed": false,
    "pycharm": {
     "name": "#%%\n"
    }
   }
  },
  {
   "cell_type": "code",
   "execution_count": null,
   "outputs": [],
   "source": [
    "Person.name"
   ],
   "metadata": {
    "collapsed": false,
    "pycharm": {
     "name": "#%%\n"
    }
   }
  },
  {
   "cell_type": "code",
   "execution_count": null,
   "outputs": [],
   "source": [
    "p = Person(name =\"Mikhail\")\n",
    "p.name"
   ],
   "metadata": {
    "collapsed": false,
    "pycharm": {
     "name": "#%%\n"
    }
   }
  },
  {
   "cell_type": "code",
   "execution_count": null,
   "outputs": [],
   "source": [
    "type(p.name)"
   ],
   "metadata": {
    "collapsed": false,
    "pycharm": {
     "name": "#%%\n"
    }
   }
  },
  {
   "cell_type": "code",
   "execution_count": null,
   "outputs": [],
   "source": [],
   "metadata": {
    "collapsed": false,
    "pycharm": {
     "name": "#%%\n"
    }
   }
  }
 ],
 "metadata": {
  "kernelspec": {
   "display_name": "Python 3",
   "language": "python",
   "name": "python3"
  },
  "language_info": {
   "codemirror_mode": {
    "name": "ipython",
    "version": 2
   },
   "file_extension": ".py",
   "mimetype": "text/x-python",
   "name": "python",
   "nbconvert_exporter": "python",
   "pygments_lexer": "ipython2",
   "version": "2.7.6"
  }
 },
 "nbformat": 4,
 "nbformat_minor": 0
}