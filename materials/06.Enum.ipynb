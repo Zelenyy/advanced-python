{
 "cells": [
  {
   "cell_type": "markdown",
   "source": [
    "# Перечисления с модулем enum\n",
    "\n",
    "[enum](https://docs.python.org/3/library/enum.html)\n",
    "\n",
    "\n",
    "* Разные типы перечислений\n",
    "* Итерация по именам и значения, доступ оп именам и значениям\n",
    "* Битовые флаги (`IntFlag`)\n",
    "* Классические Си-style перечисления"
   ],
   "metadata": {
    "collapsed": false,
    "pycharm": {
     "name": "#%% md\n"
    }
   }
  },
  {
   "cell_type": "code",
   "execution_count": 1,
   "outputs": [],
   "source": [
    "from enum import IntEnum\n",
    "\n",
    "\n",
    "class TimeUnit(IntEnum):\n",
    "    FEMTOSECOND = 0\n",
    "    PICOSECOND = 1\n",
    "    NANOSECOND = 2\n",
    "    MICROSECOND = 3\n",
    "    MILLISECOND = 4\n",
    "    SECOND = 5"
   ],
   "metadata": {
    "collapsed": false,
    "pycharm": {
     "name": "#%%\n"
    }
   }
  },
  {
   "cell_type": "code",
   "execution_count": 2,
   "outputs": [
    {
     "data": {
      "text/plain": "<TimeUnit.FEMTOSECOND: 0>"
     },
     "execution_count": 2,
     "metadata": {},
     "output_type": "execute_result"
    }
   ],
   "source": [
    "TimeUnit.FEMTOSECOND"
   ],
   "metadata": {
    "collapsed": false,
    "pycharm": {
     "name": "#%%\n"
    }
   }
  },
  {
   "cell_type": "code",
   "execution_count": 3,
   "outputs": [
    {
     "data": {
      "text/plain": "<TimeUnit.PICOSECOND: 1>"
     },
     "execution_count": 3,
     "metadata": {},
     "output_type": "execute_result"
    }
   ],
   "source": [
    "TimeUnit(1)"
   ],
   "metadata": {
    "collapsed": false,
    "pycharm": {
     "name": "#%%\n"
    }
   }
  },
  {
   "cell_type": "code",
   "execution_count": 4,
   "outputs": [
    {
     "data": {
      "text/plain": "<TimeUnit.SECOND: 5>"
     },
     "execution_count": 4,
     "metadata": {},
     "output_type": "execute_result"
    }
   ],
   "source": [
    "TimeUnit[\"SECOND\"]"
   ],
   "metadata": {
    "collapsed": false,
    "pycharm": {
     "name": "#%%\n"
    }
   }
  },
  {
   "cell_type": "code",
   "execution_count": 6,
   "outputs": [],
   "source": [
    "from enum import Enum, auto\n",
    "\n",
    "\n",
    "class ProtonMaterials(Enum):\n",
    "    HYDROGEN = auto()\n",
    "    HELIUM = auto()\n",
    "    BERYLLIUM = auto()\n",
    "    AMORPHOUS_CARBON = auto()\n",
    "    NITROGEN = auto()\n",
    "    OXYGEN = auto()\n",
    "    NEON = auto()\n",
    "    ALUMINUM = auto()\n",
    "    SILICON = auto()\n",
    "    ARGON = auto()\n",
    "    TITANIUM = auto()\n",
    "    IRON = auto()\n",
    "    COPPER = auto()\n",
    "    GERMANIUM = auto()\n",
    "    KRYPTON = auto()\n",
    "    MOLYBDENUM = auto()\n",
    "    SILVER = auto()\n",
    "    TIN = auto()\n",
    "    XENON = auto()"
   ],
   "metadata": {
    "collapsed": false,
    "pycharm": {
     "name": "#%%\n"
    }
   }
  },
  {
   "cell_type": "code",
   "execution_count": 7,
   "outputs": [],
   "source": [
    "class NameProcess(Enum):\n",
    "    ENERGY = \"energy\"\n",
    "    COHERENT = \"coherent\"\n",
    "    INCOHERENT = \"incoherent\"\n",
    "    PHOTOELECTRIC = \"photoelectric\"\n",
    "    PAIR_ATOM = \"pair_atom\"\n",
    "    PAIR_ELECTRON = \"pair_electron\""
   ],
   "metadata": {
    "collapsed": false,
    "pycharm": {
     "name": "#%%\n"
    }
   }
  },
  {
   "cell_type": "code",
   "execution_count": null,
   "outputs": [],
   "source": [
    "Mode.READ | Mode.Binary"
   ],
   "metadata": {
    "collapsed": false,
    "pycharm": {
     "name": "#%%\n"
    }
   }
  }
 ],
 "metadata": {
  "kernelspec": {
   "display_name": "Python 3",
   "language": "python",
   "name": "python3"
  },
  "language_info": {
   "codemirror_mode": {
    "name": "ipython",
    "version": 2
   },
   "file_extension": ".py",
   "mimetype": "text/x-python",
   "name": "python",
   "nbconvert_exporter": "python",
   "pygments_lexer": "ipython2",
   "version": "2.7.6"
  }
 },
 "nbformat": 4,
 "nbformat_minor": 0
}