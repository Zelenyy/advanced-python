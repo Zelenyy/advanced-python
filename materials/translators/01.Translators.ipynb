{
 "cells": [
  {
   "cell_type": "markdown",
   "id": "01c0873b-a446-464d-b2ab-6ced1986241f",
   "metadata": {
    "pycharm": {
     "name": "#%% md\n"
    },
    "tags": []
   },
   "source": [
    "# Реализации транслятора Python"
   ]
  },
  {
   "cell_type": "markdown",
   "id": "da3d2d58-7823-49ac-b599-bb9de386b9fb",
   "metadata": {
    "pycharm": {
     "name": "#%% md\n"
    }
   },
   "source": [
    "![](./translators.svg)"
   ]
  },
  {
   "cell_type": "code",
   "execution_count": null,
   "id": "a4062969",
   "metadata": {
    "pycharm": {
     "name": "#%%\n"
    }
   },
   "outputs": [],
   "source": []
  },
  {
   "cell_type": "markdown",
   "id": "fdf3e686-e8de-4906-9323-4a1ac69d8cbd",
   "metadata": {
    "pycharm": {
     "name": "#%% md\n"
    }
   },
   "source": [
    "Трансляторы:\n",
    "\n",
    "* [PyPy](https://www.pypy.org/features.html)\n",
    "* [Jython](https://www.jython.org/index)\n",
    "* [Python for .NET](https://pythonnet.github.io/) - [Dynamic Language Runtime](https://ru.wikipedia.org/wiki/Dynamic_Language_Runtime)\n",
    "* [IronPython](https://ironpython.net/)"
   ]
  },
  {
   "cell_type": "markdown",
   "id": "d880451f-2bf7-4b81-8c46-4ffac7cc5b08",
   "metadata": {
    "pycharm": {
     "name": "#%% md\n"
    }
   },
   "source": [
    "## Модуль [dis](https://docs.python.org/3/library/dis.html)"
   ]
  },
  {
   "cell_type": "markdown",
   "id": "f2c552b8-406f-470d-9a4b-d07ee4909f0e",
   "metadata": {
    "pycharm": {
     "name": "#%% md\n"
    }
   },
   "source": [
    "**bytecode** - Python source code is compiled into bytecode, the internal representation of a Python program in the CPython interpreter. The bytecode is also cached in .pyc files so that executing the same file is faster the second time (recompilation from source to bytecode can be avoided). This “intermediate language” is said to run on a virtual machine that executes the machine code corresponding to each bytecode. Do note that bytecodes are not expected to work between different Python virtual machines, nor to be stable between Python releases."
   ]
  },
  {
   "cell_type": "code",
   "execution_count": 1,
   "id": "b500af23-ec98-455b-a1a1-b1c81e6ba610",
   "metadata": {
    "pycharm": {
     "name": "#%%\n"
    }
   },
   "outputs": [],
   "source": [
    "def add(a, b):\n",
    "    return abs(a) + abs(b)"
   ]
  },
  {
   "cell_type": "code",
   "execution_count": 2,
   "id": "5287ebff-c2f8-4884-b232-26d655addbb8",
   "metadata": {
    "pycharm": {
     "name": "#%%\n"
    }
   },
   "outputs": [],
   "source": [
    "import dis"
   ]
  },
  {
   "cell_type": "code",
   "execution_count": 3,
   "id": "85e06a82-9af1-4130-b1b6-03ccf17904e0",
   "metadata": {
    "pycharm": {
     "name": "#%%\n"
    }
   },
   "outputs": [
    {
     "name": "stdout",
     "output_type": "stream",
     "text": [
      "  2           0 LOAD_GLOBAL              0 (abs)\n",
      "              2 LOAD_FAST                0 (a)\n",
      "              4 CALL_FUNCTION            1\n",
      "              6 LOAD_GLOBAL              0 (abs)\n",
      "              8 LOAD_FAST                1 (b)\n",
      "             10 CALL_FUNCTION            1\n",
      "             12 BINARY_ADD\n",
      "             14 RETURN_VALUE\n"
     ]
    }
   ],
   "source": [
    "dis.dis(add)"
   ]
  },
  {
   "cell_type": "code",
   "execution_count": 4,
   "id": "e1db8530-291c-4898-8527-12b7744d591a",
   "metadata": {
    "pycharm": {
     "name": "#%%\n"
    }
   },
   "outputs": [
    {
     "data": {
      "text/plain": [
       "116"
      ]
     },
     "execution_count": 4,
     "metadata": {},
     "output_type": "execute_result"
    }
   ],
   "source": [
    "dis.opmap[\"LOAD_GLOBAL\"] # oprcode"
   ]
  },
  {
   "cell_type": "markdown",
   "id": "b21b2f38-26bc-4446-9059-7d0a17f55a2a",
   "metadata": {
    "pycharm": {
     "name": "#%% md\n"
    }
   },
   "source": [
    "## Python для микроконтроллеров \n",
    "\n",
    "* MicroPython"
   ]
  },
  {
   "cell_type": "markdown",
   "id": "ee85a673-88f8-4bba-9edb-b9009ab151ed",
   "metadata": {
    "pycharm": {
     "name": "#%% md\n"
    }
   },
   "source": [
    "# CPython platforms "
   ]
  },
  {
   "cell_type": "markdown",
   "id": "cfc2a56d-a40c-4f48-8078-2a2d651a24ed",
   "metadata": {
    "pycharm": {
     "name": "#%% md\n"
    }
   },
   "source": [
    "\n",
    "![](./cpython.svg)"
   ]
  },
  {
   "cell_type": "markdown",
   "id": "0edb9d49-2544-41a9-891d-1b25149fe4ce",
   "metadata": {
    "pycharm": {
     "name": "#%% md\n"
    }
   },
   "source": [
    "# Jupyter Lite"
   ]
  },
  {
   "cell_type": "markdown",
   "id": "5bdac41f",
   "metadata": {
    "pycharm": {
     "name": "#%% md\n"
    }
   },
   "source": [
    "\n",
    "![](jupyterlite-diagram.svg)\n"
   ]
  },
  {
   "cell_type": "code",
   "execution_count": 2,
   "id": "bdb4a78d",
   "metadata": {
    "pycharm": {
     "name": "#%%\n"
    }
   },
   "outputs": [
    {
     "name": "stdout",
     "output_type": "stream",
     "text": [
      "0.541432398 s\r\n"
     ]
    }
   ],
   "source": [
    "!python mandelbrot.py"
   ]
  },
  {
   "cell_type": "code",
   "execution_count": 4,
   "id": "edf8afc6",
   "metadata": {
    "pycharm": {
     "name": "#%%\n"
    }
   },
   "outputs": [
    {
     "name": "stdout",
     "output_type": "stream",
     "text": [
      "/bin/bash: line 1: conda: command not found\r\n",
      "/bin/bash: line 1: conda: command not found\r\n",
      "Python 3.10.6\r\n"
     ]
    }
   ],
   "source": [
    "!conda env create -f spc_pypy.yml\n",
    "!conda activate spc_mypy\n",
    "!python --version"
   ]
  },
  {
   "cell_type": "code",
   "execution_count": null,
   "id": "4bd179a4",
   "metadata": {
    "pycharm": {
     "name": "#%%\n"
    }
   },
   "outputs": [],
   "source": []
  }
 ],
 "metadata": {
  "kernelspec": {
   "display_name": "Python 3 (ipykernel)",
   "language": "python",
   "name": "python3"
  },
  "language_info": {
   "codemirror_mode": {
    "name": "ipython",
    "version": 3
   },
   "file_extension": ".py",
   "mimetype": "text/x-python",
   "name": "python",
   "nbconvert_exporter": "python",
   "pygments_lexer": "ipython3",
   "version": "3.10.4"
  }
 },
 "nbformat": 4,
 "nbformat_minor": 5
}
