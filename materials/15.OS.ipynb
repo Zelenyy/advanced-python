{
 "cells": [
  {
   "cell_type": "markdown",
   "source": [
    "# Взаимодействие с ОС. Вызов подпроцессов.\n",
    "\n",
    "* Модуль `os` --- функции для взаимодействия с операционной системой\n",
    "* Модуль `sys` --- взаимодействие с переменными интерпетатора и некоторыми функция интерпретатора\n",
    "* Модуль `shutil` --- высокоуровненые функции для работы с ОС (аналог командной оболочки)"
   ],
   "metadata": {
    "collapsed": false,
    "pycharm": {
     "name": "#%% md\n"
    }
   }
  },
  {
   "cell_type": "code",
   "execution_count": 2,
   "outputs": [],
   "source": [
    "import os\n",
    "import shutil\n",
    "import sys"
   ],
   "metadata": {
    "collapsed": false,
    "pycharm": {
     "name": "#%%\n"
    }
   }
  },
  {
   "cell_type": "markdown",
   "source": [
    "## `sys`"
   ],
   "metadata": {
    "collapsed": false,
    "pycharm": {
     "name": "#%% md\n"
    }
   }
  },
  {
   "cell_type": "code",
   "execution_count": 3,
   "outputs": [
    {
     "data": {
      "text/plain": "['/home/zelenyy/.local/share/JetBrains/Toolbox/apps/PyCharm-P/ch-0/221.5080.212/plugins/python/helpers-pro/jupyter_debug',\n '/home/zelenyy/.local/share/JetBrains/Toolbox/apps/PyCharm-P/ch-0/221.5080.212/plugins/python/helpers/pydev',\n '/home/zelenyy/npm/scp-masters/advanced-python/materials',\n '/home/zelenyy/npm/scp-masters/advanced-python',\n '/home/zelenyy/npm/scp-masters/advanced-python/materials/example_project',\n '/usr/lib/python310.zip',\n '/usr/lib/python3.10',\n '/usr/lib/python3.10/lib-dynload',\n '',\n '/home/zelenyy/npm/scp-masters/advanced-python/venv/lib/python3.10/site-packages',\n '/home/zelenyy/npm/scp-masters/2022_students/klimai/stem_framework/stem']"
     },
     "execution_count": 3,
     "metadata": {},
     "output_type": "execute_result"
    }
   ],
   "source": [
    "sys.path"
   ],
   "metadata": {
    "collapsed": false,
    "pycharm": {
     "name": "#%%\n"
    }
   }
  },
  {
   "cell_type": "code",
   "execution_count": 6,
   "outputs": [
    {
     "data": {
      "text/plain": "'linux'"
     },
     "execution_count": 6,
     "metadata": {},
     "output_type": "execute_result"
    }
   ],
   "source": [
    "sys.platform"
   ],
   "metadata": {
    "collapsed": false,
    "pycharm": {
     "name": "#%%\n"
    }
   }
  },
  {
   "cell_type": "code",
   "execution_count": 5,
   "outputs": [
    {
     "name": "stdout",
     "output_type": "stream",
     "text": [
      "Hello"
     ]
    },
    {
     "data": {
      "text/plain": "5"
     },
     "execution_count": 5,
     "metadata": {},
     "output_type": "execute_result"
    }
   ],
   "source": [
    "sys.stdout.write(\"Hello\")"
   ],
   "metadata": {
    "collapsed": false,
    "pycharm": {
     "name": "#%%\n"
    }
   }
  },
  {
   "cell_type": "code",
   "execution_count": 7,
   "outputs": [
    {
     "data": {
      "text/plain": "'123'"
     },
     "execution_count": 7,
     "metadata": {},
     "output_type": "execute_result"
    }
   ],
   "source": [
    "input(sys.stdin)"
   ],
   "metadata": {
    "collapsed": false,
    "pycharm": {
     "name": "#%%\n"
    }
   }
  },
  {
   "cell_type": "code",
   "execution_count": 8,
   "outputs": [
    {
     "data": {
      "text/plain": "['__breakpointhook__',\n '__displayhook__',\n '__doc__',\n '__excepthook__',\n '__interactivehook__',\n '__loader__',\n '__name__',\n '__package__',\n '__spec__',\n '__stderr__',\n '__stdin__',\n '__stdout__',\n '__unraisablehook__',\n '_base_executable',\n '_clear_type_cache',\n '_current_exceptions',\n '_current_frames',\n '_deactivate_opcache',\n '_debugmallocstats',\n '_framework',\n '_getframe',\n '_git',\n '_home',\n '_xoptions',\n 'abiflags',\n 'addaudithook',\n 'api_version',\n 'argv',\n 'audit',\n 'base_exec_prefix',\n 'base_prefix',\n 'breakpointhook',\n 'builtin_module_names',\n 'byteorder',\n 'call_tracing',\n 'copyright',\n 'displayhook',\n 'dont_write_bytecode',\n 'exc_info',\n 'excepthook',\n 'exec_prefix',\n 'executable',\n 'exit',\n 'flags',\n 'float_info',\n 'float_repr_style',\n 'get_asyncgen_hooks',\n 'get_coroutine_origin_tracking_depth',\n 'getallocatedblocks',\n 'getdefaultencoding',\n 'getdlopenflags',\n 'getfilesystemencodeerrors',\n 'getfilesystemencoding',\n 'getprofile',\n 'getrecursionlimit',\n 'getrefcount',\n 'getsizeof',\n 'getswitchinterval',\n 'gettrace',\n 'hash_info',\n 'hexversion',\n 'implementation',\n 'int_info',\n 'intern',\n 'is_finalizing',\n 'last_traceback',\n 'last_type',\n 'last_value',\n 'maxsize',\n 'maxunicode',\n 'meta_path',\n 'modules',\n 'orig_argv',\n 'path',\n 'path_hooks',\n 'path_importer_cache',\n 'platform',\n 'platlibdir',\n 'prefix',\n 'ps1',\n 'ps2',\n 'ps3',\n 'pycache_prefix',\n 'set_asyncgen_hooks',\n 'set_coroutine_origin_tracking_depth',\n 'setdlopenflags',\n 'setprofile',\n 'setrecursionlimit',\n 'setswitchinterval',\n 'settrace',\n 'stderr',\n 'stdin',\n 'stdlib_module_names',\n 'stdout',\n 'thread_info',\n 'unraisablehook',\n 'version',\n 'version_info',\n 'warnoptions']"
     },
     "execution_count": 8,
     "metadata": {},
     "output_type": "execute_result"
    }
   ],
   "source": [
    "dir(sys)"
   ],
   "metadata": {
    "collapsed": false,
    "pycharm": {
     "name": "#%%\n"
    }
   }
  },
  {
   "cell_type": "markdown",
   "source": [
    "## `os`"
   ],
   "metadata": {
    "collapsed": false,
    "pycharm": {
     "name": "#%% md\n"
    }
   }
  },
  {
   "cell_type": "code",
   "execution_count": 9,
   "outputs": [
    {
     "data": {
      "text/plain": "'posix'"
     },
     "execution_count": 9,
     "metadata": {},
     "output_type": "execute_result"
    }
   ],
   "source": [
    "os.name"
   ],
   "metadata": {
    "collapsed": false,
    "pycharm": {
     "name": "#%%\n"
    }
   }
  },
  {
   "cell_type": "code",
   "execution_count": 10,
   "outputs": [
    {
     "data": {
      "text/plain": "'/home/zelenyy/npm/scp-masters/advanced-python/venv/bin:/home/zelenyy/.cargo/bin:/home/zelenyy/.local/bin:/home/zelenyy/.nix-profile/bin:/nix/var/nix/profiles/default/bin:/usr/local/sbin:/usr/local/bin:/usr/sbin:/usr/bin:/sbin:/bin:/usr/games:/usr/local/games:/snap/bin:/snap/bin:/home/zelenyy/.local/share/JetBrains/Toolbox/scripts'"
     },
     "execution_count": 10,
     "metadata": {},
     "output_type": "execute_result"
    }
   ],
   "source": [
    "os.environ[\"PATH\"]"
   ],
   "metadata": {
    "collapsed": false,
    "pycharm": {
     "name": "#%%\n"
    }
   }
  },
  {
   "cell_type": "code",
   "execution_count": 11,
   "outputs": [
    {
     "data": {
      "text/plain": "'/home/zelenyy/npm/scp-masters/advanced-python/venv/bin:/home/zelenyy/.cargo/bin:/home/zelenyy/.local/bin:/home/zelenyy/.nix-profile/bin:/nix/var/nix/profiles/default/bin:/usr/local/sbin:/usr/local/bin:/usr/sbin:/usr/bin:/sbin:/bin:/usr/games:/usr/local/games:/snap/bin:/snap/bin:/home/zelenyy/.local/share/JetBrains/Toolbox/scripts'"
     },
     "execution_count": 11,
     "metadata": {},
     "output_type": "execute_result"
    }
   ],
   "source": [
    "os.getenv(\"PATH\")"
   ],
   "metadata": {
    "collapsed": false,
    "pycharm": {
     "name": "#%%\n"
    }
   }
  },
  {
   "cell_type": "code",
   "execution_count": 13,
   "outputs": [
    {
     "name": "stdout",
     "output_type": "stream",
     "text": [
      "/home/zelenyy/npm/scp-masters/advanced-python/materials\n"
     ]
    }
   ],
   "source": [
    "path = os.getcwd()\n",
    "print(path)"
   ],
   "metadata": {
    "collapsed": false,
    "pycharm": {
     "name": "#%%\n"
    }
   }
  },
  {
   "cell_type": "code",
   "execution_count": null,
   "outputs": [],
   "source": [
    "os.mkdir(\"temp\")"
   ],
   "metadata": {
    "collapsed": false,
    "pycharm": {
     "name": "#%%\n"
    }
   }
  },
  {
   "cell_type": "code",
   "execution_count": null,
   "outputs": [],
   "source": [
    "os.chdir(\"temp\")\n",
    "print(os.getcwd())\n",
    "os.chdir(path)"
   ],
   "metadata": {
    "collapsed": false,
    "pycharm": {
     "name": "#%%\n"
    }
   }
  },
  {
   "cell_type": "code",
   "execution_count": null,
   "outputs": [],
   "source": [
    "os.remove(\"temp\")"
   ],
   "metadata": {
    "collapsed": false,
    "pycharm": {
     "name": "#%%\n"
    }
   }
  },
  {
   "cell_type": "code",
   "execution_count": null,
   "outputs": [],
   "source": [
    "os.listdir()"
   ],
   "metadata": {
    "collapsed": false,
    "pycharm": {
     "name": "#%%\n"
    }
   }
  },
  {
   "cell_type": "code",
   "execution_count": 19,
   "outputs": [
    {
     "name": "stdout",
     "output_type": "stream",
     "text": [
      "total 272\n",
      "drwxrwxr-x 7 zelenyy zelenyy  4096 Sep 25 19:30 .\n",
      "drwxrwxr-x 9 zelenyy zelenyy  4096 Sep 23 13:41 ..\n",
      "-rw-rw-r-- 1 zelenyy zelenyy 15017 Sep  7 19:34 01.Lexical.ipynb\n",
      "-rw-rw-r-- 1 zelenyy zelenyy  3301 Sep  7 19:34 02.ScopesAndNamespace.ipynb\n",
      "-rw-rw-r-- 1 zelenyy zelenyy  4681 Sep  7 19:34 03.Toolchain.ipynb\n",
      "-rw-rw-r-- 1 zelenyy zelenyy 23196 Sep 21 19:17 04.DataModel.ipynb\n",
      "-rw-rw-r-- 1 zelenyy zelenyy 28316 Sep 21 19:18 05.OOP.ipynb\n",
      "-rw-rw-r-- 1 zelenyy zelenyy  3949 Sep 14 19:22 06.Enum.ipynb\n",
      "-rw-rw-r-- 1 zelenyy zelenyy  2322 Sep 14 19:22 07.Dataclass.ipynb\n",
      "-rw-rw-r-- 1 zelenyy zelenyy  5111 Sep 21 19:17 08.OOP_2.ipynb\n",
      "-rw-rw-r-- 1 zelenyy zelenyy 15481 Sep 21 19:17 09.Functional.ipynb\n",
      "-rw-rw-r-- 1 zelenyy zelenyy 26233 Sep 21 19:17 10.Decorators.ipynb\n",
      "-rw-rw-r-- 1 zelenyy zelenyy 13041 Sep 21 19:17 11.ExceptionsAndContextManagers.ipynb\n",
      "-rw-rw-r-- 1 zelenyy zelenyy  5360 Sep 14 17:58 12.InvocationAndLoading.ipynb\n",
      "-rw-rw-r-- 1 zelenyy zelenyy   625 Sep 25 17:42 13.Datetime.ipynb\n",
      "-rw-rw-r-- 1 zelenyy zelenyy  3955 Sep 25 17:43 14.IntarectionEnvironment.ipynb\n",
      "-rw-rw-r-- 1 zelenyy zelenyy 13695 Sep 25 19:30 15.OS.ipynb\n",
      "drwxrwxr-x 3 zelenyy zelenyy  4096 Sep 21 19:02 example_dajngo\n",
      "-rw-rw-r-- 1 zelenyy zelenyy   631 Sep  7 19:34 example_linter.py\n",
      "-rw-rw-r-- 1 zelenyy zelenyy   596 Sep 15 17:51 example_mypy.py\n",
      "drwxrwxr-x 7 zelenyy zelenyy  4096 Sep 14 17:24 example_project\n",
      "-rwxrwxr-x 1 zelenyy zelenyy    70 Sep  7 19:34 example_script.py\n",
      "-rw-rw-r-- 1 zelenyy zelenyy 10533 Sep 25 19:30 exmple.zip.zip\n",
      "drwxrwxr-x 4 zelenyy zelenyy  4096 Sep 25 16:23 loading\n",
      "-rw-rw-r-- 1 zelenyy zelenyy   363 Nov  2  2021 logging_example.py\n",
      "-rw-rw-r-- 1 zelenyy zelenyy 22058 Nov  2  2021 logging_flow.png\n",
      "drwxrwxr-x 2 zelenyy zelenyy  4096 Sep 14 19:22 papers\n",
      "-rw-rw-r-- 1 zelenyy zelenyy   110 Nov  2  2021 somelib.py\n",
      "drwxrwxr-x 3 zelenyy zelenyy  4096 Sep  7 19:34 translators\n"
     ]
    },
    {
     "data": {
      "text/plain": "0"
     },
     "execution_count": 19,
     "metadata": {},
     "output_type": "execute_result"
    }
   ],
   "source": [
    "os.system(\"ls -la\")"
   ],
   "metadata": {
    "collapsed": false,
    "pycharm": {
     "name": "#%%\n"
    }
   }
  },
  {
   "cell_type": "code",
   "execution_count": null,
   "outputs": [],
   "source": [
    "os.stat(\"15.OS.ipynb\")"
   ],
   "metadata": {
    "collapsed": false,
    "pycharm": {
     "name": "#%%\n"
    }
   }
  },
  {
   "cell_type": "code",
   "execution_count": null,
   "outputs": [],
   "source": [
    "if os.uname().sysname == \"Linux\":\n",
    "    os.chdir(\"C:\\\\Users\")\n"
   ],
   "metadata": {
    "collapsed": false,
    "pycharm": {
     "name": "#%%\n"
    }
   }
  },
  {
   "cell_type": "markdown",
   "source": [
    "# `shutil`"
   ],
   "metadata": {
    "collapsed": false,
    "pycharm": {
     "name": "#%% md\n"
    }
   }
  },
  {
   "cell_type": "code",
   "execution_count": 16,
   "outputs": [
    {
     "data": {
      "text/plain": "usage(total=1006450962432, used=178316124160, free=776934498304)"
     },
     "execution_count": 16,
     "metadata": {},
     "output_type": "execute_result"
    }
   ],
   "source": [
    "shutil.disk_usage(\".\")"
   ],
   "metadata": {
    "collapsed": false,
    "pycharm": {
     "name": "#%%\n"
    }
   }
  },
  {
   "cell_type": "code",
   "execution_count": 17,
   "outputs": [
    {
     "data": {
      "text/plain": "'/home/zelenyy/npm/scp-masters/advanced-python/venv/bin/python'"
     },
     "execution_count": 17,
     "metadata": {},
     "output_type": "execute_result"
    }
   ],
   "source": [
    "shutil.which(\"python\")"
   ],
   "metadata": {
    "collapsed": false,
    "pycharm": {
     "name": "#%%\n"
    }
   }
  },
  {
   "cell_type": "code",
   "execution_count": 20,
   "outputs": [
    {
     "data": {
      "text/plain": "'/home/zelenyy/npm/scp-masters/advanced-python/materials/example.zip'"
     },
     "execution_count": 20,
     "metadata": {},
     "output_type": "execute_result"
    }
   ],
   "source": [
    "shutil.make_archive(\"example\", \"zip\", \"example_project\")"
   ],
   "metadata": {
    "collapsed": false,
    "pycharm": {
     "name": "#%%\n"
    }
   }
  },
  {
   "cell_type": "code",
   "execution_count": 21,
   "outputs": [
    {
     "data": {
      "text/plain": "'example_copy.zip'"
     },
     "execution_count": 21,
     "metadata": {},
     "output_type": "execute_result"
    }
   ],
   "source": [
    "shutil.copy(\"example.zip\", \"example_copy.zip\")"
   ],
   "metadata": {
    "collapsed": false,
    "pycharm": {
     "name": "#%%\n"
    }
   }
  },
  {
   "cell_type": "code",
   "execution_count": 22,
   "outputs": [],
   "source": [
    "os.remove(\"example.zip\")\n",
    "os.remove(\"example_copy.zip\")"
   ],
   "metadata": {
    "collapsed": false,
    "pycharm": {
     "name": "#%%\n"
    }
   }
  },
  {
   "cell_type": "markdown",
   "source": [
    "# Модуль `subprocess`"
   ],
   "metadata": {
    "collapsed": false,
    "pycharm": {
     "name": "#%% md\n"
    }
   }
  },
  {
   "cell_type": "code",
   "execution_count": 23,
   "outputs": [],
   "source": [
    "import subprocess"
   ],
   "metadata": {
    "collapsed": false,
    "pycharm": {
     "name": "#%%\n"
    }
   }
  },
  {
   "cell_type": "code",
   "execution_count": 25,
   "outputs": [
    {
     "data": {
      "text/plain": "CompletedProcess(args=['ls', '-l'], returncode=0, stdout=b'total 252\\n-rw-rw-r-- 1 zelenyy zelenyy 15017 Sep  7 19:34 01.Lexical.ipynb\\n-rw-rw-r-- 1 zelenyy zelenyy  3301 Sep  7 19:34 02.ScopesAndNamespace.ipynb\\n-rw-rw-r-- 1 zelenyy zelenyy  4681 Sep  7 19:34 03.Toolchain.ipynb\\n-rw-rw-r-- 1 zelenyy zelenyy 23196 Sep 21 19:17 04.DataModel.ipynb\\n-rw-rw-r-- 1 zelenyy zelenyy 28316 Sep 21 19:18 05.OOP.ipynb\\n-rw-rw-r-- 1 zelenyy zelenyy  3949 Sep 14 19:22 06.Enum.ipynb\\n-rw-rw-r-- 1 zelenyy zelenyy  2322 Sep 14 19:22 07.Dataclass.ipynb\\n-rw-rw-r-- 1 zelenyy zelenyy  5111 Sep 21 19:17 08.OOP_2.ipynb\\n-rw-rw-r-- 1 zelenyy zelenyy 15481 Sep 21 19:17 09.Functional.ipynb\\n-rw-rw-r-- 1 zelenyy zelenyy 26233 Sep 21 19:17 10.Decorators.ipynb\\n-rw-rw-r-- 1 zelenyy zelenyy 13041 Sep 21 19:17 11.ExceptionsAndContextManagers.ipynb\\n-rw-rw-r-- 1 zelenyy zelenyy  5360 Sep 14 17:58 12.InvocationAndLoading.ipynb\\n-rw-rw-r-- 1 zelenyy zelenyy   625 Sep 25 17:42 13.Datetime.ipynb\\n-rw-rw-r-- 1 zelenyy zelenyy  3955 Sep 25 17:43 14.IntarectionEnvironment.ipynb\\n-rw-rw-r-- 1 zelenyy zelenyy 15090 Sep 25 19:36 15.OS.ipynb\\ndrwxrwxr-x 3 zelenyy zelenyy  4096 Sep 21 19:02 example_dajngo\\n-rw-rw-r-- 1 zelenyy zelenyy   631 Sep  7 19:34 example_linter.py\\n-rw-rw-r-- 1 zelenyy zelenyy   596 Sep 15 17:51 example_mypy.py\\ndrwxrwxr-x 7 zelenyy zelenyy  4096 Sep 14 17:24 example_project\\n-rwxrwxr-x 1 zelenyy zelenyy    70 Sep  7 19:34 example_script.py\\ndrwxrwxr-x 4 zelenyy zelenyy  4096 Sep 25 16:23 loading\\n-rw-rw-r-- 1 zelenyy zelenyy   363 Nov  2  2021 logging_example.py\\n-rw-rw-r-- 1 zelenyy zelenyy 22058 Nov  2  2021 logging_flow.png\\ndrwxrwxr-x 2 zelenyy zelenyy  4096 Sep 14 19:22 papers\\n-rw-rw-r-- 1 zelenyy zelenyy   110 Nov  2  2021 somelib.py\\ndrwxrwxr-x 3 zelenyy zelenyy  4096 Sep  7 19:34 translators\\n', stderr=b'')"
     },
     "execution_count": 25,
     "metadata": {},
     "output_type": "execute_result"
    }
   ],
   "source": [
    "subprocess.run([\"ls\", \"-l\"], capture_output=True)"
   ],
   "metadata": {
    "collapsed": false,
    "pycharm": {
     "name": "#%%\n"
    }
   }
  },
  {
   "cell_type": "code",
   "execution_count": 86,
   "outputs": [
    {
     "name": "stdout",
     "output_type": "stream",
     "text": [
      "01.Lexical.ipynb\n",
      "02.ScopesAndNamespace.ipynb\n",
      "03.Toolchain.ipynb\n",
      "04.DataModel.ipynb\n",
      "05.OOP.ipynb\n",
      "06.Enum.ipynb\n",
      "07.Dataclass.ipynb\n",
      "08.OOP_2.ipynb\n",
      "09.Functional.ipynb\n",
      "10.Decorators.ipynb\n",
      "11.ExceptionsAndContextManagers.ipynb\n",
      "12.InvocationAndLoading.ipynb\n",
      "13.Datetime.ipynb\n",
      "14.IntarectionEnvironment.ipynb\n",
      "15.OS.ipynb\n",
      "example_dajngo\n",
      "example_linter.py\n",
      "example_mypy.py\n",
      "example_project\n",
      "example_script.py\n",
      "example_subprocess_master.py\n",
      "example_subprocess_slave.py\n",
      "loading\n",
      "logging_example.py\n",
      "logging_flow.png\n",
      "papers\n",
      "somelib.py\n",
      "translators\n",
      "\n",
      "\n"
     ]
    }
   ],
   "source": [
    "process = subprocess.Popen([\"ls\", \"-la\"],\n",
    "                           shell=True,\n",
    "                           stdout=subprocess.PIPE,\n",
    "                           stderr=subprocess.PIPE,\n",
    "                           stdin=subprocess.PIPE,\n",
    "                           text=True\n",
    "                           )\n",
    "try:\n",
    "    out, err = process.communicate(timeout=10)\n",
    "except subprocess.TimeoutExpired:\n",
    "    process.kill()\n",
    "    out, err = process.communicate()\n",
    "print(out)\n",
    "print(err)"
   ],
   "metadata": {
    "collapsed": false,
    "pycharm": {
     "name": "#%%\n"
    }
   }
  },
  {
   "cell_type": "code",
   "execution_count": null,
   "outputs": [],
   "source": [],
   "metadata": {
    "collapsed": false,
    "pycharm": {
     "name": "#%%\n"
    }
   }
  },
  {
   "cell_type": "code",
   "execution_count": 75,
   "outputs": [],
   "source": [
    "process = subprocess.Popen([\"python\", \"example_subprocess.py\"],\n",
    "                           stdout=subprocess.PIPE,\n",
    "                           stderr=subprocess.PIPE,\n",
    "                           stdin=subprocess.PIPE,\n",
    "                           )"
   ],
   "metadata": {
    "collapsed": false,
    "pycharm": {
     "name": "#%%\n"
    }
   }
  },
  {
   "cell_type": "code",
   "execution_count": 76,
   "outputs": [
    {
     "name": "stdout",
     "output_type": "stream",
     "text": [
      "None\n"
     ]
    }
   ],
   "source": [
    "print(process.poll())"
   ],
   "metadata": {
    "collapsed": false,
    "pycharm": {
     "name": "#%%\n"
    }
   }
  },
  {
   "cell_type": "code",
   "execution_count": 67,
   "outputs": [],
   "source": [
    "process.stdin.write(b\"help\\n\")\n",
    "process.stdin.flush()\n"
   ],
   "metadata": {
    "collapsed": false,
    "pycharm": {
     "name": "#%%\n"
    }
   }
  },
  {
   "cell_type": "code",
   "execution_count": 77,
   "outputs": [
    {
     "ename": "KeyboardInterrupt",
     "evalue": "",
     "output_type": "error",
     "traceback": [
      "\u001B[0;31m---------------------------------------------------------------------------\u001B[0m",
      "\u001B[0;31mKeyboardInterrupt\u001B[0m                         Traceback (most recent call last)",
      "Cell \u001B[0;32mIn [77], line 2\u001B[0m\n\u001B[1;32m      1\u001B[0m \u001B[38;5;28;01mif\u001B[39;00m process\u001B[38;5;241m.\u001B[39mstdout\u001B[38;5;241m.\u001B[39mreadable():\n\u001B[0;32m----> 2\u001B[0m     \u001B[38;5;28mprint\u001B[39m(\u001B[43mprocess\u001B[49m\u001B[38;5;241;43m.\u001B[39;49m\u001B[43mstdout\u001B[49m\u001B[38;5;241;43m.\u001B[39;49m\u001B[43mreadline\u001B[49m\u001B[43m(\u001B[49m\u001B[43m)\u001B[49m)\n",
      "\u001B[0;31mKeyboardInterrupt\u001B[0m: "
     ]
    }
   ],
   "source": [
    "if process.stdout.readable():\n",
    "    print(process.stdout.readline())\n"
   ],
   "metadata": {
    "collapsed": false,
    "pycharm": {
     "name": "#%%\n"
    }
   }
  },
  {
   "cell_type": "code",
   "execution_count": 78,
   "outputs": [],
   "source": [
    "process.kill()"
   ],
   "metadata": {
    "collapsed": false,
    "pycharm": {
     "name": "#%%\n"
    }
   }
  },
  {
   "cell_type": "code",
   "execution_count": null,
   "outputs": [],
   "source": [],
   "metadata": {
    "collapsed": false,
    "pycharm": {
     "name": "#%%\n"
    }
   }
  }
 ],
 "metadata": {
  "kernelspec": {
   "display_name": "Python 3",
   "language": "python",
   "name": "python3"
  },
  "language_info": {
   "codemirror_mode": {
    "name": "ipython",
    "version": 2
   },
   "file_extension": ".py",
   "mimetype": "text/x-python",
   "name": "python",
   "nbconvert_exporter": "python",
   "pygments_lexer": "ipython2",
   "version": "2.7.6"
  }
 },
 "nbformat": 4,
 "nbformat_minor": 0
}