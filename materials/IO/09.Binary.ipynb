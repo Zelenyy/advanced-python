{
 "cells": [
  {
   "cell_type": "markdown",
   "source": [
    "# Binary Sequence Types — bytes, bytearray, memoryview¶"
   ],
   "metadata": {
    "collapsed": false,
    "pycharm": {
     "name": "#%% md\n"
    }
   }
  },
  {
   "cell_type": "code",
   "execution_count": 1,
   "outputs": [],
   "source": [
    "data = b\"123456\""
   ],
   "metadata": {
    "collapsed": false,
    "pycharm": {
     "name": "#%%\n"
    }
   }
  },
  {
   "cell_type": "code",
   "execution_count": 3,
   "outputs": [
    {
     "data": {
      "text/plain": "'😏'"
     },
     "execution_count": 3,
     "metadata": {},
     "output_type": "execute_result"
    }
   ],
   "source": [
    "char = \"😏\"\n",
    "char"
   ],
   "metadata": {
    "collapsed": false,
    "pycharm": {
     "name": "#%%\n"
    }
   }
  },
  {
   "cell_type": "code",
   "execution_count": 6,
   "outputs": [
    {
     "data": {
      "text/plain": "1"
     },
     "execution_count": 6,
     "metadata": {},
     "output_type": "execute_result"
    }
   ],
   "source": [
    "len(char)"
   ],
   "metadata": {
    "collapsed": false,
    "pycharm": {
     "name": "#%%\n"
    }
   }
  },
  {
   "cell_type": "code",
   "execution_count": 8,
   "outputs": [
    {
     "data": {
      "text/plain": "b'\\xf0\\x9f\\x98\\x8f'"
     },
     "execution_count": 8,
     "metadata": {},
     "output_type": "execute_result"
    }
   ],
   "source": [
    "bchar = bytes(char, encoding=\"UTF-8\")\n",
    "bchar"
   ],
   "metadata": {
    "collapsed": false,
    "pycharm": {
     "name": "#%%\n"
    }
   }
  },
  {
   "cell_type": "code",
   "execution_count": 9,
   "outputs": [
    {
     "data": {
      "text/plain": "4"
     },
     "execution_count": 9,
     "metadata": {},
     "output_type": "execute_result"
    }
   ],
   "source": [
    "len(bchar)"
   ],
   "metadata": {
    "collapsed": false,
    "pycharm": {
     "name": "#%%\n"
    }
   }
  },
  {
   "cell_type": "markdown",
   "source": [
    "## Buffer Protocol and Memoryview\n"
   ],
   "metadata": {
    "collapsed": false,
    "pycharm": {
     "name": "#%% md\n"
    }
   }
  },
  {
   "cell_type": "code",
   "execution_count": 11,
   "outputs": [
    {
     "data": {
      "text/plain": "b'9uV\\xff\\xff\\xff\\xff\\xff\\x8e\\x15S\\x01\\x00\\x00\\x00\\x00\\xab_\\x03\\xfe\\xff\\xff\\xff\\xff\\x1c+\\xa6\\x02\\x00\\x00\\x00\\x00'"
     },
     "execution_count": 11,
     "metadata": {},
     "output_type": "execute_result"
    }
   ],
   "source": [
    "import array\n",
    "a = array.array('l', [-11111111, 22222222, -33333333, 44444444])\n",
    "bytes(a)"
   ],
   "metadata": {
    "collapsed": false,
    "pycharm": {
     "name": "#%%\n"
    }
   }
  },
  {
   "cell_type": "code",
   "execution_count": 19,
   "outputs": [
    {
     "data": {
      "text/plain": "bytearray(b'a123fg')"
     },
     "execution_count": 19,
     "metadata": {},
     "output_type": "execute_result"
    }
   ],
   "source": [
    "data = bytearray(b'abcefg')\n",
    "v = memoryview(data)\n",
    "v[1:4] = b'123'\n",
    "data"
   ],
   "metadata": {
    "collapsed": false,
    "pycharm": {
     "name": "#%%\n"
    }
   }
  },
  {
   "cell_type": "code",
   "execution_count": 18,
   "outputs": [
    {
     "data": {
      "text/plain": "-11111111"
     },
     "execution_count": 18,
     "metadata": {},
     "output_type": "execute_result"
    }
   ],
   "source": [
    "v = memoryview(a)\n",
    "v[0]"
   ],
   "metadata": {
    "collapsed": false,
    "pycharm": {
     "name": "#%%\n"
    }
   }
  },
  {
   "cell_type": "markdown",
   "source": [
    "# Модуль **struct**"
   ],
   "metadata": {
    "collapsed": false,
    "pycharm": {
     "name": "#%% md\n"
    }
   }
  },
  {
   "cell_type": "code",
   "execution_count": 20,
   "outputs": [],
   "source": [
    "import struct"
   ],
   "metadata": {
    "collapsed": false,
    "pycharm": {
     "name": "#%%\n"
    }
   }
  },
  {
   "cell_type": "code",
   "execution_count": 22,
   "outputs": [
    {
     "data": {
      "text/plain": "4000"
     },
     "execution_count": 22,
     "metadata": {},
     "output_type": "execute_result"
    }
   ],
   "source": [
    "import pathlib\n",
    "\n",
    "filename = pathlib.Path(\"binary_struct/data.bin\")\n",
    "filename.stat().st_size"
   ],
   "metadata": {
    "collapsed": false,
    "pycharm": {
     "name": "#%%\n"
    }
   }
  },
  {
   "cell_type": "code",
   "execution_count": null,
   "outputs": [],
   "source": [
    "(1+4)*500"
   ],
   "metadata": {
    "collapsed": false,
    "pycharm": {
     "name": "#%%\n"
    }
   }
  },
  {
   "cell_type": "code",
   "execution_count": 28,
   "outputs": [
    {
     "name": "stdout",
     "output_type": "stream",
     "text": [
      "[1, 0, 0, 0, 0, 125, 0, 0]\n",
      "[1, 0, 0, 0, 0, 125, 0, 0]\n",
      "[1, 0, 0, 0, 0, 125, 0, 0]\n",
      "[1, 0, 0, 0, 0, 125, 0, 0]\n",
      "[1, 0, 0, 0, 0, 125, 0, 0]\n"
     ]
    }
   ],
   "source": [
    "with filename.open(\"rb\") as fin:\n",
    "    for i in range(5):\n",
    "        print([int(i) for i in fin.read(8)])"
   ],
   "metadata": {
    "collapsed": false,
    "pycharm": {
     "name": "#%%\n"
    }
   }
  },
  {
   "cell_type": "code",
   "execution_count": 29,
   "outputs": [
    {
     "data": {
      "text/plain": "32000"
     },
     "execution_count": 29,
     "metadata": {},
     "output_type": "execute_result"
    }
   ],
   "source": [
    "125 << 8"
   ],
   "metadata": {
    "collapsed": false,
    "pycharm": {
     "name": "#%%\n"
    }
   }
  },
  {
   "cell_type": "code",
   "execution_count": 31,
   "outputs": [
    {
     "ename": "error",
     "evalue": "unpack requires a buffer of 8 bytes",
     "output_type": "error",
     "traceback": [
      "\u001B[0;31m---------------------------------------------------------------------------\u001B[0m",
      "\u001B[0;31merror\u001B[0m                                     Traceback (most recent call last)",
      "Cell \u001B[0;32mIn [31], line 2\u001B[0m\n\u001B[1;32m      1\u001B[0m \u001B[38;5;28;01mwith\u001B[39;00m filename\u001B[38;5;241m.\u001B[39mopen(\u001B[38;5;124m\"\u001B[39m\u001B[38;5;124mrb\u001B[39m\u001B[38;5;124m\"\u001B[39m) \u001B[38;5;28;01mas\u001B[39;00m fin:\n\u001B[0;32m----> 2\u001B[0m     \u001B[43mstruct\u001B[49m\u001B[38;5;241;43m.\u001B[39;49m\u001B[43munpack\u001B[49m\u001B[43m(\u001B[49m\u001B[38;5;124;43m\"\u001B[39;49m\u001B[38;5;124;43mci\u001B[39;49m\u001B[38;5;124;43m\"\u001B[39;49m\u001B[43m,\u001B[49m\u001B[43m \u001B[49m\u001B[43mfin\u001B[49m\u001B[38;5;241;43m.\u001B[39;49m\u001B[43mread\u001B[49m\u001B[43m(\u001B[49m\u001B[38;5;241;43m5\u001B[39;49m\u001B[43m)\u001B[49m\u001B[43m)\u001B[49m\n",
      "\u001B[0;31merror\u001B[0m: unpack requires a buffer of 8 bytes"
     ]
    }
   ],
   "source": [
    "with filename.open(\"rb\") as fin:\n",
    "    struct.unpack(\"ci\", fin.read(5))"
   ],
   "metadata": {
    "collapsed": false,
    "pycharm": {
     "name": "#%%\n"
    }
   }
  },
  {
   "cell_type": "code",
   "execution_count": 33,
   "outputs": [
    {
     "name": "stdout",
     "output_type": "stream",
     "text": [
      "(b'\\x01', 32000)\n"
     ]
    }
   ],
   "source": [
    "with filename.open(\"rb\") as fin:\n",
    "    print(struct.unpack(\"ci\", fin.read(8)))"
   ],
   "metadata": {
    "collapsed": false,
    "pycharm": {
     "name": "#%%\n"
    }
   }
  },
  {
   "cell_type": "code",
   "execution_count": 37,
   "outputs": [
    {
     "name": "stdout",
     "output_type": "stream",
     "text": [
      "(b'\\x01', 32000)\n"
     ]
    }
   ],
   "source": [
    "with filename.open(\"rb\") as fin:\n",
    "    print(struct.unpack(\"ci\", fin.read(struct.calcsize(\"ci\"))))"
   ],
   "metadata": {
    "collapsed": false,
    "pycharm": {
     "name": "#%%\n"
    }
   }
  },
  {
   "cell_type": "code",
   "execution_count": 36,
   "outputs": [
    {
     "data": {
      "text/plain": "b'\\x00\\x00\\x00d@Y\\x00\\x00\\x00\\x00\\x00\\x00s'"
     },
     "execution_count": 36,
     "metadata": {},
     "output_type": "execute_result"
    }
   ],
   "source": [
    "struct.pack(\">Ids\", 100, 100.0, b\"sdf\")"
   ],
   "metadata": {
    "collapsed": false,
    "pycharm": {
     "name": "#%%\n"
    }
   }
  },
  {
   "cell_type": "code",
   "execution_count": 38,
   "outputs": [
    {
     "name": "stdout",
     "output_type": "stream",
     "text": [
      "(b'\\x01', 2097152256)\n"
     ]
    }
   ],
   "source": [
    "with pathlib.Path(\"binary_struct/data_q.bin\").open(\"rb\") as fin:\n",
    "    print(struct.unpack(\"ci\", fin.read(8)))"
   ],
   "metadata": {
    "collapsed": false,
    "pycharm": {
     "name": "#%%\n"
    }
   }
  },
  {
   "cell_type": "code",
   "execution_count": 39,
   "outputs": [
    {
     "data": {
      "text/plain": "2500"
     },
     "execution_count": 39,
     "metadata": {},
     "output_type": "execute_result"
    }
   ],
   "source": [
    "pathlib.Path(\"binary_struct/data_q.bin\").stat().st_size"
   ],
   "metadata": {
    "collapsed": false,
    "pycharm": {
     "name": "#%%\n"
    }
   }
  },
  {
   "cell_type": "code",
   "execution_count": 40,
   "outputs": [
    {
     "name": "stdout",
     "output_type": "stream",
     "text": [
      "(1, 32000)\n",
      "(1, 32000)\n",
      "(1, 32000)\n",
      "(1, 32000)\n",
      "(1, 32000)\n",
      "(1, 32000)\n",
      "(1, 32000)\n",
      "(1, 32000)\n",
      "(1, 32000)\n",
      "(1, 32000)\n",
      "(1, 32000)\n",
      "(1, 32000)\n",
      "(1, 32000)\n",
      "(1, 32000)\n",
      "(1, 32000)\n",
      "(1, 32000)\n",
      "(1, 32000)\n",
      "(1, 32000)\n",
      "(1, 32000)\n",
      "(1, 32000)\n",
      "(1, 32000)\n",
      "(1, 32000)\n",
      "(1, 32000)\n",
      "(1, 32000)\n",
      "(1, 32000)\n",
      "(1, 32000)\n",
      "(1, 32000)\n",
      "(1, 32000)\n",
      "(1, 32000)\n",
      "(1, 32000)\n",
      "(1, 32000)\n",
      "(1, 32000)\n",
      "(1, 32000)\n",
      "(1, 32000)\n",
      "(1, 32000)\n",
      "(1, 32000)\n",
      "(1, 32000)\n",
      "(1, 32000)\n",
      "(1, 32000)\n",
      "(1, 32000)\n",
      "(1, 32000)\n",
      "(1, 32000)\n",
      "(1, 32000)\n",
      "(1, 32000)\n",
      "(1, 32000)\n",
      "(1, 32000)\n",
      "(1, 32000)\n",
      "(1, 32000)\n",
      "(1, 32000)\n",
      "(1, 32000)\n",
      "(1, 32000)\n",
      "(1, 32000)\n",
      "(1, 32000)\n",
      "(1, 32000)\n",
      "(1, 32000)\n",
      "(1, 32000)\n",
      "(1, 32000)\n",
      "(1, 32000)\n",
      "(1, 32000)\n",
      "(1, 32000)\n",
      "(1, 32000)\n",
      "(1, 32000)\n",
      "(1, 32000)\n",
      "(1, 32000)\n",
      "(1, 32000)\n",
      "(1, 32000)\n",
      "(1, 32000)\n",
      "(1, 32000)\n",
      "(1, 32000)\n",
      "(1, 32000)\n",
      "(1, 32000)\n",
      "(1, 32000)\n",
      "(1, 32000)\n",
      "(1, 32000)\n",
      "(1, 32000)\n",
      "(1, 32000)\n",
      "(1, 32000)\n",
      "(1, 32000)\n",
      "(1, 32000)\n",
      "(1, 32000)\n",
      "(1, 32000)\n",
      "(1, 32000)\n",
      "(1, 32000)\n",
      "(1, 32000)\n",
      "(1, 32000)\n",
      "(1, 32000)\n",
      "(1, 32000)\n",
      "(1, 32000)\n",
      "(1, 32000)\n",
      "(1, 32000)\n",
      "(1, 32000)\n",
      "(1, 32000)\n",
      "(1, 32000)\n",
      "(1, 32000)\n",
      "(1, 32000)\n",
      "(1, 32000)\n",
      "(1, 32000)\n",
      "(1, 32000)\n",
      "(1, 32000)\n",
      "(1, 32000)\n",
      "(1, 32000)\n",
      "(1, 32000)\n",
      "(1, 32000)\n",
      "(1, 32000)\n",
      "(1, 32000)\n",
      "(1, 32000)\n",
      "(1, 32000)\n",
      "(1, 32000)\n",
      "(1, 32000)\n",
      "(1, 32000)\n",
      "(1, 32000)\n",
      "(1, 32000)\n",
      "(1, 32000)\n",
      "(1, 32000)\n",
      "(1, 32000)\n",
      "(1, 32000)\n",
      "(1, 32000)\n",
      "(1, 32000)\n",
      "(1, 32000)\n",
      "(1, 32000)\n",
      "(1, 32000)\n",
      "(1, 32000)\n",
      "(1, 32000)\n",
      "(1, 32000)\n",
      "(1, 32000)\n",
      "(1, 32000)\n",
      "(1, 32000)\n",
      "(1, 32000)\n",
      "(1, 32000)\n",
      "(1, 32000)\n",
      "(1, 32000)\n",
      "(1, 32000)\n",
      "(1, 32000)\n",
      "(1, 32000)\n",
      "(1, 32000)\n",
      "(1, 32000)\n",
      "(1, 32000)\n",
      "(1, 32000)\n",
      "(1, 32000)\n",
      "(1, 32000)\n",
      "(1, 32000)\n",
      "(1, 32000)\n",
      "(1, 32000)\n",
      "(1, 32000)\n",
      "(1, 32000)\n",
      "(1, 32000)\n",
      "(1, 32000)\n",
      "(1, 32000)\n",
      "(1, 32000)\n",
      "(1, 32000)\n",
      "(1, 32000)\n",
      "(1, 32000)\n",
      "(1, 32000)\n",
      "(1, 32000)\n",
      "(1, 32000)\n",
      "(1, 32000)\n",
      "(1, 32000)\n",
      "(1, 32000)\n",
      "(1, 32000)\n",
      "(1, 32000)\n",
      "(1, 32000)\n",
      "(1, 32000)\n",
      "(1, 32000)\n",
      "(1, 32000)\n",
      "(1, 32000)\n",
      "(1, 32000)\n",
      "(1, 32000)\n",
      "(1, 32000)\n",
      "(1, 32000)\n",
      "(1, 32000)\n",
      "(1, 32000)\n",
      "(1, 32000)\n",
      "(1, 32000)\n",
      "(1, 32000)\n",
      "(1, 32000)\n",
      "(1, 32000)\n",
      "(1, 32000)\n",
      "(1, 32000)\n",
      "(1, 32000)\n",
      "(1, 32000)\n",
      "(1, 32000)\n",
      "(1, 32000)\n",
      "(1, 32000)\n",
      "(1, 32000)\n",
      "(1, 32000)\n",
      "(1, 32000)\n",
      "(1, 32000)\n",
      "(1, 32000)\n",
      "(1, 32000)\n",
      "(1, 32000)\n",
      "(1, 32000)\n",
      "(1, 32000)\n",
      "(1, 32000)\n",
      "(1, 32000)\n",
      "(1, 32000)\n",
      "(1, 32000)\n",
      "(1, 32000)\n",
      "(1, 32000)\n",
      "(1, 32000)\n",
      "(1, 32000)\n",
      "(1, 32000)\n",
      "(1, 32000)\n",
      "(1, 32000)\n",
      "(1, 32000)\n",
      "(1, 32000)\n",
      "(1, 32000)\n",
      "(1, 32000)\n",
      "(1, 32000)\n",
      "(1, 32000)\n",
      "(1, 32000)\n",
      "(1, 32000)\n",
      "(1, 32000)\n",
      "(1, 32000)\n",
      "(1, 32000)\n",
      "(1, 32000)\n",
      "(1, 32000)\n",
      "(1, 32000)\n",
      "(1, 32000)\n",
      "(1, 32000)\n",
      "(1, 32000)\n",
      "(1, 32000)\n",
      "(1, 32000)\n",
      "(1, 32000)\n",
      "(1, 32000)\n",
      "(1, 32000)\n",
      "(1, 32000)\n",
      "(1, 32000)\n",
      "(1, 32000)\n",
      "(1, 32000)\n",
      "(1, 32000)\n",
      "(1, 32000)\n",
      "(1, 32000)\n",
      "(1, 32000)\n",
      "(1, 32000)\n",
      "(1, 32000)\n",
      "(1, 32000)\n",
      "(1, 32000)\n",
      "(1, 32000)\n",
      "(1, 32000)\n",
      "(1, 32000)\n",
      "(1, 32000)\n",
      "(1, 32000)\n",
      "(1, 32000)\n",
      "(1, 32000)\n",
      "(1, 32000)\n",
      "(1, 32000)\n",
      "(1, 32000)\n",
      "(1, 32000)\n",
      "(1, 32000)\n",
      "(1, 32000)\n",
      "(1, 32000)\n",
      "(1, 32000)\n",
      "(1, 32000)\n",
      "(1, 32000)\n",
      "(1, 32000)\n",
      "(1, 32000)\n",
      "(1, 32000)\n",
      "(1, 32000)\n",
      "(1, 32000)\n",
      "(1, 32000)\n",
      "(1, 32000)\n",
      "(1, 32000)\n",
      "(1, 32000)\n",
      "(1, 32000)\n",
      "(1, 32000)\n",
      "(1, 32000)\n",
      "(1, 32000)\n",
      "(1, 32000)\n",
      "(1, 32000)\n",
      "(1, 32000)\n",
      "(1, 32000)\n",
      "(1, 32000)\n",
      "(1, 32000)\n",
      "(1, 32000)\n",
      "(1, 32000)\n",
      "(1, 32000)\n",
      "(1, 32000)\n",
      "(1, 32000)\n",
      "(1, 32000)\n",
      "(1, 32000)\n",
      "(1, 32000)\n",
      "(1, 32000)\n",
      "(1, 32000)\n",
      "(1, 32000)\n",
      "(1, 32000)\n",
      "(1, 32000)\n",
      "(1, 32000)\n",
      "(1, 32000)\n",
      "(1, 32000)\n",
      "(1, 32000)\n",
      "(1, 32000)\n",
      "(1, 32000)\n",
      "(1, 32000)\n",
      "(1, 32000)\n",
      "(1, 32000)\n",
      "(1, 32000)\n",
      "(1, 32000)\n",
      "(1, 32000)\n",
      "(1, 32000)\n",
      "(1, 32000)\n",
      "(1, 32000)\n",
      "(1, 32000)\n",
      "(1, 32000)\n",
      "(1, 32000)\n",
      "(1, 32000)\n",
      "(1, 32000)\n",
      "(1, 32000)\n",
      "(1, 32000)\n",
      "(1, 32000)\n",
      "(1, 32000)\n",
      "(1, 32000)\n",
      "(1, 32000)\n",
      "(1, 32000)\n",
      "(1, 32000)\n",
      "(1, 32000)\n",
      "(1, 32000)\n",
      "(1, 32000)\n",
      "(1, 32000)\n",
      "(1, 32000)\n",
      "(1, 32000)\n",
      "(1, 32000)\n",
      "(1, 32000)\n",
      "(1, 32000)\n",
      "(1, 32000)\n",
      "(1, 32000)\n",
      "(1, 32000)\n",
      "(1, 32000)\n",
      "(1, 32000)\n",
      "(1, 32000)\n",
      "(1, 32000)\n",
      "(1, 32000)\n",
      "(1, 32000)\n",
      "(1, 32000)\n",
      "(1, 32000)\n",
      "(1, 32000)\n",
      "(1, 32000)\n",
      "(1, 32000)\n",
      "(1, 32000)\n",
      "(1, 32000)\n",
      "(1, 32000)\n",
      "(1, 32000)\n",
      "(1, 32000)\n",
      "(1, 32000)\n",
      "(1, 32000)\n",
      "(1, 32000)\n",
      "(1, 32000)\n",
      "(1, 32000)\n",
      "(1, 32000)\n",
      "(1, 32000)\n",
      "(1, 32000)\n",
      "(1, 32000)\n",
      "(1, 32000)\n",
      "(1, 32000)\n",
      "(1, 32000)\n",
      "(1, 32000)\n",
      "(1, 32000)\n",
      "(1, 32000)\n",
      "(1, 32000)\n",
      "(1, 32000)\n",
      "(1, 32000)\n",
      "(1, 32000)\n",
      "(1, 32000)\n",
      "(1, 32000)\n",
      "(1, 32000)\n",
      "(1, 32000)\n",
      "(1, 32000)\n",
      "(1, 32000)\n",
      "(1, 32000)\n",
      "(1, 32000)\n",
      "(1, 32000)\n",
      "(1, 32000)\n",
      "(1, 32000)\n",
      "(1, 32000)\n",
      "(1, 32000)\n",
      "(1, 32000)\n",
      "(1, 32000)\n",
      "(1, 32000)\n",
      "(1, 32000)\n",
      "(1, 32000)\n",
      "(1, 32000)\n",
      "(1, 32000)\n",
      "(1, 32000)\n",
      "(1, 32000)\n",
      "(1, 32000)\n",
      "(1, 32000)\n",
      "(1, 32000)\n",
      "(1, 32000)\n",
      "(1, 32000)\n",
      "(1, 32000)\n",
      "(1, 32000)\n",
      "(1, 32000)\n",
      "(1, 32000)\n",
      "(1, 32000)\n",
      "(1, 32000)\n",
      "(1, 32000)\n",
      "(1, 32000)\n",
      "(1, 32000)\n",
      "(1, 32000)\n",
      "(1, 32000)\n",
      "(1, 32000)\n",
      "(1, 32000)\n",
      "(1, 32000)\n",
      "(1, 32000)\n",
      "(1, 32000)\n",
      "(1, 32000)\n",
      "(1, 32000)\n",
      "(1, 32000)\n",
      "(1, 32000)\n",
      "(1, 32000)\n",
      "(1, 32000)\n",
      "(1, 32000)\n",
      "(1, 32000)\n",
      "(1, 32000)\n",
      "(1, 32000)\n",
      "(1, 32000)\n",
      "(1, 32000)\n",
      "(1, 32000)\n",
      "(1, 32000)\n",
      "(1, 32000)\n",
      "(1, 32000)\n",
      "(1, 32000)\n",
      "(1, 32000)\n",
      "(1, 32000)\n",
      "(1, 32000)\n",
      "(1, 32000)\n",
      "(1, 32000)\n",
      "(1, 32000)\n",
      "(1, 32000)\n",
      "(1, 32000)\n",
      "(1, 32000)\n",
      "(1, 32000)\n",
      "(1, 32000)\n",
      "(1, 32000)\n",
      "(1, 32000)\n",
      "(1, 32000)\n",
      "(1, 32000)\n",
      "(1, 32000)\n",
      "(1, 32000)\n",
      "(1, 32000)\n",
      "(1, 32000)\n",
      "(1, 32000)\n",
      "(1, 32000)\n",
      "(1, 32000)\n",
      "(1, 32000)\n",
      "(1, 32000)\n",
      "(1, 32000)\n",
      "(1, 32000)\n",
      "(1, 32000)\n",
      "(1, 32000)\n",
      "(1, 32000)\n",
      "(1, 32000)\n",
      "(1, 32000)\n",
      "(1, 32000)\n",
      "(1, 32000)\n",
      "(1, 32000)\n",
      "(1, 32000)\n",
      "(1, 32000)\n",
      "(1, 32000)\n",
      "(1, 32000)\n",
      "(1, 32000)\n",
      "(1, 32000)\n",
      "(1, 32000)\n",
      "(1, 32000)\n",
      "(1, 32000)\n",
      "(1, 32000)\n",
      "(1, 32000)\n",
      "(1, 32000)\n",
      "(1, 32000)\n",
      "(1, 32000)\n",
      "(1, 32000)\n",
      "(1, 32000)\n",
      "(1, 32000)\n",
      "(1, 32000)\n",
      "(1, 32000)\n",
      "(1, 32000)\n",
      "(1, 32000)\n",
      "(1, 32000)\n",
      "(1, 32000)\n",
      "(1, 32000)\n",
      "(1, 32000)\n",
      "(1, 32000)\n",
      "(1, 32000)\n",
      "(1, 32000)\n",
      "(1, 32000)\n",
      "(1, 32000)\n",
      "(1, 32000)\n",
      "(1, 32000)\n",
      "(1, 32000)\n",
      "(1, 32000)\n",
      "(1, 32000)\n",
      "(1, 32000)\n",
      "(1, 32000)\n",
      "(1, 32000)\n",
      "(1, 32000)\n",
      "(1, 32000)\n",
      "(1, 32000)\n",
      "(1, 32000)\n",
      "(1, 32000)\n",
      "(1, 32000)\n",
      "(1, 32000)\n"
     ]
    }
   ],
   "source": [
    "import struct\n",
    "with open(\"binary_struct/data.bin\", \"rb\") as fin:\n",
    "    data = fin.read()\n",
    "    for item in struct.iter_unpack(\"bi\", data):\n",
    "        print(item)"
   ],
   "metadata": {
    "collapsed": false,
    "pycharm": {
     "name": "#%%\n"
    }
   }
  },
  {
   "cell_type": "code",
   "execution_count": null,
   "outputs": [],
   "source": [],
   "metadata": {
    "collapsed": false,
    "pycharm": {
     "name": "#%%\n"
    }
   }
  }
 ],
 "metadata": {
  "kernelspec": {
   "display_name": "Python 3",
   "language": "python",
   "name": "python3"
  },
  "language_info": {
   "codemirror_mode": {
    "name": "ipython",
    "version": 2
   },
   "file_extension": ".py",
   "mimetype": "text/x-python",
   "name": "python",
   "nbconvert_exporter": "python",
   "pygments_lexer": "ipython2",
   "version": "2.7.6"
  }
 },
 "nbformat": 4,
 "nbformat_minor": 0
}