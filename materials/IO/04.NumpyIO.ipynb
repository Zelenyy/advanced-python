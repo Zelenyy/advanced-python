{
 "cells": [
  {
   "cell_type": "markdown",
   "source": [
    "# Чтение данных с помощью numpy\n",
    "\n",
    "* [Numpy IO](https://numpy.org/doc/stable/reference/routines.io.html)\n",
    "* `np.loadtxt`/`np.savetxt` --- чтение/запись текстовых данных (альтернатива модулю [csv](https://docs.python.org/3/library/csv.html) и [pandas](https://pandas.pydata.org/))\n",
    "    * Читает данные сразу в ndarray\n",
    "    * Настройка конверсии\n",
    "    * Обрабатывает \"плохие\" данные\n",
    "    * Может работать медленнее наивного чтения, проводя лишние проверки хороших данных\n",
    "* `np.fromfile`/`ndarray.tofile` ---  чтение/запись из текстового/бинарного файла\n",
    "* `np.load`/`np.save`/`np.savez`/`np.savez_compressed` --- сериализация/десериализация в собственный [NPY формат](https://numpy.org/doc/stable/reference/generated/numpy.lib.format.html#module-numpy.lib.format) (Файлы с расширение `.npy`/`.npz`"
   ],
   "metadata": {
    "collapsed": false,
    "pycharm": {
     "name": "#%% md\n"
    }
   }
  },
  {
   "cell_type": "code",
   "execution_count": 7,
   "outputs": [],
   "source": [
    "import numpy as np\n",
    "\n",
    "data = np.loadtxt(\"device_table.csv\", skiprows=1, delimiter=\",\", usecols=[1,2,3,4,5,6,8,9,10,11])"
   ],
   "metadata": {
    "collapsed": false,
    "pycharm": {
     "name": "#%%\n"
    }
   }
  },
  {
   "cell_type": "code",
   "execution_count": 8,
   "outputs": [
    {
     "data": {
      "text/plain": "array([[4.0000e+03, 6.4000e+04, 2.0000e+03, 1.0000e+01, 1.0000e+00,\n        1.0000e+00, 5.0000e+00, 1.0000e+02, 5.0000e+00, 8.0000e+02],\n       [4.0000e+03, 6.4000e+04, 2.0000e+03, 1.0000e+01, 1.0000e+00,\n        1.0000e+00, 5.0000e+00, 1.0000e+02, 5.0000e+00, 8.0000e+02],\n       [3.7200e+03, 5.9519e+04, 6.0000e+03, 2.0000e+01, 1.0000e+00,\n        1.0000e+00, 1.0000e+01, 1.0000e+02, 1.0000e+01, 1.5000e+02],\n       [3.7200e+03, 5.9519e+04, 6.0000e+03, 2.0000e+01, 1.0000e+00,\n        1.0000e+00, 1.0000e+01, 1.0000e+02, 1.0000e+01, 1.5000e+02],\n       [4.0000e+03, 6.4000e+04, 2.0000e+03, 1.0000e+01, 1.0000e+00,\n        1.0000e+00, 5.0000e+00, 1.0000e+02, 5.0000e+00, 3.0000e+03],\n       [4.0000e+03, 6.4000e+04, 2.0000e+03, 1.0000e+01, 1.0000e+00,\n        1.0000e+00, 5.0000e+00, 1.0000e+02, 5.0000e+00, 3.0000e+03],\n       [4.0000e+03, 6.4000e+04, 2.0000e+03, 5.0000e+00, 1.0000e+00,\n        1.0000e+01, 5.3600e-01, 1.0000e+02, 3.0000e+01, 7.5000e+03],\n       [4.0000e+03, 6.4000e+04, 2.0000e+03, 5.0000e+00, 1.0000e+00,\n        1.0000e+01, 5.3600e-01, 1.0000e+02, 3.0000e+01, 7.5000e+03],\n       [4.0000e+03, 6.4000e+04, 6.0000e+03, 5.0000e+00, 1.0000e+00,\n        1.0000e+01, 1.3300e-01, 1.0000e+02, 1.0000e+01, 2.5000e+03],\n       [4.0000e+03, 6.4000e+04, 6.0000e+03, 5.0000e+00, 1.0000e+00,\n        1.0000e+01, 1.3300e-01, 1.0000e+02, 1.0000e+01, 2.5000e+03],\n       [4.0000e+03, 6.4000e+04, 1.0000e+04, 3.0000e+01, 1.0000e+00,\n        1.0000e+01, 2.6700e+00, 1.0000e+03, 1.0000e+01, 1.5000e+03],\n       [4.0000e+03, 6.4000e+04, 1.0000e+04, 3.0000e+01, 1.0000e+00,\n        1.0000e+01, 2.6700e+00, 1.0000e+03, 1.0000e+01, 1.5000e+03],\n       [4.0000e+03, 6.4000e+04, 2.0000e+04, 6.0000e+01, 1.0000e+00,\n        1.0000e+01, 1.3300e+00, 5.0000e+03, 1.0000e+01, 3.0000e+03],\n       [4.0000e+03, 6.4000e+04, 2.0000e+04, 6.0000e+01, 1.0000e+00,\n        1.0000e+01, 1.3300e+00, 5.0000e+03, 1.0000e+01, 3.0000e+03],\n       [4.0000e+03, 6.4000e+04, 3.0000e+04, 1.0000e+02, 1.0000e+01,\n        1.0000e+01, 8.0600e+00, 5.0000e+03, 4.0000e+00, 5.0000e+02],\n       [4.0000e+03, 6.4000e+04, 3.0000e+04, 1.0000e+02, 1.0000e+01,\n        1.0000e+01, 8.0600e+00, 5.0000e+03, 4.0000e+00, 5.0000e+02],\n       [4.0000e+03, 6.4000e+04, 2.0000e+03, 1.0000e+01, 1.0000e+00,\n        1.0000e+01, 1.3300e-01, 1.0000e+02, 6.0000e+01, 3.0000e+04],\n       [4.0000e+03, 6.4000e+04, 2.0000e+03, 1.0000e+01, 1.0000e+00,\n        1.0000e+01, 1.3300e-01, 1.0000e+02, 6.0000e+01, 3.0000e+04],\n       [4.0000e+03, 6.4000e+04, 6.0000e+03, 1.0000e+01, 1.0000e+00,\n        1.0000e+01, 4.0000e-01, 1.0000e+02, 2.0000e+01, 1.0000e+04],\n       [4.0000e+03, 6.4000e+04, 6.0000e+03, 1.0000e+01, 1.0000e+00,\n        1.0000e+01, 4.0000e-01, 1.0000e+02, 2.0000e+01, 1.0000e+04],\n       [4.0000e+03, 6.4000e+04, 2.0000e+04, 1.0000e+02, 1.0000e+01,\n        1.0000e+01, 2.0000e+00, 5.0000e+03, 2.0000e+01, 3.0000e+03],\n       [4.0000e+03, 6.4000e+04, 2.0000e+04, 1.0000e+02, 1.0000e+01,\n        1.0000e+01, 2.0000e+00, 5.0000e+03, 2.0000e+01, 3.0000e+03],\n       [4.0000e+03, 6.4000e+04, 3.0000e+04, 1.0000e+02, 1.0000e+01,\n        1.0000e+01, 2.0000e+00, 5.0000e+03, 1.0000e+01, 2.0000e+03],\n       [4.0000e+03, 6.4000e+04, 3.0000e+04, 1.0000e+02, 1.0000e+01,\n        1.0000e+01, 2.0000e+00, 5.0000e+03, 1.0000e+01, 2.0000e+03]])"
     },
     "execution_count": 8,
     "metadata": {},
     "output_type": "execute_result"
    }
   ],
   "source": [
    "data"
   ],
   "metadata": {
    "collapsed": false,
    "pycharm": {
     "name": "#%%\n"
    }
   }
  },
  {
   "cell_type": "code",
   "execution_count": 9,
   "outputs": [],
   "source": [
    "np.savetxt(\"numpy.txt\", data)"
   ],
   "metadata": {
    "collapsed": false,
    "pycharm": {
     "name": "#%%\n"
    }
   }
  },
  {
   "cell_type": "code",
   "execution_count": 17,
   "outputs": [
    {
     "name": "stdout",
     "output_type": "stream",
     "text": [
      "CPU times: user 1.04 ms, sys: 128 µs, total: 1.16 ms\n",
      "Wall time: 924 µs\n"
     ]
    }
   ],
   "source": [
    "%%time\n",
    "data = np.loadtxt(\"numpy.txt\")"
   ],
   "metadata": {
    "collapsed": false,
    "pycharm": {
     "name": "#%%\n"
    }
   }
  },
  {
   "cell_type": "code",
   "execution_count": 18,
   "outputs": [
    {
     "name": "stdout",
     "output_type": "stream",
     "text": [
      "CPU times: user 943 µs, sys: 116 µs, total: 1.06 ms\n",
      "Wall time: 724 µs\n"
     ]
    }
   ],
   "source": [
    "%%time\n",
    "with open(\"numpy.txt\") as fin:\n",
    "    result = []\n",
    "    for line in fin.readlines():\n",
    "        result.append([float(it) for it in line.split()])"
   ],
   "metadata": {
    "collapsed": false,
    "pycharm": {
     "name": "#%%\n"
    }
   }
  },
  {
   "cell_type": "code",
   "execution_count": 15,
   "outputs": [
    {
     "name": "stdout",
     "output_type": "stream",
     "text": [
      "60.9 µs ± 267 ns per loop (mean ± std. dev. of 7 runs, 10,000 loops each)\n"
     ]
    }
   ],
   "source": [
    "%%timeit\n",
    "with open(\"numpy.txt\") as fin:\n",
    "    result = []\n",
    "    for line in fin.readlines():\n",
    "        result.append([float(it) for it in line.split()])"
   ],
   "metadata": {
    "collapsed": false,
    "pycharm": {
     "name": "#%%\n"
    }
   }
  },
  {
   "cell_type": "code",
   "execution_count": 16,
   "outputs": [
    {
     "name": "stdout",
     "output_type": "stream",
     "text": [
      "109 µs ± 1.68 µs per loop (mean ± std. dev. of 7 runs, 10,000 loops each)\n"
     ]
    }
   ],
   "source": [
    "%%timeit\n",
    "data = np.loadtxt(\"numpy.txt\")"
   ],
   "metadata": {
    "collapsed": false,
    "pycharm": {
     "name": "#%%\n"
    }
   }
  }
 ],
 "metadata": {
  "kernelspec": {
   "display_name": "Python 3",
   "language": "python",
   "name": "python3"
  },
  "language_info": {
   "codemirror_mode": {
    "name": "ipython",
    "version": 2
   },
   "file_extension": ".py",
   "mimetype": "text/x-python",
   "name": "python",
   "nbconvert_exporter": "python",
   "pygments_lexer": "ipython2",
   "version": "2.7.6"
  }
 },
 "nbformat": 4,
 "nbformat_minor": 0
}