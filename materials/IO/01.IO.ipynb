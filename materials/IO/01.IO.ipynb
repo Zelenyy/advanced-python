{
 "cells": [
  {
   "cell_type": "markdown",
   "source": [
    "# Input/Output\n",
    "\n",
    "* Модуль **io** --- core tools for working with streams\n",
    "\n",
    "\n",
    "* Text I/O (Текстовый) --- содержимое потока/файла интерпретируется как тескт в заданной кодировке. Возвращает `str`.\n",
    "* Binary I/O (Бинарный) --- сырое чтение информации из потока/файла как набора байтов. Возвращает `bytes`.\n",
    "* Raw I/O --- совсем сырое и низкоуровневое чтение, без буфферизации."
   ],
   "metadata": {
    "collapsed": false,
    "pycharm": {
     "name": "#%% md\n"
    }
   }
  },
  {
   "cell_type": "code",
   "execution_count": 1,
   "outputs": [
    {
     "data": {
      "text/plain": "8192"
     },
     "execution_count": 1,
     "metadata": {},
     "output_type": "execute_result"
    }
   ],
   "source": [
    "import io\n",
    "io.DEFAULT_BUFFER_SIZE"
   ],
   "metadata": {
    "collapsed": false,
    "pycharm": {
     "name": "#%%\n"
    }
   }
  },
  {
   "cell_type": "markdown",
   "source": [
    "<table class=\"docutils align-default\">\n",
    "<colgroup>\n",
    "<col style=\"width: 21%\" />\n",
    "<col style=\"width: 15%\" />\n",
    "<col style=\"width: 21%\" />\n",
    "<col style=\"width: 43%\" />\n",
    "</colgroup>\n",
    "<thead>\n",
    "<tr class=\"row-odd\"><th class=\"head\"><p>ABC</p></th>\n",
    "<th class=\"head\"><p>Inherits</p></th>\n",
    "<th class=\"head\"><p>Stub Methods</p></th>\n",
    "<th class=\"head\"><p>Mixin Methods and Properties</p></th>\n",
    "</tr>\n",
    "</thead>\n",
    "<tbody>\n",
    "<tr class=\"row-even\"><td><p><a class=\"reference internal\" href=\"#io.IOBase\" title=\"io.IOBase\"><code class=\"xref py py-class docutils literal notranslate\"><span class=\"pre\">IOBase</span></code></a></p></td>\n",
    "<td></td>\n",
    "<td><p><code class=\"docutils literal notranslate\"><span class=\"pre\">fileno</span></code>, <code class=\"docutils literal notranslate\"><span class=\"pre\">seek</span></code>,\n",
    "and <code class=\"docutils literal notranslate\"><span class=\"pre\">truncate</span></code></p></td>\n",
    "<td><p><code class=\"docutils literal notranslate\"><span class=\"pre\">close</span></code>, <code class=\"docutils literal notranslate\"><span class=\"pre\">closed</span></code>, <code class=\"docutils literal notranslate\"><span class=\"pre\">__enter__</span></code>,\n",
    "<code class=\"docutils literal notranslate\"><span class=\"pre\">__exit__</span></code>, <code class=\"docutils literal notranslate\"><span class=\"pre\">flush</span></code>, <code class=\"docutils literal notranslate\"><span class=\"pre\">isatty</span></code>, <code class=\"docutils literal notranslate\"><span class=\"pre\">__iter__</span></code>,\n",
    "<code class=\"docutils literal notranslate\"><span class=\"pre\">__next__</span></code>, <code class=\"docutils literal notranslate\"><span class=\"pre\">readable</span></code>, <code class=\"docutils literal notranslate\"><span class=\"pre\">readline</span></code>,\n",
    "<code class=\"docutils literal notranslate\"><span class=\"pre\">readlines</span></code>, <code class=\"docutils literal notranslate\"><span class=\"pre\">seekable</span></code>, <code class=\"docutils literal notranslate\"><span class=\"pre\">tell</span></code>,\n",
    "<code class=\"docutils literal notranslate\"><span class=\"pre\">writable</span></code>, and <code class=\"docutils literal notranslate\"><span class=\"pre\">writelines</span></code></p></td>\n",
    "</tr>\n",
    "<tr class=\"row-odd\"><td><p><a class=\"reference internal\" href=\"#io.RawIOBase\" title=\"io.RawIOBase\"><code class=\"xref py py-class docutils literal notranslate\"><span class=\"pre\">RawIOBase</span></code></a></p></td>\n",
    "<td><p><a class=\"reference internal\" href=\"#io.IOBase\" title=\"io.IOBase\"><code class=\"xref py py-class docutils literal notranslate\"><span class=\"pre\">IOBase</span></code></a></p></td>\n",
    "<td><p><code class=\"docutils literal notranslate\"><span class=\"pre\">readinto</span></code> and\n",
    "<code class=\"docutils literal notranslate\"><span class=\"pre\">write</span></code></p></td>\n",
    "<td><p>Inherited <a class=\"reference internal\" href=\"#io.IOBase\" title=\"io.IOBase\"><code class=\"xref py py-class docutils literal notranslate\"><span class=\"pre\">IOBase</span></code></a> methods, <code class=\"docutils literal notranslate\"><span class=\"pre\">read</span></code>,\n",
    "and <code class=\"docutils literal notranslate\"><span class=\"pre\">readall</span></code></p></td>\n",
    "</tr>\n",
    "<tr class=\"row-even\"><td><p><a class=\"reference internal\" href=\"#io.BufferedIOBase\" title=\"io.BufferedIOBase\"><code class=\"xref py py-class docutils literal notranslate\"><span class=\"pre\">BufferedIOBase</span></code></a></p></td>\n",
    "<td><p><a class=\"reference internal\" href=\"#io.IOBase\" title=\"io.IOBase\"><code class=\"xref py py-class docutils literal notranslate\"><span class=\"pre\">IOBase</span></code></a></p></td>\n",
    "<td><p><code class=\"docutils literal notranslate\"><span class=\"pre\">detach</span></code>, <code class=\"docutils literal notranslate\"><span class=\"pre\">read</span></code>,\n",
    "<code class=\"docutils literal notranslate\"><span class=\"pre\">read1</span></code>, and <code class=\"docutils literal notranslate\"><span class=\"pre\">write</span></code></p></td>\n",
    "<td><p>Inherited <a class=\"reference internal\" href=\"#io.IOBase\" title=\"io.IOBase\"><code class=\"xref py py-class docutils literal notranslate\"><span class=\"pre\">IOBase</span></code></a> methods, <code class=\"docutils literal notranslate\"><span class=\"pre\">readinto</span></code>,\n",
    "and <code class=\"docutils literal notranslate\"><span class=\"pre\">readinto1</span></code></p></td>\n",
    "</tr>\n",
    "<tr class=\"row-odd\"><td><p><a class=\"reference internal\" href=\"#io.TextIOBase\" title=\"io.TextIOBase\"><code class=\"xref py py-class docutils literal notranslate\"><span class=\"pre\">TextIOBase</span></code></a></p></td>\n",
    "<td><p><a class=\"reference internal\" href=\"#io.IOBase\" title=\"io.IOBase\"><code class=\"xref py py-class docutils literal notranslate\"><span class=\"pre\">IOBase</span></code></a></p></td>\n",
    "<td><p><code class=\"docutils literal notranslate\"><span class=\"pre\">detach</span></code>, <code class=\"docutils literal notranslate\"><span class=\"pre\">read</span></code>,\n",
    "<code class=\"docutils literal notranslate\"><span class=\"pre\">readline</span></code>, and\n",
    "<code class=\"docutils literal notranslate\"><span class=\"pre\">write</span></code></p></td>\n",
    "<td><p>Inherited <a class=\"reference internal\" href=\"#io.IOBase\" title=\"io.IOBase\"><code class=\"xref py py-class docutils literal notranslate\"><span class=\"pre\">IOBase</span></code></a> methods, <code class=\"docutils literal notranslate\"><span class=\"pre\">encoding</span></code>,\n",
    "<code class=\"docutils literal notranslate\"><span class=\"pre\">errors</span></code>, and <code class=\"docutils literal notranslate\"><span class=\"pre\">newlines</span></code></p></td>\n",
    "</tr>\n",
    "</tbody>\n",
    "</table>"
   ],
   "metadata": {
    "collapsed": false,
    "pycharm": {
     "name": "#%% md\n"
    }
   }
  },
  {
   "cell_type": "code",
   "execution_count": 23,
   "outputs": [
    {
     "data": {
      "text/plain": "b'12345'"
     },
     "execution_count": 23,
     "metadata": {},
     "output_type": "execute_result"
    }
   ],
   "source": [
    "buff = io.BytesIO(initial_bytes=b\"12345\")\n",
    "buff.getvalue()"
   ],
   "metadata": {
    "collapsed": false,
    "pycharm": {
     "name": "#%%\n"
    }
   }
  },
  {
   "cell_type": "code",
   "execution_count": 24,
   "outputs": [
    {
     "data": {
      "text/plain": "b'67890'"
     },
     "execution_count": 24,
     "metadata": {},
     "output_type": "execute_result"
    }
   ],
   "source": [
    "buff.write(b\"67890\")\n",
    "buff.getvalue()"
   ],
   "metadata": {
    "collapsed": false,
    "pycharm": {
     "name": "#%%\n"
    }
   }
  },
  {
   "cell_type": "code",
   "execution_count": 25,
   "outputs": [
    {
     "data": {
      "text/plain": "b''"
     },
     "execution_count": 25,
     "metadata": {},
     "output_type": "execute_result"
    }
   ],
   "source": [
    "buff.read()"
   ],
   "metadata": {
    "collapsed": false,
    "pycharm": {
     "name": "#%%\n"
    }
   }
  },
  {
   "cell_type": "code",
   "execution_count": 26,
   "outputs": [
    {
     "data": {
      "text/plain": "b'67890'"
     },
     "execution_count": 26,
     "metadata": {},
     "output_type": "execute_result"
    }
   ],
   "source": [
    "buff.seek(0)\n",
    "buff.read()"
   ],
   "metadata": {
    "collapsed": false,
    "pycharm": {
     "name": "#%%\n"
    }
   }
  },
  {
   "cell_type": "code",
   "execution_count": null,
   "outputs": [],
   "source": [
    "buff = io.StringIO()"
   ],
   "metadata": {
    "collapsed": false,
    "pycharm": {
     "name": "#%%\n"
    }
   }
  }
 ],
 "metadata": {
  "kernelspec": {
   "display_name": "Python 3",
   "language": "python",
   "name": "python3"
  },
  "language_info": {
   "codemirror_mode": {
    "name": "ipython",
    "version": 2
   },
   "file_extension": ".py",
   "mimetype": "text/x-python",
   "name": "python",
   "nbconvert_exporter": "python",
   "pygments_lexer": "ipython2",
   "version": "2.7.6"
  }
 },
 "nbformat": 4,
 "nbformat_minor": 0
}