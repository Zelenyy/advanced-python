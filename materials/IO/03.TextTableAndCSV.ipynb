{
 "cells": [
  {
   "cell_type": "markdown",
   "source": [
    "# CSV\n",
    "\n",
    "* [csv](https://docs.python.org/3/library/csv.html?highlight=csv#module-csv)"
   ],
   "metadata": {
    "collapsed": false,
    "pycharm": {
     "name": "#%% md\n"
    }
   }
  },
  {
   "cell_type": "code",
   "execution_count": 2,
   "outputs": [
    {
     "name": "stdout",
     "output_type": "stream",
     "text": [
      "['Name', 'Code of max voltage, ADC', 'Code of max voltage, DAC', 'Max voltage, V', 'Min voltage, V', 'Voltage step, V', 'Current step,  mcA', 'Polarity', 'Sensor resistance, kohm', 'Feedback resistanse, Mohm', 'Current min, mcA', 'Current max, mcA', 'Current units']\n",
      "['HV2000P', '4000', '64000', '2000', '10', '1', '1', 'P', '5', '100', '5', '800', 'micro']\n",
      "['HV2000N', '4000', '64000', '2000', '10', '1', '1', 'N', '5', '100', '5', '800', 'micro']\n",
      "['HV6000P', '3720', '59519', '6000', '20', '1', '1', 'P', '10', '100', '10', '150', 'micro']\n",
      "['HV6000N', '3720', '59519', '6000', '20', '1', '1', 'N', '10', '100', '10', '150', 'micro']\n",
      "['HT2000P', '4000', '64000', '2000', '10', '1', '1', 'P', '5', '100', '5', '3000', 'micro']\n",
      "['HT2000N', '4000', '64000', '2000', '10', '1', '1', 'N', '5', '100', '5', '3000', 'micro']\n",
      "['HT-15-2-P', '4000', '64000', '2000', '5', '1', '10', 'P', '0.536', '100', '30', '7500', 'micro']\n",
      "['HT-15-2-N', '4000', '64000', '2000', '5', '1', '10', 'N', '0.536', '100', '30', '7500', 'micro']\n",
      "['HT-15-6-P', '4000', '64000', '6000', '5', '1', '10', 'P', '0.133', '100', '10', '2500', 'milli']\n",
      "['HT-15-6-N', '4000', '64000', '6000', '5', '1', '10', 'N', '0.133', '100', '10', '2500', 'milli']\n",
      "['HT-15-10-P', '4000', '64000', '10000', '30', '1', '10', 'P', '2.67', '1000', '10', '1500', 'micro']\n",
      "['HT-15-10-N', '4000', '64000', '10000', '30', '1', '10', 'N', '2.67', '1000', '10', '1500', 'micro']\n",
      "['HT-15-20-P', '4000', '64000', '20000', '60', '1', '10', 'P', '1.33', '5000', '10', '3000', 'milli']\n",
      "['HT-15-20-N', '4000', '64000', '20000', '60', '1', '10', 'N', '1.33', '5000', '10', '3000', 'milli']\n",
      "['HT-15-30-P', '4000', '64000', '30000', '100', '10', '10', 'P', '8.06', '5000', '4', '500', 'milli']\n",
      "['HT-15-30-N', '4000', '64000', '30000', '100', '10', '10', 'N', '8.06', '5000', '4', '500', 'milli']\n",
      "['HT-60-2-P', '4000', '64000', '2000', '10', '1', '10', 'P', '0.133', '100', '60', '30000', 'micro']\n",
      "['HT-60-2-N', '4000', '64000', '2000', '10', '1', '10', 'N', '0.133', '100', '60', '30000', 'micro']\n",
      "['HT-60-6-P', '4000', '64000', '6000', '10', '1', '10', 'P', '0.4', '100', '20', '10000', 'micro']\n",
      "['HT-60-6-N', '4000', '64000', '6000', '10', '1', '10', 'N', '0.4', '100', '20', '10000', 'micro']\n",
      "['HT-60-20-P', '4000', '64000', '20000', '100', '10', '10', 'P', '2', '5000', '20', '3000', 'micro']\n",
      "['HT-60-20-N', '4000', '64000', '20000', '100', '10', '10', 'N', '2', '5000', '20', '3000', 'micro']\n",
      "['HT-60-30-P', '4000', '64000', '30000', '100', '10', '10', 'P', '2', '5000', '10', '2000', 'micro']\n",
      "['HT-60-30-N', '4000', '64000', '30000', '100', '10', '10', 'N', '2', '5000', '10', '2000', 'micro']\n"
     ]
    }
   ],
   "source": [
    "import csv\n",
    "\n",
    "with open(\"device_table.csv\") as csvfile:\n",
    "    reader = csv.reader(csvfile)\n",
    "    for row in reader:\n",
    "        print(row)"
   ],
   "metadata": {
    "collapsed": false,
    "pycharm": {
     "name": "#%%\n"
    }
   }
  },
  {
   "cell_type": "code",
   "execution_count": 3,
   "outputs": [
    {
     "name": "stdout",
     "output_type": "stream",
     "text": [
      "Spam Spam Spam Spam Spam |Baked Beans|\r\n",
      "Spam |Lovely Spam| |Wonderful Spam|\r\n",
      "\n"
     ]
    }
   ],
   "source": [
    "import csv\n",
    "import io\n",
    "with io.StringIO(newline='') as csvfile:\n",
    "    spamwriter = csv.writer(csvfile, delimiter=' ',\n",
    "                            quotechar='|', quoting=csv.QUOTE_MINIMAL)\n",
    "    spamwriter.writerow(['Spam'] * 5 + ['Baked Beans'])\n",
    "    spamwriter.writerow(['Spam', 'Lovely Spam', 'Wonderful Spam'])\n",
    "    print(csvfile.getvalue())"
   ],
   "metadata": {
    "collapsed": false,
    "pycharm": {
     "name": "#%%\n"
    }
   }
  },
  {
   "cell_type": "markdown",
   "source": [
    "# tabulate"
   ],
   "metadata": {
    "collapsed": false,
    "pycharm": {
     "name": "#%% md\n"
    }
   }
  },
  {
   "cell_type": "code",
   "execution_count": 7,
   "outputs": [
    {
     "name": "stdout",
     "output_type": "stream",
     "text": [
      "Name          Code of max voltage, ADC    Code of max voltage, DAC    Max voltage, V    Min voltage, V    Voltage step, V    Current step,  mcA  Polarity      Sensor resistance, kohm    Feedback resistanse, Mohm    Current min, mcA    Current max, mcA  Current units\n",
      "----------  --------------------------  --------------------------  ----------------  ----------------  -----------------  --------------------  ----------  -------------------------  ---------------------------  ------------------  ------------------  ---------------\n",
      "HV2000P                           4000                       64000              2000                10                  1                     1  P                               5                              100                   5                 800  micro\n",
      "HV2000N                           4000                       64000              2000                10                  1                     1  N                               5                              100                   5                 800  micro\n",
      "HV6000P                           3720                       59519              6000                20                  1                     1  P                              10                              100                  10                 150  micro\n",
      "HV6000N                           3720                       59519              6000                20                  1                     1  N                              10                              100                  10                 150  micro\n",
      "HT2000P                           4000                       64000              2000                10                  1                     1  P                               5                              100                   5                3000  micro\n",
      "HT2000N                           4000                       64000              2000                10                  1                     1  N                               5                              100                   5                3000  micro\n",
      "HT-15-2-P                         4000                       64000              2000                 5                  1                    10  P                               0.536                          100                  30                7500  micro\n",
      "HT-15-2-N                         4000                       64000              2000                 5                  1                    10  N                               0.536                          100                  30                7500  micro\n",
      "HT-15-6-P                         4000                       64000              6000                 5                  1                    10  P                               0.133                          100                  10                2500  milli\n",
      "HT-15-6-N                         4000                       64000              6000                 5                  1                    10  N                               0.133                          100                  10                2500  milli\n",
      "HT-15-10-P                        4000                       64000             10000                30                  1                    10  P                               2.67                          1000                  10                1500  micro\n",
      "HT-15-10-N                        4000                       64000             10000                30                  1                    10  N                               2.67                          1000                  10                1500  micro\n",
      "HT-15-20-P                        4000                       64000             20000                60                  1                    10  P                               1.33                          5000                  10                3000  milli\n",
      "HT-15-20-N                        4000                       64000             20000                60                  1                    10  N                               1.33                          5000                  10                3000  milli\n",
      "HT-15-30-P                        4000                       64000             30000               100                 10                    10  P                               8.06                          5000                   4                 500  milli\n",
      "HT-15-30-N                        4000                       64000             30000               100                 10                    10  N                               8.06                          5000                   4                 500  milli\n",
      "HT-60-2-P                         4000                       64000              2000                10                  1                    10  P                               0.133                          100                  60               30000  micro\n",
      "HT-60-2-N                         4000                       64000              2000                10                  1                    10  N                               0.133                          100                  60               30000  micro\n",
      "HT-60-6-P                         4000                       64000              6000                10                  1                    10  P                               0.4                            100                  20               10000  micro\n",
      "HT-60-6-N                         4000                       64000              6000                10                  1                    10  N                               0.4                            100                  20               10000  micro\n",
      "HT-60-20-P                        4000                       64000             20000               100                 10                    10  P                               2                             5000                  20                3000  micro\n",
      "HT-60-20-N                        4000                       64000             20000               100                 10                    10  N                               2                             5000                  20                3000  micro\n",
      "HT-60-30-P                        4000                       64000             30000               100                 10                    10  P                               2                             5000                  10                2000  micro\n",
      "HT-60-30-N                        4000                       64000             30000               100                 10                    10  N                               2                             5000                  10                2000  micro\n"
     ]
    }
   ],
   "source": [
    "import tabulate\n",
    "\n",
    "with open(\"device_table.csv\") as csvfile:\n",
    "    reader = csv.reader(csvfile)\n",
    "    result  = list(reader)\n",
    "\n",
    "header = result.pop(0)\n",
    "\n",
    "\n",
    "print(tabulate.tabulate(result, headers=header))"
   ],
   "metadata": {
    "collapsed": false,
    "pycharm": {
     "name": "#%%\n"
    }
   }
  },
  {
   "cell_type": "code",
   "execution_count": 8,
   "outputs": [
    {
     "name": "stdout",
     "output_type": "stream",
     "text": [
      "\\begin{tabular}{lrrrrrrlrrrrl}\n",
      "\\hline\n",
      " Name       &   Code of max voltage, ADC &   Code of max voltage, DAC &   Max voltage, V &   Min voltage, V &   Voltage step, V &   Current step,  mcA & Polarity   &   Sensor resistance, kohm &   Feedback resistanse, Mohm &   Current min, mcA &   Current max, mcA & Current units   \\\\\n",
      "\\hline\n",
      " HV2000P    &                       4000 &                      64000 &             2000 &               10 &                 1 &                    1 & P          &                     5     &                         100 &                  5 &                800 & micro           \\\\\n",
      " HV2000N    &                       4000 &                      64000 &             2000 &               10 &                 1 &                    1 & N          &                     5     &                         100 &                  5 &                800 & micro           \\\\\n",
      " HV6000P    &                       3720 &                      59519 &             6000 &               20 &                 1 &                    1 & P          &                    10     &                         100 &                 10 &                150 & micro           \\\\\n",
      " HV6000N    &                       3720 &                      59519 &             6000 &               20 &                 1 &                    1 & N          &                    10     &                         100 &                 10 &                150 & micro           \\\\\n",
      " HT2000P    &                       4000 &                      64000 &             2000 &               10 &                 1 &                    1 & P          &                     5     &                         100 &                  5 &               3000 & micro           \\\\\n",
      " HT2000N    &                       4000 &                      64000 &             2000 &               10 &                 1 &                    1 & N          &                     5     &                         100 &                  5 &               3000 & micro           \\\\\n",
      " HT-15-2-P  &                       4000 &                      64000 &             2000 &                5 &                 1 &                   10 & P          &                     0.536 &                         100 &                 30 &               7500 & micro           \\\\\n",
      " HT-15-2-N  &                       4000 &                      64000 &             2000 &                5 &                 1 &                   10 & N          &                     0.536 &                         100 &                 30 &               7500 & micro           \\\\\n",
      " HT-15-6-P  &                       4000 &                      64000 &             6000 &                5 &                 1 &                   10 & P          &                     0.133 &                         100 &                 10 &               2500 & milli           \\\\\n",
      " HT-15-6-N  &                       4000 &                      64000 &             6000 &                5 &                 1 &                   10 & N          &                     0.133 &                         100 &                 10 &               2500 & milli           \\\\\n",
      " HT-15-10-P &                       4000 &                      64000 &            10000 &               30 &                 1 &                   10 & P          &                     2.67  &                        1000 &                 10 &               1500 & micro           \\\\\n",
      " HT-15-10-N &                       4000 &                      64000 &            10000 &               30 &                 1 &                   10 & N          &                     2.67  &                        1000 &                 10 &               1500 & micro           \\\\\n",
      " HT-15-20-P &                       4000 &                      64000 &            20000 &               60 &                 1 &                   10 & P          &                     1.33  &                        5000 &                 10 &               3000 & milli           \\\\\n",
      " HT-15-20-N &                       4000 &                      64000 &            20000 &               60 &                 1 &                   10 & N          &                     1.33  &                        5000 &                 10 &               3000 & milli           \\\\\n",
      " HT-15-30-P &                       4000 &                      64000 &            30000 &              100 &                10 &                   10 & P          &                     8.06  &                        5000 &                  4 &                500 & milli           \\\\\n",
      " HT-15-30-N &                       4000 &                      64000 &            30000 &              100 &                10 &                   10 & N          &                     8.06  &                        5000 &                  4 &                500 & milli           \\\\\n",
      " HT-60-2-P  &                       4000 &                      64000 &             2000 &               10 &                 1 &                   10 & P          &                     0.133 &                         100 &                 60 &              30000 & micro           \\\\\n",
      " HT-60-2-N  &                       4000 &                      64000 &             2000 &               10 &                 1 &                   10 & N          &                     0.133 &                         100 &                 60 &              30000 & micro           \\\\\n",
      " HT-60-6-P  &                       4000 &                      64000 &             6000 &               10 &                 1 &                   10 & P          &                     0.4   &                         100 &                 20 &              10000 & micro           \\\\\n",
      " HT-60-6-N  &                       4000 &                      64000 &             6000 &               10 &                 1 &                   10 & N          &                     0.4   &                         100 &                 20 &              10000 & micro           \\\\\n",
      " HT-60-20-P &                       4000 &                      64000 &            20000 &              100 &                10 &                   10 & P          &                     2     &                        5000 &                 20 &               3000 & micro           \\\\\n",
      " HT-60-20-N &                       4000 &                      64000 &            20000 &              100 &                10 &                   10 & N          &                     2     &                        5000 &                 20 &               3000 & micro           \\\\\n",
      " HT-60-30-P &                       4000 &                      64000 &            30000 &              100 &                10 &                   10 & P          &                     2     &                        5000 &                 10 &               2000 & micro           \\\\\n",
      " HT-60-30-N &                       4000 &                      64000 &            30000 &              100 &                10 &                   10 & N          &                     2     &                        5000 &                 10 &               2000 & micro           \\\\\n",
      "\\hline\n",
      "\\end{tabular}\n"
     ]
    }
   ],
   "source": [
    "print(tabulate.tabulate(result, headers=header, tablefmt=\"latex\"))"
   ],
   "metadata": {
    "collapsed": false,
    "pycharm": {
     "name": "#%%\n"
    }
   }
  },
  {
   "cell_type": "markdown",
   "source": [
    "# Pandas"
   ],
   "metadata": {
    "collapsed": false,
    "pycharm": {
     "name": "#%% md\n"
    }
   }
  },
  {
   "cell_type": "code",
   "execution_count": 45,
   "outputs": [
    {
     "data": {
      "text/plain": "      Name  Code of max voltage, ADC  Code of max voltage, DAC  \\\n0  HV2000P                      4000                     64000   \n1  HV2000N                      4000                     64000   \n2  HV6000P                      3720                     59519   \n3  HV6000N                      3720                     59519   \n4  HT2000P                      4000                     64000   \n\n   Max voltage, V  Min voltage, V  Voltage step, V  Current step,  mcA  \\\n0            2000              10                1                   1   \n1            2000              10                1                   1   \n2            6000              20                1                   1   \n3            6000              20                1                   1   \n4            2000              10                1                   1   \n\n  Polarity  Sensor resistance, kohm  Feedback resistanse, Mohm  \\\n0        P                      5.0                        100   \n1        N                      5.0                        100   \n2        P                     10.0                        100   \n3        N                     10.0                        100   \n4        P                      5.0                        100   \n\n   Current min, mcA  Current max, mcA Current units  \n0                 5               800         micro  \n1                 5               800         micro  \n2                10               150         micro  \n3                10               150         micro  \n4                 5              3000         micro  ",
      "text/html": "<div>\n<style scoped>\n    .dataframe tbody tr th:only-of-type {\n        vertical-align: middle;\n    }\n\n    .dataframe tbody tr th {\n        vertical-align: top;\n    }\n\n    .dataframe thead th {\n        text-align: right;\n    }\n</style>\n<table border=\"1\" class=\"dataframe\">\n  <thead>\n    <tr style=\"text-align: right;\">\n      <th></th>\n      <th>Name</th>\n      <th>Code of max voltage, ADC</th>\n      <th>Code of max voltage, DAC</th>\n      <th>Max voltage, V</th>\n      <th>Min voltage, V</th>\n      <th>Voltage step, V</th>\n      <th>Current step,  mcA</th>\n      <th>Polarity</th>\n      <th>Sensor resistance, kohm</th>\n      <th>Feedback resistanse, Mohm</th>\n      <th>Current min, mcA</th>\n      <th>Current max, mcA</th>\n      <th>Current units</th>\n    </tr>\n  </thead>\n  <tbody>\n    <tr>\n      <th>0</th>\n      <td>HV2000P</td>\n      <td>4000</td>\n      <td>64000</td>\n      <td>2000</td>\n      <td>10</td>\n      <td>1</td>\n      <td>1</td>\n      <td>P</td>\n      <td>5.0</td>\n      <td>100</td>\n      <td>5</td>\n      <td>800</td>\n      <td>micro</td>\n    </tr>\n    <tr>\n      <th>1</th>\n      <td>HV2000N</td>\n      <td>4000</td>\n      <td>64000</td>\n      <td>2000</td>\n      <td>10</td>\n      <td>1</td>\n      <td>1</td>\n      <td>N</td>\n      <td>5.0</td>\n      <td>100</td>\n      <td>5</td>\n      <td>800</td>\n      <td>micro</td>\n    </tr>\n    <tr>\n      <th>2</th>\n      <td>HV6000P</td>\n      <td>3720</td>\n      <td>59519</td>\n      <td>6000</td>\n      <td>20</td>\n      <td>1</td>\n      <td>1</td>\n      <td>P</td>\n      <td>10.0</td>\n      <td>100</td>\n      <td>10</td>\n      <td>150</td>\n      <td>micro</td>\n    </tr>\n    <tr>\n      <th>3</th>\n      <td>HV6000N</td>\n      <td>3720</td>\n      <td>59519</td>\n      <td>6000</td>\n      <td>20</td>\n      <td>1</td>\n      <td>1</td>\n      <td>N</td>\n      <td>10.0</td>\n      <td>100</td>\n      <td>10</td>\n      <td>150</td>\n      <td>micro</td>\n    </tr>\n    <tr>\n      <th>4</th>\n      <td>HT2000P</td>\n      <td>4000</td>\n      <td>64000</td>\n      <td>2000</td>\n      <td>10</td>\n      <td>1</td>\n      <td>1</td>\n      <td>P</td>\n      <td>5.0</td>\n      <td>100</td>\n      <td>5</td>\n      <td>3000</td>\n      <td>micro</td>\n    </tr>\n  </tbody>\n</table>\n</div>"
     },
     "execution_count": 45,
     "metadata": {},
     "output_type": "execute_result"
    }
   ],
   "source": [
    "import pandas as pd\n",
    "data = pd.read_csv(\"device_table.csv\")\n",
    "data.head()"
   ],
   "metadata": {
    "collapsed": false,
    "pycharm": {
     "name": "#%%\n"
    }
   }
  },
  {
   "cell_type": "code",
   "execution_count": null,
   "outputs": [],
   "source": [],
   "metadata": {
    "collapsed": false,
    "pycharm": {
     "name": "#%%\n"
    }
   }
  }
 ],
 "metadata": {
  "kernelspec": {
   "display_name": "Python 3",
   "language": "python",
   "name": "python3"
  },
  "language_info": {
   "codemirror_mode": {
    "name": "ipython",
    "version": 2
   },
   "file_extension": ".py",
   "mimetype": "text/x-python",
   "name": "python",
   "nbconvert_exporter": "python",
   "pygments_lexer": "ipython2",
   "version": "2.7.6"
  }
 },
 "nbformat": 4,
 "nbformat_minor": 0
}