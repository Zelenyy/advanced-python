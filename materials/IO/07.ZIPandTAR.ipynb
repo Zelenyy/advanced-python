{
 "cells": [
  {
   "cell_type": "markdown",
   "source": [
    "# Работа с архивами\n",
    "\n",
    "* [ZIP](https://docs.python.org/3/library/zipfile.html)\n",
    "* [TAR](https://docs.python.org/3/library/tarfile.html?highlight=tarfile#module-tarfile)\n",
    "* [В Python повторно нашли не закрытую 15 лет назад уязвимость](https://habr.com/ru/news/t/689690/) --- [Фича, а не баг](https://github.com/python/cpython/issues/65308#issuecomment-1093650963)\n",
    "* ZIP Bombs!!!"
   ],
   "metadata": {
    "collapsed": false,
    "pycharm": {
     "name": "#%% md\n"
    }
   }
  },
  {
   "cell_type": "code",
   "execution_count": 7,
   "outputs": [],
   "source": [
    "import pathlib\n",
    "import zipfile\n",
    "import tarfile\n",
    "import shutil"
   ],
   "metadata": {
    "collapsed": false,
    "pycharm": {
     "name": "#%%\n"
    }
   }
  },
  {
   "cell_type": "code",
   "execution_count": 17,
   "outputs": [
    {
     "name": "stdout",
     "output_type": "stream",
     "text": [
      "File Name                                             Modified             Size\n",
      "temp.txt                                       2022-10-12 12:09:33           17\n",
      "temp.bin                                       2022-10-12 12:09:33            8\n",
      "04.NumpyIO.ipynb                               2022-10-12 17:08:39         7970\n",
      "01.IO.ipynb                                    2022-10-12 12:10:30        12363\n",
      "06.ZIP.py                                      2022-10-12 18:39:06            0\n",
      "03.TextTableAndCSV.ipynb                       2022-10-12 15:52:33        25313\n",
      "img.png                                        2021-11-02 18:41:49        11799\n",
      "numpy.txt                                      2022-10-12 16:28:24         6000\n",
      "07.ZIPandTAR.ipynb                             2022-10-12 18:54:17        10596\n",
      "05.fileinput.py                                2022-10-12 18:31:03          164\n",
      "07.JSON.ipynb                                  2022-10-12 16:19:00        12469\n",
      "02.Path.ipynb                                  2022-10-12 12:11:22         3875\n",
      "08.XML.ipynb                                   2021-11-30 17:20:08         4598\n",
      "device_table.csv                               2021-11-23 13:09:31         1656\n"
     ]
    }
   ],
   "source": [
    "with zipfile.ZipFile('spam.zip', 'w', compresslevel=9) as myzip:\n",
    "    for path in pathlib.Path(\".\").iterdir():\n",
    "        if path.is_file() and path.suffix != \".zip\":\n",
    "            myzip.write(path)\n",
    "    myzip.printdir()"
   ],
   "metadata": {
    "collapsed": false,
    "pycharm": {
     "name": "#%%\n"
    }
   }
  },
  {
   "cell_type": "code",
   "execution_count": 12,
   "outputs": [
    {
     "name": "stdout",
     "output_type": "stream",
     "text": [
      "CPU times: user 2.14 ms, sys: 605 ms, total: 607 ms\n",
      "Wall time: 607 ms\n"
     ]
    }
   ],
   "source": [
    "%%time\n",
    "with zipfile.ZipFile('spam_ex.zip', 'w') as myzip:\n",
    "    for path in pathlib.Path(\"../example_project\").iterdir():\n",
    "            myzip.write(path)\n",
    "\n"
   ],
   "metadata": {
    "collapsed": false,
    "pycharm": {
     "name": "#%%\n"
    }
   }
  },
  {
   "cell_type": "markdown",
   "source": [],
   "metadata": {
    "collapsed": false,
    "pycharm": {
     "name": "#%% md\n"
    }
   }
  },
  {
   "cell_type": "code",
   "execution_count": 13,
   "outputs": [
    {
     "name": "stdout",
     "output_type": "stream",
     "text": [
      "CPU times: user 5.8 ms, sys: 2.01 ms, total: 7.8 ms\n",
      "Wall time: 8.77 ms\n"
     ]
    },
    {
     "data": {
      "text/plain": "'/home/zelenyy/npm/scp-masters/advanced-python/materials/IO/spam_sh.zip'"
     },
     "execution_count": 13,
     "metadata": {},
     "output_type": "execute_result"
    }
   ],
   "source": [
    "%%time\n",
    "shutil.make_archive(\"spam_sh\", \"zip\", \"../example_project\")"
   ],
   "metadata": {
    "collapsed": false,
    "pycharm": {
     "name": "#%%\n"
    }
   }
  },
  {
   "cell_type": "code",
   "execution_count": 19,
   "outputs": [
    {
     "name": "stdout",
     "output_type": "stream",
     "text": [
      "b'4.000000000000000000e+03 6.400000000000000000e+04 2.000000000000000000e+03 1.000000000000000000e+01 1.000000000000000000e+00 1.000000000000000000e+00 5.000000000000000000e+00 1.000000000000000000e+02 5.000000000000000000e+00 8.000000000000000000e+02\\n'\n"
     ]
    }
   ],
   "source": [
    "with zipfile.ZipFile(\"spam.zip\") as myzip:\n",
    "    with myzip.open(\"numpy.txt\") as fin:\n",
    "        print(fin.readline())"
   ],
   "metadata": {
    "collapsed": false,
    "pycharm": {
     "name": "#%%\n"
    }
   }
  },
  {
   "cell_type": "markdown",
   "source": [
    "# Упаковка кода в архив"
   ],
   "metadata": {
    "collapsed": false,
    "pycharm": {
     "name": "#%% md\n"
    }
   }
  },
  {
   "cell_type": "code",
   "execution_count": 15,
   "outputs": [
    {
     "name": "stdout",
     "output_type": "stream",
     "text": [
      "File Name                                             Modified             Size\n",
      "05.fileinput.pyc                               2022-10-12 18:36:28          313\n",
      "06.ZIP.pyc                                     2022-10-12 18:45:36          104\n"
     ]
    }
   ],
   "source": [
    "\n",
    "with zipfile.PyZipFile(\"prog.zip\", \"w\") as zf:\n",
    "    zf.writepy(\".\")\n",
    "    zf.printdir()"
   ],
   "metadata": {
    "collapsed": false,
    "pycharm": {
     "name": "#%%\n"
    }
   }
  }
 ],
 "metadata": {
  "kernelspec": {
   "display_name": "Python 3",
   "language": "python",
   "name": "python3"
  },
  "language_info": {
   "codemirror_mode": {
    "name": "ipython",
    "version": 2
   },
   "file_extension": ".py",
   "mimetype": "text/x-python",
   "name": "python",
   "nbconvert_exporter": "python",
   "pygments_lexer": "ipython2",
   "version": "2.7.6"
  }
 },
 "nbformat": 4,
 "nbformat_minor": 0
}