{
 "cells": [
  {
   "cell_type": "markdown",
   "metadata": {
    "collapsed": true,
    "pycharm": {
     "name": "#%% md\n"
    }
   },
   "source": [
    "# XML\n",
    "\n",
    "* eXtensible Markup Language\n",
    "* Используется для хранения чего-угодно, где угодно\n",
    "* Используется для разметки каких-угодно документов\n",
    "\n",
    "* Потоковое чтение vs Полное чтение\n",
    "* Построение DOM (Document object model)\n",
    "\n",
    "* [XML Processing Modules](https://docs.python.org/3/library/xml.html) - The ElementTree XML API\n",
    "* [lxml](https://lxml.de/)  - XML and HTML with Python"
   ]
  },
  {
   "cell_type": "code",
   "execution_count": 34,
   "outputs": [],
   "source": [
    "import xml.etree.ElementTree as ET\n",
    "tree = ET.parse('dwyer2003.gdml')\n",
    "root = tree.getroot()"
   ],
   "metadata": {
    "collapsed": false,
    "pycharm": {
     "name": "#%%\n"
    }
   }
  },
  {
   "cell_type": "code",
   "execution_count": 35,
   "outputs": [
    {
     "data": {
      "text/plain": "'gdml'"
     },
     "execution_count": 35,
     "metadata": {},
     "output_type": "execute_result"
    }
   ],
   "source": [
    "root.tag"
   ],
   "metadata": {
    "collapsed": false,
    "pycharm": {
     "name": "#%%\n"
    }
   }
  },
  {
   "cell_type": "code",
   "execution_count": 36,
   "outputs": [],
   "source": [
    "for volume in root.find(\"structure\").iterfind(\"volume\"):\n",
    "    if volume.attrib[\"name\"] == \"World\":\n",
    "        break"
   ],
   "metadata": {
    "collapsed": false,
    "pycharm": {
     "name": "#%%\n"
    }
   }
  },
  {
   "cell_type": "code",
   "execution_count": 37,
   "outputs": [
    {
     "name": "stdout",
     "output_type": "stream",
     "text": [
      "<Element 'materialref' at 0x7f7de90a3270>\n",
      "<Element 'solidref' at 0x7f7de90a32c0>\n",
      "<Element 'physvol' at 0x7f7de90a3310>\n"
     ]
    }
   ],
   "source": [
    "for item in volume:\n",
    "    print(item)"
   ],
   "metadata": {
    "collapsed": false,
    "pycharm": {
     "name": "#%%\n"
    }
   }
  },
  {
   "cell_type": "code",
   "execution_count": 38,
   "outputs": [],
   "source": [
    "for i in range(10):\n",
    "    physvol = ET.Element(\"physvol\")\n",
    "    physvol.append(ET.Element(\"volumeref\", { \"ref\" : \"Cell\"}))\n",
    "    # Не забываем переводить данные в строки\n",
    "    physvol.append(ET.Element(\"position\", {\"x\": str(i), \"y\": str(i), \"z\": str(i)}))\n",
    "    volume.append(physvol)"
   ],
   "metadata": {
    "collapsed": false,
    "pycharm": {
     "name": "#%%\n"
    }
   }
  },
  {
   "cell_type": "code",
   "execution_count": 39,
   "outputs": [
    {
     "name": "stdout",
     "output_type": "stream",
     "text": [
      "<Element 'materialref' at 0x7f7de90a3270>\n",
      "<Element 'solidref' at 0x7f7de90a32c0>\n",
      "<Element 'physvol' at 0x7f7de90a3310>\n",
      "<Element 'physvol' at 0x7f7de9094b30>\n",
      "<Element 'physvol' at 0x7f7de90999a0>\n",
      "<Element 'physvol' at 0x7f7de9085d10>\n",
      "<Element 'physvol' at 0x7f7de90f2e00>\n",
      "<Element 'physvol' at 0x7f7de90f2ef0>\n",
      "<Element 'physvol' at 0x7f7de90f2c20>\n",
      "<Element 'physvol' at 0x7f7de90f2ea0>\n",
      "<Element 'physvol' at 0x7f7de90f2450>\n",
      "<Element 'physvol' at 0x7f7de90f2310>\n",
      "<Element 'physvol' at 0x7f7de90f2360>\n"
     ]
    }
   ],
   "source": [
    "for item in volume:\n",
    "    print(item)"
   ],
   "metadata": {
    "collapsed": false,
    "pycharm": {
     "name": "#%%\n"
    }
   }
  },
  {
   "cell_type": "code",
   "execution_count": 40,
   "outputs": [],
   "source": [
    "tree.write(\"dwyer_new.gdml\")"
   ],
   "metadata": {
    "collapsed": false,
    "pycharm": {
     "name": "#%%\n"
    }
   }
  },
  {
   "cell_type": "code",
   "execution_count": null,
   "outputs": [],
   "source": [],
   "metadata": {
    "collapsed": false,
    "pycharm": {
     "name": "#%%\n"
    }
   }
  }
 ],
 "metadata": {
  "kernelspec": {
   "display_name": "Python 3",
   "language": "python",
   "name": "python3"
  },
  "language_info": {
   "codemirror_mode": {
    "name": "ipython",
    "version": 2
   },
   "file_extension": ".py",
   "mimetype": "text/x-python",
   "name": "python",
   "nbconvert_exporter": "python",
   "pygments_lexer": "ipython2",
   "version": "2.7.6"
  }
 },
 "nbformat": 4,
 "nbformat_minor": 0
}