{
 "cells": [
  {
   "cell_type": "markdown",
   "id": "edfde5fa",
   "metadata": {
    "pycharm": {
     "name": "#%% md\n"
    }
   },
   "source": [
    "## Декораторы\n",
    "\n",
    "* [Понимаем декораторы в Python'e, шаг за шагом. Шаг 1](https://habr.com/ru/post/141411/)\n",
    "* [Понимаем декораторы в Python'e, шаг за шагом. Шаг 2](https://habr.com/ru/post/141501/)\n",
    "* [Шаблон проектирования **Декоратор**](https://ru.wikipedia.org/wiki/%D0%94%D0%B5%D0%BA%D0%BE%D1%80%D0%B0%D1%82%D0%BE%D1%80_(%D1%88%D0%B0%D0%B1%D0%BB%D0%BE%D0%BD_%D0%BF%D1%80%D0%BE%D0%B5%D0%BA%D1%82%D0%B8%D1%80%D0%BE%D0%B2%D0%B0%D0%BD%D0%B8%D1%8F))\n",
    "* [PEP 318: Decorators for Functions and Methods](https://www.python.org/dev/peps/pep-0318/)\n",
    "* [PEP 3129: Class Decorators](https://www.python.org/dev/peps/pep-3129/)"
   ]
  },
  {
   "cell_type": "code",
   "execution_count": 6,
   "id": "80b09bfe",
   "metadata": {
    "pycharm": {
     "name": "#%%\n"
    }
   },
   "outputs": [],
   "source": [
    "def my_shiny_new_decorator(a_function_to_decorate):\n",
    "\n",
    "    def the_wrapper_around_the_original_function():\n",
    "        print(\"Я - код, который отработает до вызова функции\")\n",
    "        a_function_to_decorate()\n",
    "        print(\"А я - код, срабатывающий после\")\n",
    "\n",
    "    return the_wrapper_around_the_original_function"
   ]
  },
  {
   "cell_type": "code",
   "execution_count": 7,
   "id": "6b6f50a0",
   "metadata": {
    "pycharm": {
     "name": "#%%\n"
    }
   },
   "outputs": [
    {
     "name": "stdout",
     "output_type": "stream",
     "text": [
      "Я простая одинокая функция, ты ведь не посмеешь меня изменять?..\n"
     ]
    }
   ],
   "source": [
    "def a_stand_alone_function():\n",
    "    print(\"Я простая одинокая функция, ты ведь не посмеешь меня изменять?..\")\n",
    "\n",
    "a_stand_alone_function()"
   ]
  },
  {
   "cell_type": "code",
   "execution_count": 8,
   "id": "934d311b",
   "metadata": {
    "pycharm": {
     "name": "#%%\n"
    }
   },
   "outputs": [
    {
     "name": "stdout",
     "output_type": "stream",
     "text": [
      "Я - код, который отработает до вызова функции\n",
      "Я простая одинокая функция, ты ведь не посмеешь меня изменять?..\n",
      "А я - код, срабатывающий после\n"
     ]
    }
   ],
   "source": [
    "a_stand_alone_function_decorated = my_shiny_new_decorator(a_stand_alone_function)\n",
    "\n",
    "a_stand_alone_function_decorated()"
   ]
  },
  {
   "cell_type": "code",
   "execution_count": 9,
   "id": "59a6912b",
   "metadata": {
    "pycharm": {
     "name": "#%%\n"
    }
   },
   "outputs": [
    {
     "name": "stdout",
     "output_type": "stream",
     "text": [
      "Я - код, который отработает до вызова функции\n",
      "Оставь меня в покое\n",
      "А я - код, срабатывающий после\n"
     ]
    }
   ],
   "source": [
    "@my_shiny_new_decorator\n",
    "def another_stand_alone_function():\n",
    "    print(\"Оставь меня в покое\")\n",
    "\n",
    "another_stand_alone_function()"
   ]
  },
  {
   "cell_type": "markdown",
   "id": "ef2901a1",
   "metadata": {
    "pycharm": {
     "name": "#%% md\n"
    }
   },
   "source": [
    "### Можно применять несколько декораторов, порядок применения важен"
   ]
  },
  {
   "cell_type": "code",
   "execution_count": 10,
   "id": "0fe3d471",
   "metadata": {
    "pycharm": {
     "name": "#%%\n"
    }
   },
   "outputs": [],
   "source": [
    "def bread(func):\n",
    "    def wrapper():\n",
    "        print(\"</------\\>\")\n",
    "        func()\n",
    "        print(\"<\\______/>\")\n",
    "    return wrapper\n",
    "\n",
    "def ingredients(func):\n",
    "    def wrapper():\n",
    "        print(\"#помидоры#\")\n",
    "        func()\n",
    "        print(\"~салат~\")\n",
    "    return wrapper"
   ]
  },
  {
   "cell_type": "code",
   "execution_count": 11,
   "id": "88c37ba6",
   "metadata": {
    "pycharm": {
     "name": "#%%\n"
    }
   },
   "outputs": [
    {
     "name": "stdout",
     "output_type": "stream",
     "text": [
      "</------\\>\n",
      "#помидоры#\n",
      "--ветчина--\n",
      "~салат~\n",
      "<\\______/>\n"
     ]
    }
   ],
   "source": [
    "@bread\n",
    "@ingredients\n",
    "def sandwich(food=\"--ветчина--\"):\n",
    "    print(food)\n",
    "\n",
    "sandwich()"
   ]
  },
  {
   "cell_type": "code",
   "execution_count": 12,
   "id": "8d854a36",
   "metadata": {
    "pycharm": {
     "name": "#%%\n"
    }
   },
   "outputs": [
    {
     "name": "stdout",
     "output_type": "stream",
     "text": [
      "#помидоры#\n",
      "</------\\>\n",
      "--ветчина--\n",
      "<\\______/>\n",
      "~салат~\n"
     ]
    }
   ],
   "source": [
    "@ingredients\n",
    "@bread\n",
    "def sandwich(food=\"--ветчина--\"):\n",
    "    print(food)\n",
    "\n",
    "sandwich()"
   ]
  },
  {
   "cell_type": "markdown",
   "id": "a510fbeb",
   "metadata": {
    "pycharm": {
     "name": "#%% md\n"
    }
   },
   "source": [
    "### Передача («проброс») аргументов в декорируемую функцию"
   ]
  },
  {
   "cell_type": "code",
   "execution_count": 13,
   "id": "5b4f90d5",
   "metadata": {
    "pycharm": {
     "name": "#%%\n"
    }
   },
   "outputs": [
    {
     "name": "stdout",
     "output_type": "stream",
     "text": [
      "Смотри, что я получил: Питер Венкман\n",
      "Меня зовут Питер Венкман\n"
     ]
    }
   ],
   "source": [
    "def a_decorator_passing_arguments(function_to_decorate):\n",
    "    def a_wrapper_accepting_arguments(arg1, arg2):\n",
    "        print(\"Смотри, что я получил:\", arg1, arg2)\n",
    "        function_to_decorate(arg1, arg2)\n",
    "    return a_wrapper_accepting_arguments\n",
    "\n",
    "@a_decorator_passing_arguments\n",
    "def print_full_name(first_name, last_name):\n",
    "    print(\"Меня зовут\", first_name, last_name)\n",
    "\n",
    "print_full_name(\"Питер\", \"Венкман\")"
   ]
  },
  {
   "cell_type": "markdown",
   "id": "6cf35d41",
   "metadata": {
    "pycharm": {
     "name": "#%% md\n"
    }
   },
   "source": [
    "### Декораторы методов"
   ]
  },
  {
   "cell_type": "code",
   "execution_count": 14,
   "id": "6adae653",
   "metadata": {
    "pycharm": {
     "name": "#%%\n"
    }
   },
   "outputs": [
    {
     "name": "stdout",
     "output_type": "stream",
     "text": [
      "30\n"
     ]
    }
   ],
   "source": [
    "def method_friendly_decorator(method_to_decorate):\n",
    "    def wrapper(self, feeder):\n",
    "        feeder.food -= 10\n",
    "        return method_to_decorate(self, feeder)\n",
    "    return wrapper\n",
    "\n",
    "\n",
    "class Feeder(object):\n",
    "\n",
    "    def __init__(self):\n",
    "        self.food = 60\n",
    "\n",
    "class Cat:\n",
    "    def __init__(self):\n",
    "        self.food_intake = 20\n",
    "\n",
    "    @method_friendly_decorator\n",
    "    def rob_feeder(self, feeder):\n",
    "        feeder.food -= self.food_intake\n",
    "\n",
    "feeder = Feeder()\n",
    "Cat().rob_feeder(feeder)\n",
    "print(feeder.food)"
   ]
  },
  {
   "cell_type": "markdown",
   "id": "9ee7713a",
   "metadata": {
    "pycharm": {
     "name": "#%% md\n"
    }
   },
   "source": [
    "### Фабрика декораторов"
   ]
  },
  {
   "cell_type": "code",
   "execution_count": 15,
   "id": "3a1ce124",
   "metadata": {
    "pycharm": {
     "name": "#%%\n"
    }
   },
   "outputs": [],
   "source": [
    "def decorator_maker():\n",
    "    print(\"Я создаю декораторы! Я буду вызван только раз: \"\n",
    "          \"когда ты попросишь меня создать тебе декоратор.\")\n",
    "\n",
    "    def my_decorator(func):\n",
    "        print(\"Я - декоратор! Я буду вызван только раз: в момент декорирования функции.\")\n",
    "\n",
    "        def wrapped():\n",
    "            print (\"Я - обёртка вокруг декорируемой функции. \"\n",
    "                  \"Я буду вызвана каждый раз когда ты вызываешь декорируемую функцию. \"\n",
    "                  \"Я возвращаю результат работы декорируемой функции.\")\n",
    "            return func()\n",
    "\n",
    "        print(\"Я возвращаю обёрнутую функцию.\")\n",
    "\n",
    "        return wrapped\n",
    "\n",
    "    print(\"Я возвращаю декоратор.\")\n",
    "    return my_decorator"
   ]
  },
  {
   "cell_type": "code",
   "execution_count": 16,
   "id": "db43379d",
   "metadata": {
    "pycharm": {
     "name": "#%%\n"
    }
   },
   "outputs": [
    {
     "name": "stdout",
     "output_type": "stream",
     "text": [
      "Я создаю декораторы! Я буду вызван только раз: когда ты попросишь меня создать тебе декоратор.\n",
      "Я возвращаю декоратор.\n",
      "Я - декоратор! Я буду вызван только раз: в момент декорирования функции.\n",
      "Я возвращаю обёрнутую функцию.\n"
     ]
    }
   ],
   "source": [
    "@decorator_maker()\n",
    "def decorated_function():\n",
    "    print(\"Я - декорируемая функция.\")"
   ]
  },
  {
   "cell_type": "code",
   "execution_count": 17,
   "id": "0db072be",
   "metadata": {
    "pycharm": {
     "name": "#%%\n"
    }
   },
   "outputs": [
    {
     "name": "stdout",
     "output_type": "stream",
     "text": [
      "Я - обёртка вокруг декорируемой функции. Я буду вызвана каждый раз когда ты вызываешь декорируемую функцию. Я возвращаю результат работы декорируемой функции.\n",
      "Я - декорируемая функция.\n"
     ]
    }
   ],
   "source": [
    "decorated_function()"
   ]
  },
  {
   "cell_type": "code",
   "execution_count": 19,
   "id": "29b0fa5d",
   "metadata": {
    "pycharm": {
     "name": "#%%\n"
    }
   },
   "outputs": [
    {
     "name": "stdout",
     "output_type": "stream",
     "text": [
      "Я создаю декораторы! И я получил следующие аргументы: Леонард Шелдон\n",
      "Я - декоратор. И ты всё же смог передать мне эти аргументы: Леонард Шелдон\n",
      "Я - обёртка вокруг декорируемой функции.\n",
      "И я имею доступ ко всем аргументам: \n",
      "\t- и декоратора: Леонард Шелдон\n",
      "\t- и функции: Раджеш Говард\n",
      "Теперь я могу передать нужные аргументы дальше\n",
      "Я - декорируемая функция и я знаю только о своих аргументах: Раджеш Говард\n"
     ]
    }
   ],
   "source": [
    "def decorator_maker_with_arguments(decorator_arg1, decorator_arg2):\n",
    "\n",
    "    print(\"Я создаю декораторы! И я получил следующие аргументы:\", decorator_arg1, decorator_arg2)\n",
    "\n",
    "    def my_decorator(func):\n",
    "        print(\"Я - декоратор. И ты всё же смог передать мне эти аргументы:\", decorator_arg1, decorator_arg2)\n",
    "\n",
    "        # Не перепутайте аргументы декораторов с аргументами функций!\n",
    "        def wrapped(function_arg1, function_arg2) :\n",
    "            print (\"Я - обёртка вокруг декорируемой функции.\\n\"\n",
    "                  \"И я имею доступ ко всем аргументам: \\n\"\n",
    "                  \"\\t- и декоратора: {0} {1}\\n\"\n",
    "                  \"\\t- и функции: {2} {3}\\n\"\n",
    "                  \"Теперь я могу передать нужные аргументы дальше\"\n",
    "                  .format(decorator_arg1, decorator_arg2,\n",
    "                          function_arg1, function_arg2))\n",
    "            return func(function_arg1, function_arg2)\n",
    "\n",
    "        return wrapped\n",
    "\n",
    "    return my_decorator\n",
    "\n",
    "@decorator_maker_with_arguments(\"Леонард\", \"Шелдон\")\n",
    "def decorated_function_with_arguments(function_arg1, function_arg2):\n",
    "    print (\"Я - декорируемая функция и я знаю только о своих аргументах: {0}\"\n",
    "           \" {1}\".format(function_arg1, function_arg2))\n",
    "\n",
    "decorated_function_with_arguments(\"Раджеш\", \"Говард\")"
   ]
  },
  {
   "cell_type": "code",
   "execution_count": 20,
   "id": "8d00f6b4",
   "metadata": {
    "pycharm": {
     "name": "#%%\n"
    }
   },
   "outputs": [
    {
     "name": "stdout",
     "output_type": "stream",
     "text": [
      "reverse_string была вызвана: 1x\n",
      "wrapper ('А роза упала на лапу Азора',) {}\n",
      "wrapper 0.0032860940000318806\n",
      "<reversed object at 0x7f640a3ef400>\n",
      "reverse_string была вызвана: 2x\n",
      "wrapper ('A man, a plan, a canoe, pasta, heros, rajahs, a coloratura, maps, snipe, percale, macaroni, a gag, a banana bag, a tan, a tag, a banana bag again (or a camel), a crepe, pins, Spam, a rut, a Rolo, cash, a jar, sore hats, a peon, a canal: Panama!',) {}\n",
      "wrapper 0.0016102680001495173\n",
      "<reversed object at 0x7f640a3ef4c0>\n"
     ]
    }
   ],
   "source": [
    "def benchmark(func):\n",
    "    \"\"\"\n",
    "    Декоратор, выводящий время, которое заняло\n",
    "    выполнение декорируемой функции.\n",
    "    \"\"\"\n",
    "    import time\n",
    "    def wrapper(*args, **kwargs):\n",
    "        t = time.perf_counter()\n",
    "        res = func(*args, **kwargs)\n",
    "        print(func.__name__, time.perf_counter() - t)\n",
    "        return res\n",
    "    return wrapper\n",
    "\n",
    "\n",
    "def logging(func):\n",
    "    \"\"\"\n",
    "    Декоратор, логирующий работу кода.\n",
    "    (хорошо, он просто выводит вызовы, но тут могло быть и логирование!)\n",
    "    \"\"\"\n",
    "    def wrapper(*args, **kwargs):\n",
    "        res = func(*args, **kwargs)\n",
    "        print(func.__name__, args, kwargs)\n",
    "        return res\n",
    "    return wrapper\n",
    "\n",
    "\n",
    "def counter(func):\n",
    "    \"\"\"\n",
    "    Декоратор, считающий и выводящий количество вызовов\n",
    "    декорируемой функции.\n",
    "    \"\"\"\n",
    "    def wrapper(*args, **kwargs):\n",
    "        wrapper.count += 1\n",
    "        res = func(*args, **kwargs)\n",
    "        print(\"{0} была вызвана: {1}x\".format(func.__name__, wrapper.count))\n",
    "        return res\n",
    "    wrapper.count = 0\n",
    "    return wrapper\n",
    "\n",
    "\n",
    "@benchmark\n",
    "@logging\n",
    "@counter\n",
    "def reverse_string(string):\n",
    "    return str(reversed(string))\n",
    "\n",
    "print(reverse_string(\"А роза упала на лапу Азора\"))\n",
    "print(reverse_string(\"A man, a plan, a canoe, pasta, heros, rajahs, a coloratura, maps, snipe, percale, macaroni, a gag, a banana bag, a tan, a tag, a banana bag again (or a camel), a crepe, pins, Spam, a rut, a Rolo, cash, a jar, sore hats, a peon, a canal: Panama!\"))"
   ]
  },
  {
   "cell_type": "markdown",
   "id": "2e32b51d",
   "metadata": {
    "pycharm": {
     "name": "#%% md\n"
    }
   },
   "source": [
    "### `functool.wraps`"
   ]
  },
  {
   "cell_type": "code",
   "execution_count": 27,
   "id": "0037df61",
   "metadata": {
    "pycharm": {
     "name": "#%%\n"
    }
   },
   "outputs": [
    {
     "name": "stdout",
     "output_type": "stream",
     "text": [
      "foo\n"
     ]
    }
   ],
   "source": [
    "# Во время отладки, в трассировочную информацию выводится __name__ функции.\n",
    "def foo():\n",
    "    print(\"foo\")\n",
    "\n",
    "print(foo.__name__)"
   ]
  },
  {
   "cell_type": "code",
   "execution_count": 28,
   "id": "0fd476c0",
   "metadata": {
    "pycharm": {
     "name": "#%%\n"
    }
   },
   "outputs": [
    {
     "name": "stdout",
     "output_type": "stream",
     "text": [
      "wrapper\n"
     ]
    }
   ],
   "source": [
    "# Однако, декораторы мешают нормальному ходу дел:\n",
    "def bar(func):\n",
    "    def wrapper():\n",
    "        print(\"bar\")\n",
    "        return func()\n",
    "    return wrapper\n",
    "\n",
    "@bar\n",
    "def foo():\n",
    "    print(\"foo\")\n",
    "\n",
    "print(foo.__name__)"
   ]
  },
  {
   "cell_type": "code",
   "execution_count": 29,
   "id": "65fde60a",
   "metadata": {
    "pycharm": {
     "name": "#%%\n"
    }
   },
   "outputs": [
    {
     "name": "stdout",
     "output_type": "stream",
     "text": [
      "foo\n"
     ]
    }
   ],
   "source": [
    "import functools\n",
    "\n",
    "def bar(func):\n",
    "    @functools.wraps(func)\n",
    "    def wrapper():\n",
    "        print(\"bar\")\n",
    "        return func()\n",
    "    return wrapper\n",
    "\n",
    "@bar\n",
    "def foo():\n",
    "    print(\"foo\")\n",
    "\n",
    "print(foo.__name__)"
   ]
  },
  {
   "cell_type": "markdown",
   "id": "cfe52ba9",
   "metadata": {
    "pycharm": {
     "name": "#%% md\n"
    }
   },
   "source": [
    "### Декораторы классов, на примере `dataclass`"
   ]
  },
  {
   "cell_type": "code",
   "execution_count": 30,
   "id": "b20436af",
   "metadata": {
    "pycharm": {
     "name": "#%%\n"
    }
   },
   "outputs": [],
   "source": [
    "from dataclasses import dataclass\n",
    "\n",
    "\n",
    "@dataclass(eq=True, frozen=True)\n",
    "class FieldHeight:\n",
    "    field: float\n",
    "    height : float"
   ]
  },
  {
   "cell_type": "code",
   "execution_count": 31,
   "id": "c733fe25",
   "metadata": {
    "pycharm": {
     "name": "#%%\n"
    }
   },
   "outputs": [
    {
     "data": {
      "text/plain": [
       "FieldHeight(field=10, height=10)"
      ]
     },
     "execution_count": 31,
     "metadata": {},
     "output_type": "execute_result"
    }
   ],
   "source": [
    "FieldHeight(10,10)"
   ]
  },
  {
   "cell_type": "markdown",
   "id": "0aa85fc8",
   "metadata": {
    "pycharm": {
     "name": "#%% md\n"
    }
   },
   "source": [
    "```\n",
    "@dataclasses.dataclass(*, init=True, repr=True, eq=True, order=False, unsafe_hash=False, frozen=False)\n",
    "```"
   ]
  },
  {
   "cell_type": "code",
   "execution_count": null,
   "id": "f1cc1321",
   "metadata": {
    "pycharm": {
     "name": "#%%\n"
    }
   },
   "outputs": [],
   "source": [
    "from dataclasses import dataclass\n",
    "\n",
    "@dataclass\n",
    "class InventoryItem:\n",
    "    \"\"\"Class for keeping track of an item in inventory.\"\"\"\n",
    "    name: str\n",
    "    unit_price: float\n",
    "    quantity_on_hand: int = 0\n",
    "\n",
    "    def total_cost(self) -> float:\n",
    "        return self.unit_price * self.quantity_on_hand\n"
   ]
  },
  {
   "cell_type": "markdown",
   "id": "4931d9b6",
   "metadata": {
    "pycharm": {
     "name": "#%% md\n"
    }
   },
   "source": [
    "* Декораторы могут быть использованы для расширения:\n",
    "    * возможностей функций и классов;\n",
    "    * одним и тем же кодом.\n",
    "* Декоратор вызывается ровно один раз.\n",
    "* Когда мы пишем `import x`\"` все функции из `x` декорируются сразу же, и мы уже не сможем ничего изменить."
   ]
  },
  {
   "cell_type": "markdown",
   "id": "c235c56f",
   "metadata": {
    "pycharm": {
     "name": "#%% md\n"
    }
   },
   "source": [
    "Список потенциальных областей применения декораторов очень большой:\n",
    "\n",
    "* трассировка вызовов функции\n",
    "* установка/проверка пре- и постусловий\n",
    "* синхронизация\n",
    "* ленивые вычисления и вообще кеширование вызовов функций\n",
    "* убирание хвостовой рекурсии\n",
    "* проверка типов аргументов функции\n"
   ]
  },
  {
   "cell_type": "markdown",
   "id": "7e410795",
   "metadata": {
    "pycharm": {
     "name": "#%% md\n"
    }
   },
   "source": [
    "### Популярные декораторы"
   ]
  },
  {
   "cell_type": "code",
   "execution_count": 45,
   "id": "f2f1776e",
   "metadata": {
    "pycharm": {
     "name": "#%%\n"
    }
   },
   "outputs": [],
   "source": [
    "class A:\n",
    "\n",
    "    @staticmethod\n",
    "    def method_1(a, b):\n",
    "        return a + b\n",
    "\n",
    "    counter = 0\n",
    "\n",
    "    @classmethod\n",
    "    def method_2(cls):\n",
    "        print(cls.counter)\n",
    "\n",
    "    _x = \"x\"\n",
    "\n",
    "    @property\n",
    "    def x(self):\n",
    "        print(\"Get x\")\n",
    "        return self._x\n",
    "\n",
    "    @x.setter\n",
    "    def x(self, value):\n",
    "        print(\"Set x\")\n",
    "        self._x = value\n",
    "\n",
    "    @x.deleter\n",
    "    def x(self):\n",
    "        del self._x"
   ]
  },
  {
   "cell_type": "code",
   "execution_count": 46,
   "id": "023fd421",
   "metadata": {
    "pycharm": {
     "name": "#%%\n"
    }
   },
   "outputs": [],
   "source": [
    "a = A()"
   ]
  },
  {
   "cell_type": "code",
   "execution_count": 47,
   "id": "e92cdc35",
   "metadata": {
    "pycharm": {
     "name": "#%%\n"
    }
   },
   "outputs": [
    {
     "name": "stdout",
     "output_type": "stream",
     "text": [
      "Get x\n"
     ]
    },
    {
     "data": {
      "text/plain": [
       "'x'"
      ]
     },
     "execution_count": 47,
     "metadata": {},
     "output_type": "execute_result"
    }
   ],
   "source": [
    "a.x"
   ]
  },
  {
   "cell_type": "code",
   "execution_count": 48,
   "id": "79b9a1cf",
   "metadata": {
    "pycharm": {
     "name": "#%%\n"
    }
   },
   "outputs": [
    {
     "name": "stdout",
     "output_type": "stream",
     "text": [
      "Set x\n"
     ]
    }
   ],
   "source": [
    "a.x = \"a\""
   ]
  },
  {
   "cell_type": "code",
   "execution_count": 1,
   "id": "86268a14",
   "metadata": {
    "pycharm": {
     "name": "#%%\n"
    }
   },
   "outputs": [],
   "source": [
    "from functools import lru_cache"
   ]
  },
  {
   "cell_type": "code",
   "execution_count": 2,
   "id": "3b49fe2c",
   "metadata": {
    "pycharm": {
     "name": "#%%\n"
    }
   },
   "outputs": [],
   "source": [
    "import time\n",
    "\n",
    "@lru_cache\n",
    "def foo(x):\n",
    "    time.sleep(5)\n",
    "    return x\n",
    "    "
   ]
  },
  {
   "cell_type": "code",
   "execution_count": 8,
   "id": "68addf97",
   "metadata": {
    "pycharm": {
     "name": "#%%\n"
    }
   },
   "outputs": [
    {
     "name": "stdout",
     "output_type": "stream",
     "text": [
      "CPU times: user 3 µs, sys: 0 ns, total: 3 µs\n",
      "Wall time: 5.48 µs\n"
     ]
    },
    {
     "data": {
      "text/plain": "1"
     },
     "execution_count": 8,
     "metadata": {},
     "output_type": "execute_result"
    }
   ],
   "source": [
    "%time foo(1)"
   ]
  },
  {
   "cell_type": "code",
   "execution_count": 9,
   "id": "673979ff",
   "metadata": {
    "pycharm": {
     "name": "#%%\n"
    }
   },
   "outputs": [
    {
     "name": "stdout",
     "output_type": "stream",
     "text": [
      "CPU times: user 3 µs, sys: 0 ns, total: 3 µs\n",
      "Wall time: 4.77 µs\n"
     ]
    },
    {
     "data": {
      "text/plain": "1"
     },
     "execution_count": 9,
     "metadata": {},
     "output_type": "execute_result"
    }
   ],
   "source": [
    "%time foo(1)"
   ]
  },
  {
   "cell_type": "markdown",
   "id": "998d1975",
   "metadata": {
    "pycharm": {
     "name": "#%% md\n"
    }
   },
   "source": []
  }
 ],
 "metadata": {
  "kernelspec": {
   "display_name": "Python 3 (ipykernel)",
   "language": "python",
   "name": "python3"
  },
  "language_info": {
   "codemirror_mode": {
    "name": "ipython",
    "version": 3
   },
   "file_extension": ".py",
   "mimetype": "text/x-python",
   "name": "python",
   "nbconvert_exporter": "python",
   "pygments_lexer": "ipython3",
   "version": "3.9.5"
  }
 },
 "nbformat": 4,
 "nbformat_minor": 5
}