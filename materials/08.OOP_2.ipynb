{
 "cells": [
  {
   "cell_type": "markdown",
   "source": [
    "# MRO - method resolution object\n",
    "\n",
    "* [Статья с ASCII картиночками](https://www.python.org/download/releases/2.3/mro/)\n"
   ],
   "metadata": {
    "collapsed": false,
    "pycharm": {
     "name": "#%% md\n"
    }
   }
  },
  {
   "cell_type": "code",
   "execution_count": null,
   "outputs": [],
   "source": [
    "class A:\n",
    "    def execute(self):\n",
    "        pass\n",
    "\n",
    "\n",
    "class B:\n",
    "    def execute(self):\n",
    "        pass\n",
    "\n",
    "class C(A,B):\n",
    "    pass"
   ],
   "metadata": {
    "collapsed": false,
    "pycharm": {
     "name": "#%%\n"
    }
   }
  },
  {
   "cell_type": "markdown",
   "source": [
    "# Super"
   ],
   "metadata": {
    "collapsed": false,
    "pycharm": {
     "name": "#%% md\n"
    }
   }
  },
  {
   "cell_type": "code",
   "execution_count": null,
   "outputs": [],
   "source": [
    "class D(B):\n",
    "    def execute(self):\n",
    "        super(D, self).execute()\n"
   ],
   "metadata": {
    "collapsed": false,
    "pycharm": {
     "name": "#%%\n"
    }
   }
  },
  {
   "cell_type": "code",
   "execution_count": null,
   "outputs": [],
   "source": [
    "class E(B):\n",
    "    def execute(self):\n",
    "        super().execute()"
   ],
   "metadata": {
    "collapsed": false,
    "pycharm": {
     "name": "#%%\n"
    }
   }
  },
  {
   "cell_type": "markdown",
   "source": [
    "# Перегрузка методов"
   ],
   "metadata": {
    "collapsed": false,
    "pycharm": {
     "name": "#%% md\n"
    }
   }
  },
  {
   "cell_type": "code",
   "execution_count": 2,
   "outputs": [
    {
     "name": "stdout",
     "output_type": "stream",
     "text": [
      "100\n",
      "[1, 4, 9]\n"
     ]
    }
   ],
   "source": [
    "from functools import singledispatchmethod\n",
    "\n",
    "class A:\n",
    "\n",
    "    @singledispatchmethod\n",
    "    def sqr(self, a):\n",
    "        pass\n",
    "\n",
    "    @sqr.register\n",
    "    def _(self, a: int):\n",
    "        return a*a\n",
    "\n",
    "    @sqr.register\n",
    "    def _(self, a : list):\n",
    "        return [i*i for i in a]\n",
    "\n",
    "a = A()\n",
    "print(a.sqr(10))\n",
    "print(a.sqr([1,2,3]))"
   ],
   "metadata": {
    "collapsed": false,
    "pycharm": {
     "name": "#%%\n"
    }
   }
  },
  {
   "cell_type": "code",
   "execution_count": 7,
   "outputs": [
    {
     "name": "stdout",
     "output_type": "stream",
     "text": [
      "100\n",
      "[1, 4, 9]\n"
     ]
    }
   ],
   "source": [
    "from typing import overload\n",
    "\n",
    "class A:\n",
    "\n",
    "    @overload\n",
    "    def sqr(self, a : list) -> list:\n",
    "        pass\n",
    "\n",
    "    @overload\n",
    "    def sqr(self, a: int) -> int:\n",
    "        pass\n",
    "\n",
    "    def sqr(self, a):\n",
    "        if isinstance(a, list):\n",
    "            return [i*i for i in a]\n",
    "        else:\n",
    "            return a*a\n",
    "\n",
    "\n",
    "a = A()\n",
    "print(a.sqr(10))\n",
    "print(a.sqr([1,2,3]))"
   ],
   "metadata": {
    "collapsed": false,
    "pycharm": {
     "name": "#%%\n"
    }
   }
  },
  {
   "cell_type": "markdown",
   "source": [
    "# Metaclass"
   ],
   "metadata": {
    "collapsed": false,
    "pycharm": {
     "name": "#%% md\n"
    }
   }
  },
  {
   "cell_type": "code",
   "execution_count": 8,
   "outputs": [
    {
     "name": "stdout",
     "output_type": "stream",
     "text": [
      "1\n"
     ]
    }
   ],
   "source": [
    "class ChildCounter(type):\n",
    "    counter = 0\n",
    "    def __new__(metacls, cls, bases, classdict, **kwds):\n",
    "        ChildCounter.counter += 1\n",
    "        return super().__new__(metacls, cls, bases, classdict, **kwds)\n",
    "\n",
    "class A(metaclass=ChildCounter):\n",
    "    pass\n",
    "\n",
    "print(ChildCounter.counter)"
   ],
   "metadata": {
    "collapsed": false,
    "pycharm": {
     "name": "#%%\n"
    }
   }
  },
  {
   "cell_type": "code",
   "execution_count": 9,
   "outputs": [
    {
     "name": "stdout",
     "output_type": "stream",
     "text": [
      "2\n"
     ]
    }
   ],
   "source": [
    "class B(metaclass=ChildCounter):\n",
    "    pass\n",
    "\n",
    "print(ChildCounter.counter)"
   ],
   "metadata": {
    "collapsed": false,
    "pycharm": {
     "name": "#%%\n"
    }
   }
  },
  {
   "cell_type": "code",
   "execution_count": null,
   "outputs": [],
   "source": [],
   "metadata": {
    "collapsed": false,
    "pycharm": {
     "name": "#%%\n"
    }
   }
  }
 ],
 "metadata": {
  "kernelspec": {
   "display_name": "Python 3",
   "language": "python",
   "name": "python3"
  },
  "language_info": {
   "codemirror_mode": {
    "name": "ipython",
    "version": 2
   },
   "file_extension": ".py",
   "mimetype": "text/x-python",
   "name": "python",
   "nbconvert_exporter": "python",
   "pygments_lexer": "ipython2",
   "version": "2.7.6"
  }
 },
 "nbformat": 4,
 "nbformat_minor": 0
}