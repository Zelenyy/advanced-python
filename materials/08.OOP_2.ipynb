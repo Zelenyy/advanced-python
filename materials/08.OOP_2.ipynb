{
 "cells": [
  {
   "cell_type": "markdown",
   "metadata": {
    "pycharm": {
     "name": "#%% md\n"
    }
   },
   "source": [
    "# MRO - method resolution object\n",
    "\n",
    "* [Статья с ASCII картиночками](https://www.python.org/download/releases/2.3/mro/)\n"
   ]
  },
  {
   "cell_type": "code",
   "execution_count": null,
   "metadata": {
    "pycharm": {
     "name": "#%%\n"
    }
   },
   "outputs": [],
   "source": [
    "class A:\n",
    "    def execute(self):\n",
    "        pass\n",
    "\n",
    "\n",
    "class B:\n",
    "    def execute(self):\n",
    "        pass\n",
    "\n",
    "class C(A,B):\n",
    "    pass"
   ]
  },
  {
   "cell_type": "markdown",
   "metadata": {
    "pycharm": {
     "name": "#%% md\n"
    }
   },
   "source": [
    "# Super"
   ]
  },
  {
   "cell_type": "code",
   "execution_count": null,
   "metadata": {
    "pycharm": {
     "name": "#%%\n"
    }
   },
   "outputs": [],
   "source": [
    "class D(B):\n",
    "    def execute(self):\n",
    "        super(D, self).execute()\n"
   ]
  },
  {
   "cell_type": "code",
   "execution_count": null,
   "metadata": {
    "pycharm": {
     "name": "#%%\n"
    }
   },
   "outputs": [],
   "source": [
    "class E(B):\n",
    "    def execute(self):\n",
    "        super().execute()"
   ]
  },
  {
   "cell_type": "markdown",
   "metadata": {
    "pycharm": {
     "name": "#%% md\n"
    }
   },
   "source": [
    "# Перегрузка методов"
   ]
  },
  {
   "cell_type": "code",
   "execution_count": 2,
   "metadata": {
    "pycharm": {
     "name": "#%%\n"
    }
   },
   "outputs": [
    {
     "name": "stdout",
     "output_type": "stream",
     "text": [
      "100\n",
      "[1, 4, 9]\n"
     ]
    }
   ],
   "source": [
    "from functools import singledispatchmethod\n",
    "\n",
    "class A:\n",
    "\n",
    "    @singledispatchmethod\n",
    "    def sqr(self, a):\n",
    "        pass\n",
    "\n",
    "    @sqr.register\n",
    "    def _(self, a: int):\n",
    "        return a*a\n",
    "\n",
    "    @sqr.register\n",
    "    def _(self, a : list):\n",
    "        return [i*i for i in a]\n",
    "\n",
    "a = A()\n",
    "print(a.sqr(10))\n",
    "print(a.sqr([1,2,3]))"
   ]
  },
  {
   "cell_type": "code",
   "execution_count": 7,
   "metadata": {
    "pycharm": {
     "name": "#%%\n"
    }
   },
   "outputs": [
    {
     "name": "stdout",
     "output_type": "stream",
     "text": [
      "100\n",
      "[1, 4, 9]\n"
     ]
    }
   ],
   "source": [
    "from typing import overload\n",
    "\n",
    "class A:\n",
    "\n",
    "    @overload\n",
    "    def sqr(self, a : list) -> list:\n",
    "        pass\n",
    "\n",
    "    @overload\n",
    "    def sqr(self, a: int) -> int:\n",
    "        pass\n",
    "\n",
    "    def sqr(self, a):\n",
    "        if isinstance(a, list):\n",
    "            return [i*i for i in a]\n",
    "        else:\n",
    "            return a*a\n",
    "\n",
    "\n",
    "a = A()\n",
    "print(a.sqr(10))\n",
    "print(a.sqr([1,2,3]))"
   ]
  },
  {
   "cell_type": "markdown",
   "metadata": {
    "pycharm": {
     "name": "#%% md\n"
    }
   },
   "source": [
    "# Metaclass"
   ]
  },
  {
   "cell_type": "code",
   "execution_count": 8,
   "metadata": {
    "pycharm": {
     "is_executing": true,
     "name": "#%%\n"
    }
   },
   "outputs": [
    {
     "name": "stdout",
     "output_type": "stream",
     "text": [
      "(<class 'type'>, <class 'object'>)\n"
     ]
    },
    {
     "data": {
      "text/plain": [
       "type"
      ]
     },
     "execution_count": 8,
     "metadata": {},
     "output_type": "execute_result"
    }
   ],
   "source": [
    "class A:\n",
    "    pass\n",
    "\n",
    "print(A.__class__.__mro__)\n",
    "type(A)"
   ]
  },
  {
   "cell_type": "code",
   "execution_count": 9,
   "metadata": {},
   "outputs": [
    {
     "name": "stdout",
     "output_type": "stream",
     "text": [
      "<class 'type'>\n"
     ]
    }
   ],
   "source": [
    "class B(A):\n",
    "    pass\n",
    "\n",
    "print(type(B))"
   ]
  },
  {
   "cell_type": "code",
   "execution_count": 10,
   "metadata": {},
   "outputs": [
    {
     "data": {
      "text/plain": [
       "int"
      ]
     },
     "execution_count": 10,
     "metadata": {},
     "output_type": "execute_result"
    }
   ],
   "source": [
    "type(0)"
   ]
  },
  {
   "cell_type": "code",
   "execution_count": 12,
   "metadata": {
    "pycharm": {
     "name": "#%%\n"
    }
   },
   "outputs": [
    {
     "name": "stdout",
     "output_type": "stream",
     "text": [
      "0\n"
     ]
    }
   ],
   "source": [
    "class ChildCounter(type):\n",
    "    counter = 0\n",
    "    \n",
    "    def __new__(metacls, cls, bases, classdict, **kwds):\n",
    "        ChildCounter.counter += 1\n",
    "        return super().__new__(metacls, cls, bases, classdict, **kwds)\n",
    "\n",
    "print(ChildCounter.counter)"
   ]
  },
  {
   "cell_type": "code",
   "execution_count": 13,
   "metadata": {
    "pycharm": {
     "name": "#%%\n"
    }
   },
   "outputs": [
    {
     "name": "stdout",
     "output_type": "stream",
     "text": [
      "1\n"
     ]
    }
   ],
   "source": [
    "class A(metaclass=ChildCounter):\n",
    "    a = 1\n",
    "    pass\n",
    "\n",
    "# print(type(ChildCounter))\n",
    "# print(type(A))\n",
    "print(ChildCounter.counter)"
   ]
  },
  {
   "cell_type": "code",
   "execution_count": 14,
   "metadata": {
    "pycharm": {
     "name": "#%%\n"
    }
   },
   "outputs": [
    {
     "name": "stdout",
     "output_type": "stream",
     "text": [
      "2\n"
     ]
    }
   ],
   "source": [
    "class B(metaclass=ChildCounter):\n",
    "    pass\n",
    "\n",
    "print(ChildCounter.counter)"
   ]
  },
  {
   "cell_type": "code",
   "execution_count": 22,
   "metadata": {
    "pycharm": {
     "name": "#%%\n"
    }
   },
   "outputs": [],
   "source": [
    "class Singleton:\n",
    "    _instance = None\n",
    "    \n",
    "    def __new__(cls, *args, **kwargs):\n",
    "        print(\"__new__\")\n",
    "        if cls._instance is not None:\n",
    "            return cls._instance\n",
    "        obj = super().__new__(cls)\n",
    "        cls._instance = obj\n",
    "        return obj\n",
    "    \n",
    "    def __init__(self):\n",
    "        print(\"init\")\n",
    "    "
   ]
  },
  {
   "cell_type": "code",
   "execution_count": 23,
   "metadata": {},
   "outputs": [
    {
     "name": "stdout",
     "output_type": "stream",
     "text": [
      "__new__\n",
      "init\n"
     ]
    }
   ],
   "source": [
    "s = Singleton()"
   ]
  },
  {
   "cell_type": "code",
   "execution_count": 25,
   "metadata": {},
   "outputs": [
    {
     "name": "stdout",
     "output_type": "stream",
     "text": [
      "__new__\n",
      "init\n",
      "__new__\n",
      "init\n"
     ]
    }
   ],
   "source": [
    "s1 = Singleton()\n",
    "s2 = Singleton()"
   ]
  },
  {
   "cell_type": "code",
   "execution_count": 26,
   "metadata": {},
   "outputs": [
    {
     "data": {
      "text/plain": [
       "True"
      ]
     },
     "execution_count": 26,
     "metadata": {},
     "output_type": "execute_result"
    }
   ],
   "source": [
    "s is s1"
   ]
  },
  {
   "cell_type": "code",
   "execution_count": null,
   "metadata": {},
   "outputs": [],
   "source": []
  }
 ],
 "metadata": {
  "kernelspec": {
   "display_name": "Python 3 (ipykernel)",
   "language": "python",
   "name": "python3"
  },
  "language_info": {
   "codemirror_mode": {
    "name": "ipython",
    "version": 3
   },
   "file_extension": ".py",
   "mimetype": "text/x-python",
   "name": "python",
   "nbconvert_exporter": "python",
   "pygments_lexer": "ipython3",
   "version": "3.10.12"
  }
 },
 "nbformat": 4,
 "nbformat_minor": 1
}