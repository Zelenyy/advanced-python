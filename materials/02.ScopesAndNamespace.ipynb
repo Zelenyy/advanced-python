{
 "cells": [
  {
   "cell_type": "markdown",
   "id": "c21b2cc9-1e15-4793-ab8a-38e7a17606fa",
   "metadata": {
    "pycharm": {
     "name": "#%% md\n"
    }
   },
   "source": [
    "# Пространтсва имен и области видимости"
   ]
  },
  {
   "cell_type": "markdown",
   "id": "ccae5602-8b8b-4261-b035-12633989e0b1",
   "metadata": {
    "pycharm": {
     "name": "#%% md\n"
    }
   },
   "source": [
    "## Возможности Python которые не надо использовать\n",
    "\n",
    "* `global spam` --- указывает что переменая `spam` создается в глобальной области видимости\n",
    "* `nonlocal spam` --- указывает что перменная `spam` берется в замыкающей области видимости"
   ]
  },
  {
   "cell_type": "code",
   "execution_count": 1,
   "id": "81b78e1b-8684-409a-8556-3defa0aa5a98",
   "metadata": {
    "pycharm": {
     "name": "#%%\n"
    }
   },
   "outputs": [
    {
     "name": "stdout",
     "output_type": "stream",
     "text": [
      "After local assignment: test spam\n",
      "After nonlocal assignment: nonlocal spam\n",
      "After global assignment: nonlocal spam\n",
      "In global scope: global spam\n"
     ]
    }
   ],
   "source": [
    "def scope_test():\n",
    "    def do_local():\n",
    "        spam = \"local spam\"\n",
    "\n",
    "    def do_nonlocal():\n",
    "        nonlocal spam\n",
    "        spam = \"nonlocal spam\"\n",
    "\n",
    "    def do_global():\n",
    "        global spam\n",
    "        spam = \"global spam\"\n",
    "\n",
    "    spam = \"test spam\"\n",
    "    do_local()\n",
    "    print(\"After local assignment:\", spam)\n",
    "    do_nonlocal()\n",
    "    print(\"After nonlocal assignment:\", spam)\n",
    "    do_global()\n",
    "    print(\"After global assignment:\", spam)\n",
    "\n",
    "scope_test()\n",
    "print(\"In global scope:\", spam)"
   ]
  },
  {
   "cell_type": "code",
   "execution_count": 2,
   "id": "80e9c3d0-a558-4c15-8813-4b0ab6b739fb",
   "metadata": {
    "pycharm": {
     "name": "#%%\n"
    }
   },
   "outputs": [
    {
     "ename": "SyntaxError",
     "evalue": "no binding for nonlocal 'spam' found (909135207.py, line 2)",
     "output_type": "error",
     "traceback": [
      "\u001B[0;36m  File \u001B[0;32m\"/tmp/ipykernel_3632/909135207.py\"\u001B[0;36m, line \u001B[0;32m2\u001B[0m\n\u001B[0;31m    nonlocal spam\u001B[0m\n\u001B[0m    ^\u001B[0m\n\u001B[0;31mSyntaxError\u001B[0m\u001B[0;31m:\u001B[0m no binding for nonlocal 'spam' found\n"
     ]
    }
   ],
   "source": [
    "def do_nonlocal():\n",
    "    nonlocal spam\n",
    "    spam = \"nonlocal spam\"\n",
    "\n",
    "spam = \"test spam\"\n",
    "do_nonlocal()\n",
    "spam"
   ]
  }
 ],
 "metadata": {
  "kernelspec": {
   "display_name": "Python 3 (ipykernel)",
   "language": "python",
   "name": "python3"
  },
  "language_info": {
   "codemirror_mode": {
    "name": "ipython",
    "version": 3
   },
   "file_extension": ".py",
   "mimetype": "text/x-python",
   "name": "python",
   "nbconvert_exporter": "python",
   "pygments_lexer": "ipython3",
   "version": "3.9.6"
  }
 },
 "nbformat": 4,
 "nbformat_minor": 5
}