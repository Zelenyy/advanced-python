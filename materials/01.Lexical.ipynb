{
 "cells": [
  {
   "cell_type": "markdown",
   "id": "b3ca5ab0-59c5-4563-8189-269cd8299888",
   "metadata": {
    "pycharm": {
     "name": "#%% md\n"
    }
   },
   "source": [
    "# Синтаксиc Python"
   ]
  },
  {
   "cell_type": "markdown",
   "id": "426d7b33-618d-4976-ae43-d73a2d678194",
   "metadata": {
    "pycharm": {
     "name": "#%% md\n"
    }
   },
   "source": [
    "## Symbols"
   ]
  },
  {
   "cell_type": "markdown",
   "id": "e567c94d-5cd7-4062-b05e-1756fdac5f79",
   "metadata": {
    "pycharm": {
     "name": "#%% md\n"
    },
    "tags": []
   },
   "source": [
    "### Заголовок файла"
   ]
  },
  {
   "cell_type": "markdown",
   "id": "b8b278c2-be14-42c2-8892-8ddbeccea233",
   "metadata": {
    "pycharm": {
     "name": "#%% md\n"
    }
   },
   "source": [
    "#### [UNIX “shebang” line](https://docs.python.org/3/tutorial/appendix.html#tut-scripts - запуск как скрипта оболочки:"
   ]
  },
  {
   "cell_type": "code",
   "execution_count": 1,
   "id": "0d44ecc1",
   "metadata": {
    "pycharm": {
     "name": "#%%\n"
    }
   },
   "outputs": [
    {
     "name": "stdout",
     "output_type": "stream",
     "text": [
      "Shell script\r\n"
     ]
    }
   ],
   "source": [
    "!chmod +x example_script.py\n",
    "!./example_script.py"
   ]
  },
  {
   "cell_type": "markdown",
   "id": "8dd2946c",
   "metadata": {
    "pycharm": {
     "name": "#%% md\n"
    }
   },
   "source": [
    "\n",
    "#### Кодировка файла:\n",
    "```\n",
    "# -*- coding: encoding -*-\n",
    "```\n",
    "\n",
    "или\n",
    "\n",
    "```\n",
    "# vim:fileencoding=<encoding-name>\n",
    "```"
   ]
  },
  {
   "cell_type": "markdown",
   "id": "93954be0",
   "metadata": {
    "pycharm": {
     "name": "#%% md\n"
    }
   },
   "source": [
    "### Грамматика Python\n",
    "\n",
    "* Лексический анализатор разбивает код на токены,\n",
    "* Поток токенов преобразуется в AST\n",
    "* AST компилируется в байт-код (ассемблер) для виртуальной машины Python\n",
    "* [Полная грамматика](https://docs.python.org/3/reference/grammar.html)\n",
    "* [Переход на новый парсер](https://peps.python.org/pep-0617/)"
   ]
  },
  {
   "cell_type": "markdown",
   "id": "ab0fef30-c990-4a4a-88b9-fc514ca2df22",
   "metadata": {
    "pycharm": {
     "name": "#%% md\n"
    }
   },
   "source": [
    "### Line structure"
   ]
  },
  {
   "cell_type": "markdown",
   "id": "75ea9bcd-e491-4f45-9736-0223e57d898f",
   "metadata": {
    "pycharm": {
     "name": "#%% md\n"
    }
   },
   "source": [
    "**Physical line** --- заканчиваетется символом окончания строки (`\\n` или `\\r\\n`)\n",
    "\n",
    "**Logical lines** --- заканчиватеся токеном NEW LINE\n",
    "\n"
   ]
  },
  {
   "cell_type": "code",
   "execution_count": 5,
   "id": "d0eccfcf-429b-4b77-8b67-f10cb8789832",
   "metadata": {
    "pycharm": {
     "name": "#%%\n"
    }
   },
   "outputs": [
    {
     "ename": "NameError",
     "evalue": "name 'year' is not defined",
     "output_type": "error",
     "traceback": [
      "\u001b[0;31m---------------------------------------------------------------------------\u001b[0m",
      "\u001b[0;31mNameError\u001b[0m                                 Traceback (most recent call last)",
      "\u001b[0;32m/tmp/ipykernel_23245/3090076752.py\u001b[0m in \u001b[0;36m<module>\u001b[0;34m\u001b[0m\n\u001b[0;32m----> 1\u001b[0;31m \u001b[0;32mif\u001b[0m \u001b[0;36m1900\u001b[0m \u001b[0;34m<\u001b[0m \u001b[0myear\u001b[0m \u001b[0;34m<\u001b[0m \u001b[0;36m2100\u001b[0m \u001b[0;32mand\u001b[0m \u001b[0;36m1\u001b[0m \u001b[0;34m<=\u001b[0m \u001b[0mmonth\u001b[0m \u001b[0;34m<=\u001b[0m \u001b[0;36m12\u001b[0m\u001b[0;31m \u001b[0m\u001b[0;31m\\\u001b[0m\u001b[0;34m\u001b[0m\u001b[0;34m\u001b[0m\u001b[0m\n\u001b[0m\u001b[1;32m      2\u001b[0m    \u001b[0;32mand\u001b[0m \u001b[0;36m1\u001b[0m \u001b[0;34m<=\u001b[0m \u001b[0mday\u001b[0m \u001b[0;34m<=\u001b[0m \u001b[0;36m31\u001b[0m \u001b[0;32mand\u001b[0m \u001b[0;36m0\u001b[0m \u001b[0;34m<=\u001b[0m \u001b[0mhour\u001b[0m \u001b[0;34m<\u001b[0m \u001b[0;36m24\u001b[0m\u001b[0;31m \u001b[0m\u001b[0;31m\\\u001b[0m\u001b[0;34m\u001b[0m\u001b[0;34m\u001b[0m\u001b[0m\n\u001b[1;32m      3\u001b[0m    \u001b[0;32mand\u001b[0m \u001b[0;36m0\u001b[0m \u001b[0;34m<=\u001b[0m \u001b[0mminute\u001b[0m \u001b[0;34m<\u001b[0m \u001b[0;36m60\u001b[0m \u001b[0;32mand\u001b[0m \u001b[0;36m0\u001b[0m \u001b[0;34m<=\u001b[0m \u001b[0msecond\u001b[0m \u001b[0;34m<\u001b[0m \u001b[0;36m60\u001b[0m\u001b[0;34m:\u001b[0m   \u001b[0;31m# Looks like a valid date\u001b[0m\u001b[0;34m\u001b[0m\u001b[0;34m\u001b[0m\u001b[0m\n\u001b[1;32m      4\u001b[0m         \u001b[0;32mpass\u001b[0m\u001b[0;34m\u001b[0m\u001b[0;34m\u001b[0m\u001b[0m\n",
      "\u001b[0;31mNameError\u001b[0m: name 'year' is not defined"
     ]
    }
   ],
   "source": [
    "if 1900 < year < 2100 and 1 <= month <= 12 \\\n",
    "   and 1 <= day <= 31 and 0 <= hour < 24 \\\n",
    "   and 0 <= minute < 60 and 0 <= second < 60:   # Looks like a valid date\n",
    "        pass"
   ]
  },
  {
   "cell_type": "code",
   "execution_count": null,
   "id": "283863df-b5ae-4848-b3a0-51b12f8e29ae",
   "metadata": {
    "pycharm": {
     "name": "#%%\n"
    }
   },
   "outputs": [],
   "source": [
    "month_names = ['Januari', 'Februari', 'Maart',      # These are the\n",
    "               'April',   'Mei',      'Juni',       # Dutch names\n",
    "               'Juli',    'Augustus', 'September',  # for the months\n",
    "               'Oktober', 'November', 'December']   # of the year"
   ]
  },
  {
   "cell_type": "markdown",
   "id": "278cd4bc-d2aa-4dc7-8d9f-5ead3f83b177",
   "metadata": {
    "pycharm": {
     "name": "#%% md\n"
    }
   },
   "source": [
    "### Indent"
   ]
  },
  {
   "cell_type": "code",
   "execution_count": 2,
   "id": "314cac35-d4e3-4e71-9cca-b9e266cb5eb3",
   "metadata": {
    "pycharm": {
     "name": "#%%\n"
    }
   },
   "outputs": [],
   "source": [
    "def perm(l):\n",
    "        # Compute the list of all permutations of l\n",
    "    if len(l) <= 1:\n",
    "                  return [l]\n",
    "    r = []\n",
    "    for i in range(len(l)):\n",
    "             s = l[:i] + l[i+1:]\n",
    "             p = perm(s)\n",
    "             for x in p:\n",
    "              r.append(l[i:i+1] + x)\n",
    "    return r"
   ]
  },
  {
   "cell_type": "code",
   "execution_count": 4,
   "id": "bde36dfe-ea44-4467-9790-e445616574d1",
   "metadata": {
    "pycharm": {
     "name": "#%%\n"
    }
   },
   "outputs": [
    {
     "ename": "IndentationError",
     "evalue": "unindent does not match any outer indentation level (<tokenize>, line 7)",
     "output_type": "error",
     "traceback": [
      "\u001b[0;36m  File \u001b[0;32m\"<tokenize>\"\u001b[0;36m, line \u001b[0;32m7\u001b[0m\n\u001b[0;31m    return r                # error: inconsistent dedent\u001b[0m\n\u001b[0m    ^\u001b[0m\n\u001b[0;31mIndentationError\u001b[0m\u001b[0;31m:\u001b[0m unindent does not match any outer indentation level\n"
     ]
    }
   ],
   "source": [
    " def perm(l):                       # error: first line indented\n",
    "for i in range(len(l)):             # error: not indented\n",
    "    s = l[:i] + l[i+1:]\n",
    "        p = perm(l[:i] + l[i+1:])   # error: unexpected indent\n",
    "        for x in p:\n",
    "                r.append(l[i:i+1] + x)\n",
    "            return r                # error: inconsistent dedent"
   ]
  },
  {
   "cell_type": "code",
   "execution_count": 8,
   "id": "5ec3f7d2-785d-4c52-acb7-45e2b9cbbd97",
   "metadata": {
    "pycharm": {
     "name": "#%%\n"
    }
   },
   "outputs": [
    {
     "name": "stdout",
     "output_type": "stream",
     "text": [
      "1\n"
     ]
    }
   ],
   "source": [
    "if True: print(1)"
   ]
  },
  {
   "cell_type": "code",
   "execution_count": 1,
   "id": "b042817d-7cab-4158-ae9e-0365c9b2dd0e",
   "metadata": {
    "pycharm": {
     "name": "#%%\n"
    }
   },
   "outputs": [
    {
     "ename": "SyntaxError",
     "evalue": "invalid syntax (623727633.py, line 1)",
     "output_type": "error",
     "traceback": [
      "\u001b[0;36m  File \u001b[0;32m\"/tmp/ipykernel_7268/623727633.py\"\u001b[0;36m, line \u001b[0;32m1\u001b[0m\n\u001b[0;31m    if True: if True: print(1)\u001b[0m\n\u001b[0m             ^\u001b[0m\n\u001b[0;31mSyntaxError\u001b[0m\u001b[0;31m:\u001b[0m invalid syntax\n"
     ]
    }
   ],
   "source": [
    "if True: if True: print(1)"
   ]
  },
  {
   "cell_type": "code",
   "execution_count": 21,
   "id": "7eb7c1b8-82e2-4b39-bd15-4b17528a9222",
   "metadata": {
    "pycharm": {
     "name": "#%%\n"
    }
   },
   "outputs": [
    {
     "data": {
      "text/plain": [
       "[6, 7, 8, 9]"
      ]
     },
     "execution_count": 21,
     "metadata": {},
     "output_type": "execute_result"
    }
   ],
   "source": [
    "[i  for i in range(10) if i>5]"
   ]
  },
  {
   "cell_type": "code",
   "execution_count": 6,
   "id": "7ab9ccb7-7ce4-4d70-97e7-ee919d173e44",
   "metadata": {
    "pycharm": {
     "name": "#%%\n"
    }
   },
   "outputs": [
    {
     "data": {
      "text/plain": [
       "10"
      ]
     },
     "execution_count": 6,
     "metadata": {},
     "output_type": "execute_result"
    }
   ],
   "source": [
    "10"
   ]
  },
  {
   "cell_type": "code",
   "execution_count": 7,
   "id": "b728da21-1856-4e90-a5c9-2c20059eec56",
   "metadata": {
    "pycharm": {
     "name": "#%%\n"
    }
   },
   "outputs": [
    {
     "data": {
      "text/plain": [
       "10"
      ]
     },
     "execution_count": 7,
     "metadata": {},
     "output_type": "execute_result"
    }
   ],
   "source": [
    "_"
   ]
  },
  {
   "cell_type": "markdown",
   "id": "75b312c8-a2f6-4b77-833e-5e9a7dc9d5dd",
   "metadata": {
    "pycharm": {
     "name": "#%% md\n"
    }
   },
   "source": [
    "### _"
   ]
  },
  {
   "cell_type": "markdown",
   "id": "8feb4d71-9e60-4a03-a81a-27be05391f91",
   "metadata": {
    "pycharm": {
     "name": "#%% md\n"
    }
   },
   "source": [
    "* `_*`\n",
    "* `__*__\n",
    "* `__*`"
   ]
  },
  {
   "cell_type": "markdown",
   "id": "f0bfd645-603a-4b2e-813b-1e7a847f3da3",
   "metadata": {
    "pycharm": {
     "name": "#%% md\n"
    }
   },
   "source": [
    "### Literals\n"
   ]
  },
  {
   "cell_type": "code",
   "execution_count": 10,
   "id": "7616a433-c1a4-4fb5-84c7-bdff8d06dd72",
   "metadata": {
    "pycharm": {
     "name": "#%%\n"
    }
   },
   "outputs": [
    {
     "name": "stdout",
     "output_type": "stream",
     "text": [
      "\\n\n"
     ]
    }
   ],
   "source": [
    "print(\"\\\\n\")"
   ]
  },
  {
   "cell_type": "code",
   "execution_count": 11,
   "id": "b1a0069b",
   "metadata": {},
   "outputs": [
    {
     "name": "stdout",
     "output_type": "stream",
     "text": [
      "b'\\n'\n"
     ]
    }
   ],
   "source": [
    "print(b\"\\n\")"
   ]
  },
  {
   "cell_type": "markdown",
   "id": "782cfd92-ff96-4ed6-86b4-afb78c3fde61",
   "metadata": {
    "pycharm": {
     "name": "#%% md\n"
    }
   },
   "source": [
    "[literals](https://docs.python.org/3/reference/lexical_analysis.html#literals)"
   ]
  },
  {
   "cell_type": "markdown",
   "id": "40f4e359-5480-4921-90a4-5ec8eaa67f9a",
   "metadata": {
    "pycharm": {
     "name": "#%% md\n"
    }
   },
   "source": [
    "### Opertors"
   ]
  },
  {
   "cell_type": "markdown",
   "id": "db8957bb-2d5b-45d9-9bef-31fb85f3abbd",
   "metadata": {
    "pycharm": {
     "name": "#%% md\n"
    }
   },
   "source": [
    "<pre><span></span>+       -       *       **      /       //      %      @\n",
    "&lt;&lt;      &gt;&gt;      &amp;       |       ^       ~       :=\n",
    "&lt;       &gt;       &lt;=      &gt;=      ==      !=\n",
    "</pre>"
   ]
  },
  {
   "cell_type": "markdown",
   "id": "4a18f527-a1c9-473e-b23a-821dfa450065",
   "metadata": {
    "pycharm": {
     "name": "#%% md\n"
    }
   },
   "source": [
    "### Delimeters"
   ]
  },
  {
   "cell_type": "markdown",
   "id": "98a43277-6d64-4529-a378-3af527138e4b",
   "metadata": {
    "pycharm": {
     "name": "#%% md\n"
    }
   },
   "source": [
    "<pre><span></span>(       )       [       ]       {       }\n",
    ",       :       .       ;       @       =       -&gt;\n",
    "+=      -=      *=      /=      //=     %=      @=\n",
    "&amp;=      |=      ^=      &gt;&gt;=     &lt;&lt;=     **=\n",
    "</pre>"
   ]
  },
  {
   "cell_type": "code",
   "execution_count": 12,
   "id": "92f89fc9-cf9b-4920-a1d4-04a126e6f66e",
   "metadata": {
    "pycharm": {
     "name": "#%%\n"
    }
   },
   "outputs": [],
   "source": [
    "import dis"
   ]
  },
  {
   "cell_type": "code",
   "execution_count": 13,
   "id": "481dfca5-e625-424e-9e1d-c2d7d456cccf",
   "metadata": {
    "pycharm": {
     "name": "#%%\n"
    }
   },
   "outputs": [
    {
     "name": "stdout",
     "output_type": "stream",
     "text": [
      "  1           0 LOAD_CONST               0 (1)\n",
      "              2 STORE_NAME               0 (a)\n",
      "              4 LOAD_NAME                0 (a)\n",
      "              6 LOAD_CONST               0 (1)\n",
      "              8 INPLACE_ADD\n",
      "             10 STORE_NAME               0 (a)\n",
      "             12 LOAD_CONST               1 (None)\n",
      "             14 RETURN_VALUE\n"
     ]
    }
   ],
   "source": [
    "dis.dis(\"a=1;a+=1;\")"
   ]
  },
  {
   "cell_type": "code",
   "execution_count": 14,
   "id": "1384d275-350b-4353-b8b3-9e8151f7d12b",
   "metadata": {
    "pycharm": {
     "name": "#%%\n"
    }
   },
   "outputs": [
    {
     "name": "stdout",
     "output_type": "stream",
     "text": [
      "  1           0 LOAD_CONST               0 (1)\n",
      "              2 STORE_NAME               0 (a)\n",
      "              4 LOAD_NAME                0 (a)\n",
      "              6 LOAD_CONST               0 (1)\n",
      "              8 BINARY_ADD\n",
      "             10 STORE_NAME               0 (a)\n",
      "             12 LOAD_CONST               1 (None)\n",
      "             14 RETURN_VALUE\n"
     ]
    }
   ],
   "source": [
    "dis.dis(\"a=1;a = a + 1;\")"
   ]
  },
  {
   "cell_type": "markdown",
   "id": "be4c413f-582a-4ee0-978e-06a88d9330eb",
   "metadata": {
    "pycharm": {
     "name": "#%% md\n"
    }
   },
   "source": [
    "<pre><span></span>'       \"       #       \\\n",
    "</pre>"
   ]
  },
  {
   "cell_type": "markdown",
   "id": "63204e5f-c37c-4ba2-9c10-61fc3c6b3189",
   "metadata": {
    "pycharm": {
     "name": "#%% md\n"
    }
   },
   "source": [
    "### Unused symbols\n",
    "\n",
    "<pre><span></span>$       ?       `\n",
    "</pre>"
   ]
  },
  {
   "cell_type": "markdown",
   "id": "f360a67b-88d8-4882-bcb7-a25784b962ce",
   "metadata": {
    "pycharm": {
     "name": "#%% md\n"
    }
   },
   "source": [
    "## Expressions and statemens"
   ]
  },
  {
   "cell_type": "markdown",
   "id": "bc11a8df-dba3-4cae-a7af-03bd3d6fe1f7",
   "metadata": {
    "pycharm": {
     "name": "#%% md\n"
    }
   },
   "source": [
    "* [**Expressions**](https://docs.python.org/3/reference/expressions.html) \n",
    "* [**Simple statmenet**](https://docs.python.org/3/reference/simple_stmts.html) - помещаются в одну логическую строку, могут идти через `;`\n",
    "* [**Compaund statmenet**](https://docs.python.org/3/reference/compound_stmts.html) - содержит несколько **simple statement**"
   ]
  },
  {
   "cell_type": "code",
   "execution_count": 17,
   "id": "a7ceb104-51d4-436d-a630-794c5b7e99d6",
   "metadata": {
    "pycharm": {
     "name": "#%%\n"
    }
   },
   "outputs": [
    {
     "name": "stdout",
     "output_type": "stream",
     "text": [
      "1\n",
      "2\n",
      "2\n"
     ]
    }
   ],
   "source": [
    "if True: print(1)\n",
    "    \n",
    "if True: print(2); print(2)"
   ]
  },
  {
   "cell_type": "code",
   "execution_count": 16,
   "id": "f3191b90-f6f4-484d-8582-12e22d59bf57",
   "metadata": {
    "pycharm": {
     "name": "#%%\n"
    }
   },
   "outputs": [],
   "source": [
    "for i in range(30):\n",
    "    if i>20:\n",
    "        break\n",
    "else:\n",
    "    print(i)"
   ]
  },
  {
   "cell_type": "code",
   "execution_count": null,
   "id": "339c4513-c1bb-46e3-8136-57131e0f01bd",
   "metadata": {
    "pycharm": {
     "name": "#%%\n"
    }
   },
   "outputs": [],
   "source": []
  }
 ],
 "metadata": {
  "kernelspec": {
   "display_name": "Python 3 (ipykernel)",
   "language": "python",
   "name": "python3"
  },
  "language_info": {
   "codemirror_mode": {
    "name": "ipython",
    "version": 3
   },
   "file_extension": ".py",
   "mimetype": "text/x-python",
   "name": "python",
   "nbconvert_exporter": "python",
   "pygments_lexer": "ipython3",
   "version": "3.10.4"
  }
 },
 "nbformat": 4,
 "nbformat_minor": 5
}
