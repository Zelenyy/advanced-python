{
 "cells": [
  {
   "cell_type": "markdown",
   "id": "63dc735e-fe25-4179-941e-596a62bdade8",
   "metadata": {
    "pycharm": {
     "name": "#%% md\n"
    }
   },
   "source": [
    "# Порядок загрузки модулей и порядок исполнения программы"
   ]
  },
  {
   "cell_type": "code",
   "execution_count": 1,
   "id": "30725c4d-1c50-4673-8d25-a3e304fc862a",
   "metadata": {
    "pycharm": {
     "name": "#%%\n"
    }
   },
   "outputs": [
    {
     "name": "stdout",
     "output_type": "stream",
     "text": [
      "loading\n"
     ]
    }
   ],
   "source": [
    "import loading\n"
   ]
  },
  {
   "cell_type": "code",
   "execution_count": 1,
   "outputs": [
    {
     "name": "stdout",
     "output_type": "stream",
     "text": [
      "loading\n",
      "two\n"
     ]
    }
   ],
   "source": [
    "from loading import two"
   ],
   "metadata": {
    "collapsed": false,
    "pycharm": {
     "name": "#%%\n"
    }
   }
  },
  {
   "cell_type": "code",
   "execution_count": 2,
   "outputs": [
    {
     "name": "stdout",
     "output_type": "stream",
     "text": [
      "one\n",
      "bar\n"
     ]
    }
   ],
   "source": [
    "import loading.one.bar"
   ],
   "metadata": {
    "collapsed": false,
    "pycharm": {
     "name": "#%%\n"
    }
   }
  },
  {
   "cell_type": "markdown",
   "source": [
    "## Перезагрузка модуля"
   ],
   "metadata": {
    "collapsed": false,
    "pycharm": {
     "name": "#%% md\n"
    }
   }
  },
  {
   "cell_type": "code",
   "execution_count": 3,
   "outputs": [],
   "source": [
    "import importlib"
   ],
   "metadata": {
    "collapsed": false,
    "pycharm": {
     "name": "#%%\n"
    }
   }
  },
  {
   "cell_type": "code",
   "execution_count": 4,
   "outputs": [
    {
     "name": "stdout",
     "output_type": "stream",
     "text": [
      "two\n"
     ]
    },
    {
     "data": {
      "text/plain": "<module 'loading.two' from '/home/zelenyy/npm/sciprog-python/files/general_overview/loading/two/__init__.py'>"
     },
     "execution_count": 4,
     "metadata": {},
     "output_type": "execute_result"
    }
   ],
   "source": [
    "importlib.reload(two)"
   ],
   "metadata": {
    "collapsed": false,
    "pycharm": {
     "name": "#%%\n"
    }
   }
  },
  {
   "cell_type": "code",
   "execution_count": 5,
   "outputs": [
    {
     "name": "stdout",
     "output_type": "stream",
     "text": [
      "loading\n"
     ]
    },
    {
     "data": {
      "text/plain": "<module 'loading' from '/home/zelenyy/npm/sciprog-python/files/general_overview/loading/__init__.py'>"
     },
     "execution_count": 5,
     "metadata": {},
     "output_type": "execute_result"
    }
   ],
   "source": [
    "importlib.reload(loading)"
   ],
   "metadata": {
    "collapsed": false,
    "pycharm": {
     "name": "#%%\n"
    }
   }
  },
  {
   "cell_type": "code",
   "execution_count": 6,
   "outputs": [
    {
     "name": "stdout",
     "output_type": "stream",
     "text": [
      "bar\n"
     ]
    },
    {
     "data": {
      "text/plain": "<module 'loading.one.bar' from '/home/zelenyy/npm/sciprog-python/files/general_overview/loading/one/bar/__init__.py'>"
     },
     "execution_count": 6,
     "metadata": {},
     "output_type": "execute_result"
    }
   ],
   "source": [
    "importlib.reload(loading.one.bar)"
   ],
   "metadata": {
    "collapsed": false,
    "pycharm": {
     "name": "#%%\n"
    }
   }
  },
  {
   "cell_type": "code",
   "execution_count": 7,
   "outputs": [],
   "source": [
    "import sys"
   ],
   "metadata": {
    "collapsed": false,
    "pycharm": {
     "name": "#%%\n"
    }
   }
  },
  {
   "cell_type": "code",
   "execution_count": 8,
   "outputs": [
    {
     "data": {
      "text/plain": "['/home/zelenyy/npm/sciprog-python/files/general_overview',\n '/home/zelenyy/npm/sciprog-python',\n '/home/zelenyy/miniconda3/envs/sciprog/lib/python39.zip',\n '/home/zelenyy/miniconda3/envs/sciprog/lib/python3.9',\n '/home/zelenyy/miniconda3/envs/sciprog/lib/python3.9/lib-dynload',\n '',\n '/home/zelenyy/miniconda3/envs/sciprog/lib/python3.9/site-packages',\n '/home/zelenyy/miniconda3/envs/sciprog/lib/python3.9/site-packages/IPython/extensions',\n '/home/zelenyy/.ipython',\n '/home/zelenyy/.local/share/JetBrains/Toolbox/apps/PyCharm-P/ch-0/212.5080.64/plugins/python/helpers/pydev',\n '/home/zelenyy/.local/share/JetBrains/Toolbox/apps/PyCharm-P/ch-0/212.5080.64/plugins/python/helpers-pro/jupyter_debug']"
     },
     "execution_count": 8,
     "metadata": {},
     "output_type": "execute_result"
    }
   ],
   "source": [
    "sys.path"
   ],
   "metadata": {
    "collapsed": false,
    "pycharm": {
     "name": "#%%\n"
    }
   }
  },
  {
   "cell_type": "code",
   "execution_count": null,
   "outputs": [],
   "source": [],
   "metadata": {
    "collapsed": false,
    "pycharm": {
     "name": "#%%\n"
    }
   }
  }
 ],
 "metadata": {
  "kernelspec": {
   "display_name": "Python 3 (ipykernel)",
   "language": "python",
   "name": "python3"
  },
  "language_info": {
   "codemirror_mode": {
    "name": "ipython",
    "version": 3
   },
   "file_extension": ".py",
   "mimetype": "text/x-python",
   "name": "python",
   "nbconvert_exporter": "python",
   "pygments_lexer": "ipython3",
   "version": "3.9.6"
  }
 },
 "nbformat": 4,
 "nbformat_minor": 5
}