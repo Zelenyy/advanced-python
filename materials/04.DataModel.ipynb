{
 "cells": [
  {
   "cell_type": "markdown",
   "id": "917bfefc-582c-41b4-b3b2-df29da3c7200",
   "metadata": {
    "pycharm": {
     "name": "#%% md\n"
    }
   },
   "source": [
    "# Всё в Python является объектом"
   ]
  },
  {
   "cell_type": "code",
   "execution_count": 1,
   "outputs": [
    {
     "name": "stdout",
     "output_type": "stream",
     "text": [
      "True\n",
      "True\n",
      "True\n"
     ]
    }
   ],
   "source": [
    "print(isinstance(\"add\", object))\n",
    "print(isinstance(1_000, object))\n",
    "print(isinstance(3.14, object))"
   ],
   "metadata": {
    "collapsed": false,
    "pycharm": {
     "name": "#%%\n"
    }
   }
  },
  {
   "cell_type": "code",
   "execution_count": 4,
   "id": "b7025d1e-79cf-4ba7-a49d-7c1bf2fe063e",
   "metadata": {
    "pycharm": {
     "name": "#%%\n"
    }
   },
   "outputs": [],
   "source": [
    "class Vector2D:\n",
    "    x = 0\n",
    "    y = 0\n",
    "    \n",
    "    def norm(self):\n",
    "        return (self.x**2 + self.y**2)**0.5\n",
    "\n",
    "vec = Vector2D()"
   ]
  },
  {
   "cell_type": "code",
   "execution_count": 4,
   "id": "3371dfc5-234d-481c-8404-f1fd0fd68bb3",
   "metadata": {
    "pycharm": {
     "name": "#%%\n"
    }
   },
   "outputs": [
    {
     "data": {
      "text/plain": [
       "True"
      ]
     },
     "execution_count": 4,
     "metadata": {},
     "output_type": "execute_result"
    }
   ],
   "source": [
    "isinstance(vec, object)"
   ]
  },
  {
   "cell_type": "code",
   "execution_count": 5,
   "id": "88ccb376-5fbb-47ed-84b5-4773f26d3490",
   "metadata": {
    "pycharm": {
     "name": "#%%\n"
    }
   },
   "outputs": [
    {
     "data": {
      "text/plain": [
       "True"
      ]
     },
     "execution_count": 5,
     "metadata": {},
     "output_type": "execute_result"
    }
   ],
   "source": [
    "isinstance(Vector2D, object)"
   ]
  },
  {
   "cell_type": "code",
   "execution_count": null,
   "outputs": [],
   "source": [
    "isinstance(object, object)"
   ],
   "metadata": {
    "collapsed": false,
    "pycharm": {
     "name": "#%%\n"
    }
   }
  },
  {
   "cell_type": "code",
   "execution_count": 6,
   "id": "d4e0bb29-320c-4206-8fc3-4345eda4f73f",
   "metadata": {
    "pycharm": {
     "name": "#%%\n"
    }
   },
   "outputs": [],
   "source": [
    "import math\n",
    "isinstance(math, object)"
   ]
  },
  {
   "cell_type": "code",
   "execution_count": 8,
   "id": "374f4bc2-7bb6-441d-96aa-392445856565",
   "metadata": {
    "pycharm": {
     "name": "#%%\n"
    }
   },
   "outputs": [],
   "source": [
    "def add(a,b): return a + b\n",
    "isinstance(add, object)"
   ]
  },
  {
   "cell_type": "code",
   "execution_count": 9,
   "id": "0b0b8d31-917e-4fb0-8d41-3e49cc381494",
   "metadata": {
    "pycharm": {
     "name": "#%%\n"
    }
   },
   "outputs": [
    {
     "data": {
      "text/plain": [
       "True"
      ]
     },
     "execution_count": 9,
     "metadata": {},
     "output_type": "execute_result"
    }
   ],
   "source": []
  },
  {
   "cell_type": "markdown",
   "source": [
    "# Магические методы"
   ],
   "metadata": {
    "collapsed": false,
    "pycharm": {
     "name": "#%% md\n"
    }
   }
  },
  {
   "cell_type": "code",
   "execution_count": 11,
   "id": "f0cac210-b14c-4940-811f-2f7b982014f5",
   "metadata": {
    "pycharm": {
     "name": "#%%\n"
    }
   },
   "outputs": [
    {
     "data": {
      "text/plain": [
       "['__class__',\n",
       " '__delattr__',\n",
       " '__dict__',\n",
       " '__dir__',\n",
       " '__doc__',\n",
       " '__eq__',\n",
       " '__format__',\n",
       " '__ge__',\n",
       " '__getattribute__',\n",
       " '__gt__',\n",
       " '__hash__',\n",
       " '__init__',\n",
       " '__init_subclass__',\n",
       " '__le__',\n",
       " '__lt__',\n",
       " '__module__',\n",
       " '__ne__',\n",
       " '__new__',\n",
       " '__reduce__',\n",
       " '__reduce_ex__',\n",
       " '__repr__',\n",
       " '__setattr__',\n",
       " '__sizeof__',\n",
       " '__str__',\n",
       " '__subclasshook__',\n",
       " '__weakref__',\n",
       " 'norm',\n",
       " 'x',\n",
       " 'y']"
      ]
     },
     "execution_count": 11,
     "metadata": {},
     "output_type": "execute_result"
    }
   ],
   "source": [
    "dir(vec)"
   ]
  },
  {
   "cell_type": "code",
   "execution_count": 18,
   "id": "1b5597dc-484a-43d3-b37a-cd30908d495d",
   "metadata": {
    "pycharm": {
     "name": "#%%\n"
    }
   },
   "outputs": [
    {
     "data": {
      "text/plain": [
       "['__annotations__',\n",
       " '__call__',\n",
       " '__class__',\n",
       " '__closure__',\n",
       " '__code__',\n",
       " '__defaults__',\n",
       " '__delattr__',\n",
       " '__dict__',\n",
       " '__dir__',\n",
       " '__doc__',\n",
       " '__eq__',\n",
       " '__format__',\n",
       " '__ge__',\n",
       " '__get__',\n",
       " '__getattribute__',\n",
       " '__globals__',\n",
       " '__gt__',\n",
       " '__hash__',\n",
       " '__init__',\n",
       " '__init_subclass__',\n",
       " '__kwdefaults__',\n",
       " '__le__',\n",
       " '__lt__',\n",
       " '__module__',\n",
       " '__name__',\n",
       " '__ne__',\n",
       " '__new__',\n",
       " '__qualname__',\n",
       " '__reduce__',\n",
       " '__reduce_ex__',\n",
       " '__repr__',\n",
       " '__setattr__',\n",
       " '__sizeof__',\n",
       " '__str__',\n",
       " '__subclasshook__']"
      ]
     },
     "execution_count": 18,
     "metadata": {},
     "output_type": "execute_result"
    }
   ],
   "source": [
    "dir(add)"
   ]
  },
  {
   "cell_type": "markdown",
   "source": [
    "* Управляют внутренней работой объектов\n",
    "* Хранят различную информацию объектов (которую можно получать в runtime)\n",
    "* Вызываются при использовании синтаксических конструкций\n",
    "* Вызываются встроенными (builtins) функциями\n",
    "* Область применения: перегрузка операторов, рефлексия и метапрограммирование"
   ],
   "metadata": {
    "collapsed": false,
    "pycharm": {
     "name": "#%% md\n"
    }
   }
  },
  {
   "cell_type": "code",
   "execution_count": 2,
   "outputs": [
    {
     "data": {
      "text/plain": "10"
     },
     "execution_count": 2,
     "metadata": {},
     "output_type": "execute_result"
    }
   ],
   "source": [
    "class TenItemList:\n",
    "\n",
    "    def __len__(self):\n",
    "        return 10\n",
    "\n",
    "\n",
    "ten_item_list = TenItemList()\n",
    "len(ten_item_list)"
   ],
   "metadata": {
    "collapsed": false,
    "pycharm": {
     "name": "#%%\n"
    }
   }
  },
  {
   "cell_type": "markdown",
   "source": [
    "# Всё в Python является объектом, а все синтаксические конструкции сводятся к вызовам магических методов"
   ],
   "metadata": {
    "collapsed": false,
    "pycharm": {
     "name": "#%% md\n"
    }
   }
  },
  {
   "cell_type": "markdown",
   "source": [
    "# Пример сложение\n"
   ],
   "metadata": {
    "collapsed": false,
    "pycharm": {
     "name": "#%% md\n"
    }
   }
  },
  {
   "cell_type": "code",
   "execution_count": null,
   "outputs": [],
   "source": [
    "class Vector2D:\n",
    "\n",
    "    def __init__(self, x, y):\n",
    "        self.x = x\n",
    "        self.y = y\n",
    "\n",
    "    def __add__(self, other):\n",
    "        return Vector2D(self.x + other.y, self.x + other.y)\n",
    "\n",
    "    def norm(self):\n",
    "        return (self.x**2 + self.y**2)**0.5\n",
    "\n",
    "vec1 = Vector2D(1,2)\n",
    "vec2 = Vector2D(3,4)\n",
    "vec3 = vec1 + vec2\n",
    "vec3.x, vec3.y"
   ],
   "metadata": {
    "collapsed": false,
    "pycharm": {
     "name": "#%%\n"
    }
   }
  },
  {
   "cell_type": "markdown",
   "source": [
    "## Пример присваивание"
   ],
   "metadata": {
    "collapsed": false,
    "pycharm": {
     "name": "#%% md\n"
    }
   }
  },
  {
   "cell_type": "code",
   "execution_count": null,
   "outputs": [],
   "source": [
    "vec = Vector2D()\n",
    "vec.__getattribute__(\"x\")"
   ],
   "metadata": {
    "collapsed": false,
    "pycharm": {
     "name": "#%%\n"
    }
   }
  },
  {
   "cell_type": "code",
   "execution_count": null,
   "outputs": [],
   "source": [
    "vec.x = 5\n",
    "vec.__getattribute__(\"x\")"
   ],
   "metadata": {
    "collapsed": false,
    "pycharm": {
     "name": "#%%\n"
    }
   }
  },
  {
   "cell_type": "code",
   "execution_count": null,
   "outputs": [],
   "source": [
    "vec.__setattr__(\"x\", 10)\n",
    "getattr(vec, \"x\")"
   ],
   "metadata": {
    "collapsed": false,
    "pycharm": {
     "name": "#%%\n"
    }
   }
  },
  {
   "cell_type": "code",
   "execution_count": null,
   "outputs": [],
   "source": [
    "setattr(vec, \"x\", 20)\n",
    "vec.x"
   ],
   "metadata": {
    "collapsed": false,
    "pycharm": {
     "name": "#%%\n"
    }
   }
  },
  {
   "cell_type": "code",
   "execution_count": null,
   "outputs": [],
   "source": [
    "class Foo:\n",
    "    def __setattr__(self, key, value):\n",
    "        print(key, value)\n",
    "\n",
    "foo = Foo()\n",
    "foo.a = \"A\""
   ],
   "metadata": {
    "collapsed": false,
    "pycharm": {
     "name": "#%%\n"
    }
   }
  },
  {
   "cell_type": "code",
   "execution_count": null,
   "outputs": [],
   "source": [
    "foo.a"
   ],
   "metadata": {
    "collapsed": false,
    "pycharm": {
     "name": "#%%\n"
    }
   }
  },
  {
   "cell_type": "markdown",
   "source": [],
   "metadata": {
    "collapsed": false,
    "pycharm": {
     "name": "#%% md\n"
    }
   }
  },
  {
   "cell_type": "markdown",
   "source": [
    "# На самом деле все объекты реализованы как словари хранящие атрибуты объекта (однако есть возможности для оптимизаций)"
   ],
   "metadata": {
    "collapsed": false,
    "pycharm": {
     "name": "#%% md\n"
    }
   }
  },
  {
   "cell_type": "code",
   "execution_count": null,
   "outputs": [],
   "source": [
    "class Vector2D:\n",
    "    x = 0\n",
    "    y = 0\n",
    "\n",
    "    def norm(self):\n",
    "        return (self.x**2 + self.y**2)**0.5\n",
    "\n",
    "vec = Vector2D()"
   ],
   "metadata": {
    "collapsed": false,
    "pycharm": {
     "name": "#%%\n"
    }
   }
  },
  {
   "cell_type": "code",
   "execution_count": null,
   "outputs": [],
   "source": [
    "vec.__dict__"
   ],
   "metadata": {
    "collapsed": false,
    "pycharm": {
     "name": "#%%\n"
    }
   }
  },
  {
   "cell_type": "code",
   "execution_count": null,
   "outputs": [],
   "source": [
    "Vector2D.__dict__"
   ],
   "metadata": {
    "collapsed": false,
    "pycharm": {
     "name": "#%%\n"
    }
   }
  },
  {
   "cell_type": "code",
   "execution_count": null,
   "outputs": [],
   "source": [
    "vec.x = 5\n",
    "vec.__dict__"
   ],
   "metadata": {
    "collapsed": false,
    "pycharm": {
     "name": "#%%\n"
    }
   }
  },
  {
   "cell_type": "markdown",
   "source": [
    "# Модуль inspect --- информация об объектах в runtime\n",
    "\n",
    "* Не вся информация может быть доступна через магические методы\n",
    "* Недоступную информацию можно получить через модуль inspect"
   ],
   "metadata": {
    "collapsed": false,
    "pycharm": {
     "name": "#%% md\n"
    }
   }
  },
  {
   "cell_type": "code",
   "execution_count": null,
   "outputs": [],
   "source": [
    "import inspect\n",
    "\n",
    "def add(a,b): return a + b\n",
    "inspect.isfunction(add)"
   ],
   "metadata": {
    "collapsed": false,
    "pycharm": {
     "name": "#%%\n"
    }
   }
  },
  {
   "cell_type": "code",
   "execution_count": null,
   "outputs": [],
   "source": [
    "inspect.getsource(add)"
   ],
   "metadata": {
    "collapsed": false,
    "pycharm": {
     "name": "#%%\n"
    }
   }
  },
  {
   "cell_type": "code",
   "execution_count": null,
   "outputs": [],
   "source": [
    "from numpy import random\n",
    "inspect.getsource(random)"
   ],
   "metadata": {
    "collapsed": false,
    "pycharm": {
     "name": "#%%\n"
    }
   }
  },
  {
   "cell_type": "markdown",
   "source": [
    "# Модуль inspect --- информация об объектах в runtime\n",
    "\n",
    "* Не вся информация может быть доступна через магические методы\n",
    "* Недоступную информацию можно получить через модуль inspect"
   ],
   "metadata": {
    "collapsed": false,
    "pycharm": {
     "name": "#%% md\n"
    }
   }
  },
  {
   "cell_type": "code",
   "execution_count": 2,
   "outputs": [
    {
     "data": {
      "text/plain": "True"
     },
     "execution_count": 2,
     "metadata": {},
     "output_type": "execute_result"
    }
   ],
   "source": [
    "import inspect\n",
    "\n",
    "def add(a,b): return a + b\n",
    "inspect.isfunction(add)"
   ],
   "metadata": {
    "collapsed": false,
    "pycharm": {
     "name": "#%%\n"
    }
   }
  },
  {
   "cell_type": "code",
   "execution_count": 12,
   "outputs": [
    {
     "data": {
      "text/plain": "'def add(a,b): return a + b\\n'"
     },
     "execution_count": 12,
     "metadata": {},
     "output_type": "execute_result"
    }
   ],
   "source": [
    "inspect.getsource(add)"
   ],
   "metadata": {
    "collapsed": false,
    "pycharm": {
     "name": "#%%\n"
    }
   }
  },
  {
   "cell_type": "code",
   "execution_count": 3,
   "outputs": [
    {
     "data": {
      "text/plain": "'\"\"\"\\n========================\\nRandom Number Generation\\n========================\\n\\nUse ``default_rng()`` to create a `Generator` and call its methods.\\n\\n=============== =========================================================\\nGenerator\\n--------------- ---------------------------------------------------------\\nGenerator       Class implementing all of the random number distributions\\ndefault_rng     Default constructor for ``Generator``\\n=============== =========================================================\\n\\n============================================= ===\\nBitGenerator Streams that work with Generator\\n--------------------------------------------- ---\\nMT19937\\nPCG64\\nPCG64DXSM\\nPhilox\\nSFC64\\n============================================= ===\\n\\n============================================= ===\\nGetting entropy to initialize a BitGenerator\\n--------------------------------------------- ---\\nSeedSequence\\n============================================= ===\\n\\n\\nLegacy\\n------\\n\\nFor backwards compatibility with previous versions of numpy before 1.17, the\\nvarious aliases to the global `RandomState` methods are left alone and do not\\nuse the new `Generator` API.\\n\\n==================== =========================================================\\nUtility functions\\n-------------------- ---------------------------------------------------------\\nrandom               Uniformly distributed floats over ``[0, 1)``\\nbytes                Uniformly distributed random bytes.\\npermutation          Randomly permute a sequence / generate a random sequence.\\nshuffle              Randomly permute a sequence in place.\\nchoice               Random sample from 1-D array.\\n==================== =========================================================\\n\\n==================== =========================================================\\nCompatibility\\nfunctions - removed\\nin the new API\\n-------------------- ---------------------------------------------------------\\nrand                 Uniformly distributed values.\\nrandn                Normally distributed values.\\nranf                 Uniformly distributed floating point numbers.\\nrandom_integers      Uniformly distributed integers in a given range.\\n                     (deprecated, use ``integers(..., closed=True)`` instead)\\nrandom_sample        Alias for `random_sample`\\nrandint              Uniformly distributed integers in a given range\\nseed                 Seed the legacy random number generator.\\n==================== =========================================================\\n\\n==================== =========================================================\\nUnivariate\\ndistributions\\n-------------------- ---------------------------------------------------------\\nbeta                 Beta distribution over ``[0, 1]``.\\nbinomial             Binomial distribution.\\nchisquare            :math:`\\\\\\\\chi^2` distribution.\\nexponential          Exponential distribution.\\nf                    F (Fisher-Snedecor) distribution.\\ngamma                Gamma distribution.\\ngeometric            Geometric distribution.\\ngumbel               Gumbel distribution.\\nhypergeometric       Hypergeometric distribution.\\nlaplace              Laplace distribution.\\nlogistic             Logistic distribution.\\nlognormal            Log-normal distribution.\\nlogseries            Logarithmic series distribution.\\nnegative_binomial    Negative binomial distribution.\\nnoncentral_chisquare Non-central chi-square distribution.\\nnoncentral_f         Non-central F distribution.\\nnormal               Normal / Gaussian distribution.\\npareto               Pareto distribution.\\npoisson              Poisson distribution.\\npower                Power distribution.\\nrayleigh             Rayleigh distribution.\\ntriangular           Triangular distribution.\\nuniform              Uniform distribution.\\nvonmises             Von Mises circular distribution.\\nwald                 Wald (inverse Gaussian) distribution.\\nweibull              Weibull distribution.\\nzipf                 Zipf\\'s distribution over ranked data.\\n==================== =========================================================\\n\\n==================== ==========================================================\\nMultivariate\\ndistributions\\n-------------------- ----------------------------------------------------------\\ndirichlet            Multivariate generalization of Beta distribution.\\nmultinomial          Multivariate generalization of the binomial distribution.\\nmultivariate_normal  Multivariate generalization of the normal distribution.\\n==================== ==========================================================\\n\\n==================== =========================================================\\nStandard\\ndistributions\\n-------------------- ---------------------------------------------------------\\nstandard_cauchy      Standard Cauchy-Lorentz distribution.\\nstandard_exponential Standard exponential distribution.\\nstandard_gamma       Standard Gamma distribution.\\nstandard_normal      Standard normal distribution.\\nstandard_t           Standard Student\\'s t-distribution.\\n==================== =========================================================\\n\\n==================== =========================================================\\nInternal functions\\n-------------------- ---------------------------------------------------------\\nget_state            Get tuple representing internal state of generator.\\nset_state            Set state of generator.\\n==================== =========================================================\\n\\n\\n\"\"\"\\n__all__ = [\\n    \\'beta\\',\\n    \\'binomial\\',\\n    \\'bytes\\',\\n    \\'chisquare\\',\\n    \\'choice\\',\\n    \\'dirichlet\\',\\n    \\'exponential\\',\\n    \\'f\\',\\n    \\'gamma\\',\\n    \\'geometric\\',\\n    \\'get_state\\',\\n    \\'gumbel\\',\\n    \\'hypergeometric\\',\\n    \\'laplace\\',\\n    \\'logistic\\',\\n    \\'lognormal\\',\\n    \\'logseries\\',\\n    \\'multinomial\\',\\n    \\'multivariate_normal\\',\\n    \\'negative_binomial\\',\\n    \\'noncentral_chisquare\\',\\n    \\'noncentral_f\\',\\n    \\'normal\\',\\n    \\'pareto\\',\\n    \\'permutation\\',\\n    \\'poisson\\',\\n    \\'power\\',\\n    \\'rand\\',\\n    \\'randint\\',\\n    \\'randn\\',\\n    \\'random\\',\\n    \\'random_integers\\',\\n    \\'random_sample\\',\\n    \\'ranf\\',\\n    \\'rayleigh\\',\\n    \\'sample\\',\\n    \\'seed\\',\\n    \\'set_state\\',\\n    \\'shuffle\\',\\n    \\'standard_cauchy\\',\\n    \\'standard_exponential\\',\\n    \\'standard_gamma\\',\\n    \\'standard_normal\\',\\n    \\'standard_t\\',\\n    \\'triangular\\',\\n    \\'uniform\\',\\n    \\'vonmises\\',\\n    \\'wald\\',\\n    \\'weibull\\',\\n    \\'zipf\\',\\n]\\n\\n# add these for module-freeze analysis (like PyInstaller)\\nfrom . import _pickle\\nfrom . import _common\\nfrom . import _bounded_integers\\n\\nfrom ._generator import Generator, default_rng\\nfrom .bit_generator import SeedSequence, BitGenerator\\nfrom ._mt19937 import MT19937\\nfrom ._pcg64 import PCG64, PCG64DXSM\\nfrom ._philox import Philox\\nfrom ._sfc64 import SFC64\\nfrom .mtrand import *\\n\\n__all__ += [\\'Generator\\', \\'RandomState\\', \\'SeedSequence\\', \\'MT19937\\',\\n            \\'Philox\\', \\'PCG64\\', \\'PCG64DXSM\\', \\'SFC64\\', \\'default_rng\\',\\n            \\'BitGenerator\\']\\n\\n\\ndef __RandomState_ctor():\\n    \"\"\"Return a RandomState instance.\\n\\n    This function exists solely to assist (un)pickling.\\n\\n    Note that the state of the RandomState returned here is irrelevant, as this\\n    function\\'s entire purpose is to return a newly allocated RandomState whose\\n    state pickle can set.  Consequently the RandomState returned by this function\\n    is a freshly allocated copy with a seed=0.\\n\\n    See https://github.com/numpy/numpy/issues/4763 for a detailed discussion\\n\\n    \"\"\"\\n    return RandomState(seed=0)\\n\\n\\nfrom numpy._pytesttester import PytestTester\\ntest = PytestTester(__name__)\\ndel PytestTester\\n'"
     },
     "execution_count": 3,
     "metadata": {},
     "output_type": "execute_result"
    }
   ],
   "source": [
    "from numpy import random\n",
    "inspect.getsource(random)"
   ],
   "metadata": {
    "collapsed": false,
    "pycharm": {
     "name": "#%%\n"
    }
   }
  },
  {
   "cell_type": "code",
   "execution_count": null,
   "outputs": [],
   "source": [],
   "metadata": {
    "collapsed": false,
    "pycharm": {
     "name": "#%%\n"
    }
   }
  }
 ],
 "metadata": {
  "kernelspec": {
   "display_name": "Python 3 (ipykernel)",
   "language": "python",
   "name": "python3"
  },
  "language_info": {
   "codemirror_mode": {
    "name": "ipython",
    "version": 3
   },
   "file_extension": ".py",
   "mimetype": "text/x-python",
   "name": "python",
   "nbconvert_exporter": "python",
   "pygments_lexer": "ipython3",
   "version": "3.9.6"
  }
 },
 "nbformat": 4,
 "nbformat_minor": 5
}